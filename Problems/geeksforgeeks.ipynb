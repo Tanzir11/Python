{
 "cells": [
  {
   "cell_type": "code",
   "execution_count": 29,
   "metadata": {},
   "outputs": [],
   "source": [
    "class Solution:\n",
    "        \n",
    "    def subArraySum(self,arr, n, s): \n",
    "        self.arr = arr\n",
    "        self.n = n\n",
    "        self.s = s\n",
    "        indexes = []\n",
    "        final_res = []\n",
    "        for i in range(len(self.arr)):\n",
    "            subarray = []\n",
    "            for j in range(i,len(self.arr)):\n",
    "                subarray.append(self.arr[j])\n",
    "                if sum(subarray) == self.s:\n",
    "                    print(subarray)\n",
    "                    for i in subarray:\n",
    "                        a = self.arr.index(i)\n",
    "                        # print(a)\n",
    "                        indexes.append(a)\n",
    "                        print(indexes)\n",
    "                    final_res.append(indexes[0])\n",
    "                    final_res.append(indexes[-1])\n",
    "                        \n",
    "                    return final_res"
   ]
  },
  {
   "cell_type": "code",
   "execution_count": 6,
   "metadata": {},
   "outputs": [],
   "source": [
    "class Solution:\n",
    "    \n",
    "    def subArraySum(self,arr, n, s): \n",
    "        self.arr = arr\n",
    "        self.n = n\n",
    "        self.s = s\n",
    "        curr_sum = 0\n",
    "        d = {}\n",
    "        for i in range(len(self.arr)):\n",
    "            subarray = []\n",
    "            for j in range(i,len(self.arr)):\n",
    "                subarray.append(self.arr[j])\n",
    "                curr_sum = sum(subarray)\n",
    "                d[curr_sum]=subarray\n",
    "            print(d)"
   ]
  },
  {
   "cell_type": "code",
   "execution_count": 30,
   "metadata": {},
   "outputs": [],
   "source": [
    "obj = Solution()"
   ]
  },
  {
   "cell_type": "code",
   "execution_count": 31,
   "metadata": {},
   "outputs": [
    {
     "name": "stdout",
     "output_type": "stream",
     "text": [
      "[3, 3]\n",
      "[0]\n",
      "[0, 0]\n"
     ]
    }
   ],
   "source": [
    "a = obj.subArraySum(arr = [3,3],n=2,s=6)"
   ]
  },
  {
   "cell_type": "code",
   "execution_count": 22,
   "metadata": {},
   "outputs": [
    {
     "data": {
      "text/plain": [
       "[0, 0]"
      ]
     },
     "execution_count": 22,
     "metadata": {},
     "output_type": "execute_result"
    }
   ],
   "source": [
    "a"
   ]
  },
  {
   "cell_type": "code",
   "execution_count": null,
   "metadata": {},
   "outputs": [],
   "source": []
  }
 ],
 "metadata": {
  "kernelspec": {
   "display_name": "Python 3",
   "language": "python",
   "name": "python3"
  },
  "language_info": {
   "codemirror_mode": {
    "name": "ipython",
    "version": 3
   },
   "file_extension": ".py",
   "mimetype": "text/x-python",
   "name": "python",
   "nbconvert_exporter": "python",
   "pygments_lexer": "ipython3",
   "version": "3.10.9"
  }
 },
 "nbformat": 4,
 "nbformat_minor": 2
}
