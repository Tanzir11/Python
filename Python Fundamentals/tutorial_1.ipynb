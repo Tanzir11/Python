{
 "cells": [
  {
   "cell_type": "markdown",
   "metadata": {},
   "source": [
    "### Operators in Python"
   ]
  },
  {
   "cell_type": "markdown",
   "metadata": {
    "vscode": {
     "languageId": "plaintext"
    }
   },
   "source": [
    "#### Arthmetic operators"
   ]
  },
  {
   "cell_type": "code",
   "execution_count": 5,
   "metadata": {},
   "outputs": [
    {
     "name": "stdout",
     "output_type": "stream",
     "text": [
      "21\n",
      "11\n",
      "80\n",
      "3.2\n",
      "3\n",
      "1\n",
      "1048576\n"
     ]
    }
   ],
   "source": [
    "print(16+5)\n",
    "print(16-5)\n",
    "print(16*5)\n",
    "print(16/5)\n",
    "print(16//5) #integer division\n",
    "print(16%5) # modulas operators returns the remainder\n",
    "print(16**5) # Power operators"
   ]
  },
  {
   "cell_type": "markdown",
   "metadata": {},
   "source": [
    "#### Relational operators"
   ]
  },
  {
   "cell_type": "code",
   "execution_count": 7,
   "metadata": {},
   "outputs": [
    {
     "name": "stdout",
     "output_type": "stream",
     "text": [
      "False\n",
      "True\n",
      "True\n",
      "True\n",
      "True\n",
      "False\n"
     ]
    }
   ],
   "source": [
    "print(4>5) # greater than operator\n",
    "print(4<5) # less then operator\n",
    "print(4>=4) # greater than equal to opertor\n",
    "print(4<=5) # less than equal to\n",
    "print(4==4) # equal to\n",
    "print(4!=4) # not equal to operatos"
   ]
  },
  {
   "cell_type": "markdown",
   "metadata": {},
   "source": [
    "### Logical operators"
   ]
  },
  {
   "cell_type": "markdown",
   "metadata": {},
   "source": [
    "#### And Operator"
   ]
  },
  {
   "cell_type": "markdown",
   "metadata": {},
   "source": [
    "AND operator tabhi True return karta hai jab uske dono conditions True hon. Agar ek bhi condition False hui, toh result False hoga.\n",
    "```bash\n",
    "Syntax\n",
    "```\n",
    "\n",
    "```python\n",
    "condition1 and condition2\n",
    "```"
   ]
  },
  {
   "cell_type": "code",
   "execution_count": 12,
   "metadata": {},
   "outputs": [
    {
     "name": "stdout",
     "output_type": "stream",
     "text": [
      "Dono numbers positive hain\n"
     ]
    }
   ],
   "source": [
    "a = 5\n",
    "b = 10\n",
    "\n",
    "# AND operator use karke\n",
    "if a > 0 and b > 0:\n",
    "    print(\"Dono numbers positive hain\")\n",
    "else:\n",
    "    print(\"Koi ek ya dono numbers negative hain\")\n"
   ]
  },
  {
   "cell_type": "markdown",
   "metadata": {},
   "source": [
    "Is example mein, a > 0 bhi True hai aur b > 0 bhi True hai. Toh AND operator dono conditions ko check karega, aur kyunki dono True hain, output hoga \"Dono numbers positive hain\"."
   ]
  },
  {
   "cell_type": "code",
   "execution_count": 13,
   "metadata": {},
   "outputs": [
    {
     "name": "stdout",
     "output_type": "stream",
     "text": [
      "x 10 se chhota hai aur y 10 se bada hai\n"
     ]
    }
   ],
   "source": [
    "x = 7\n",
    "y = 12\n",
    "\n",
    "if x < 10 and y > 10:\n",
    "    print(\"x 10 se chhota hai aur y 10 se bada hai\")\n",
    "else:\n",
    "    print(\"Condition match nahi hui\")\n"
   ]
  },
  {
   "cell_type": "code",
   "execution_count": 14,
   "metadata": {},
   "outputs": [
    {
     "name": "stdout",
     "output_type": "stream",
     "text": [
      "Condition match nahi hui\n"
     ]
    }
   ],
   "source": [
    "x = 4\n",
    "y = 9\n",
    "\n",
    "if x > 5 and y > 10:\n",
    "    print(\"x 5 se bada hai aur y 10 se bada hai\")\n",
    "else:\n",
    "    print(\"Condition match nahi hui\")\n"
   ]
  },
  {
   "cell_type": "markdown",
   "metadata": {},
   "source": [
    "Yahan par, x > 5 False hai, toh chahe y > 10 True ho, output \"Condition match nahi hui\" hi hoga kyunki AND operator tabhi True deta hai jab dono conditions True hon."
   ]
  },
  {
   "cell_type": "code",
   "execution_count": 8,
   "metadata": {},
   "outputs": [
    {
     "name": "stdout",
     "output_type": "stream",
     "text": [
      "0\n"
     ]
    }
   ],
   "source": [
    "print(1 and 0)"
   ]
  },
  {
   "cell_type": "markdown",
   "metadata": {},
   "source": [
    "Python mein `and` operator ko use karne par, result first false value hoti hai jo woh encounter karta hai, ya agar dono true hain, toh last true value return karta hai. Tumne `print(1 and 0)` use kiya hai, toh chalo isko breakdown karte hain.\n",
    "\n",
    "***Breakdown:***\n",
    "\n",
    "1. **Pehla operand**: `1` (jo Python mein `True` ke barabar hai)\n",
    "2. **Doosra operand**: `0` (jo Python mein `False` ke barabar hai)\n",
    "\n",
    "Jab `and` operator evaluate hota hai, toh:\n",
    "- Pehle woh check karta hai pehli value (`1`). Kyunki yeh `True` hai, ab yeh agla operand check karega.\n",
    "- Doosri value (`0`) check karta hai, jo `False` hai.\n",
    "\n",
    "Kyuki `and` operator tabhi `True` return karta hai jab dono values `True` hoti hain, aur yahan `0` `False` hai, toh `and` operator `0` return karta hai. "
   ]
  },
  {
   "cell_type": "code",
   "execution_count": 9,
   "metadata": {},
   "outputs": [
    {
     "name": "stdout",
     "output_type": "stream",
     "text": [
      "1\n"
     ]
    }
   ],
   "source": [
    "print(1 and 1)"
   ]
  },
  {
   "cell_type": "markdown",
   "metadata": {},
   "source": [
    "#### OR Operator"
   ]
  },
  {
   "cell_type": "markdown",
   "metadata": {},
   "source": [
    "Ye AND operator se thoda different hota hai, aur use karne mein bhi alag hai. Chalo, OR operator ko samajhte hain.\n",
    "\n",
    "***OR Operator kya hai?***\n",
    "\n",
    "OR operator tab `True` return karta hai jab uske dono ya kisi ek condition `True` ho. Sirf tab `False` return karta hai jab dono conditions `False` hon.\n",
    "\n",
    "***Syntax***\n",
    "```python\n",
    "condition1 or condition2\n",
    "```"
   ]
  },
  {
   "cell_type": "code",
   "execution_count": 15,
   "metadata": {},
   "outputs": [
    {
     "name": "stdout",
     "output_type": "stream",
     "text": [
      "Kam se kam ek number positive hai\n"
     ]
    }
   ],
   "source": [
    "a = 5\n",
    "b = -3\n",
    "\n",
    "# OR operator use karke\n",
    "if a > 0 or b > 0:\n",
    "    print(\"Kam se kam ek number positive hai\")\n",
    "else:\n",
    "    print(\"Dono numbers negative hain\")"
   ]
  },
  {
   "cell_type": "markdown",
   "metadata": {},
   "source": [
    "Is example mein, `a > 0` `True` hai aur `b > 0` `False` hai. Kyunki OR operator mein sirf ek condition `True` hone se hi output `True` ho jata hai, isliye output hoga \"Kam se kam ek number positive hai\"."
   ]
  },
  {
   "cell_type": "code",
   "execution_count": 17,
   "metadata": {},
   "outputs": [
    {
     "name": "stdout",
     "output_type": "stream",
     "text": [
      "Kam se kam ek number 10 se bada hai\n"
     ]
    }
   ],
   "source": [
    "x = 7\n",
    "y = 12\n",
    "\n",
    "if x > 10 or y > 10:\n",
    "    print(\"Kam se kam ek number 10 se bada hai\")\n",
    "else:\n",
    "    print(\"Dono numbers 10 se chhote hain\")\n",
    " "
   ]
  },
  {
   "cell_type": "markdown",
   "metadata": {},
   "source": [
    "Yahan par, `x > 10` `False` hai lekin `y > 10` `True` hai, toh output hoga \"Kam se kam ek number 10 se bada hai\".\n"
   ]
  },
  {
   "cell_type": "code",
   "execution_count": 18,
   "metadata": {},
   "outputs": [
    {
     "name": "stdout",
     "output_type": "stream",
     "text": [
      "Dono conditions false hain\n"
     ]
    }
   ],
   "source": [
    "x = 4\n",
    "y = 8\n",
    "if x > 5 or y > 10:\n",
    "    print(\"Kam se kam ek condition true hai\")\n",
    "else:\n",
    "    print(\"Dono conditions false hain\")"
   ]
  },
  {
   "cell_type": "markdown",
   "metadata": {},
   "source": [
    "\n",
    "Yahan par, `x > 5` bhi `False` hai aur `y > 10` bhi `False` hai, isliye output hoga \"Dono conditions false hain\"."
   ]
  },
  {
   "cell_type": "code",
   "execution_count": 19,
   "metadata": {},
   "outputs": [
    {
     "name": "stdout",
     "output_type": "stream",
     "text": [
      "1\n"
     ]
    }
   ],
   "source": [
    "print(1 or 0)"
   ]
  },
  {
   "cell_type": "markdown",
   "metadata": {},
   "source": [
    "***Breakdown:***\n",
    "1. **Pehla operand**: `1` (jo Python mein `True` ke barabar hai)\n",
    "2. **Doosra operand**: `0` (jo Python mein `False` ke barabar hai)\n",
    "\n",
    "OR operator evaluation:\n",
    "- Pehli value `1` check karta hai. Kyunki yeh `True` hai, aur OR operator ko sirf ek `True` value chahiye hoti hai, isliye woh aage check kiye bina hi pehli `True` value return kar deta hai.\n",
    "\n",
    "Iska output hoga `1` kyunki pehli condition `True` thi. OR operator ko jaisi hi ek `True` milti hai, woh wahi value return kar deta hai."
   ]
  },
  {
   "cell_type": "markdown",
   "metadata": {},
   "source": [
    "#### NOT operator"
   ]
  },
  {
   "cell_type": "markdown",
   "metadata": {},
   "source": [
    "`not` operator logical operations mein kaafi useful hota hai, kyunki yeh kisi bhi condition ko ulta (invert) kar deta hai.\n",
    "\n",
    "*** `not` Operator kya hai?***\n",
    "`not` operator ek logical operator hai jo kisi bhi condition ka opposite result deta hai:\n",
    "- Agar condition `True` hai, toh `not` usko `False` kar deta hai.\n",
    "- Agar condition `False` hai, toh `not` usko `True` kar deta hai.\n",
    "\n",
    "*** Syntax***\n",
    "```python\n",
    "not condition\n",
    "```\n"
   ]
  },
  {
   "cell_type": "code",
   "execution_count": 21,
   "metadata": {},
   "outputs": [
    {
     "name": "stdout",
     "output_type": "stream",
     "text": [
      "Aaj dhup nahi hai, baarish ho sakti hai.\n"
     ]
    }
   ],
   "source": [
    "is_sunny = False\n",
    "\n",
    "if not is_sunny:\n",
    "    print(\"Aaj dhup nahi hai, baarish ho sakti hai.\")\n",
    "else:\n",
    "    print(\"Aaj dhup hai, weather accha hai!\")"
   ]
  },
  {
   "cell_type": "markdown",
   "metadata": {},
   "source": [
    "Is example mein, `is_sunny` `False` hai, toh `not is_sunny` `True` ho jayega. Isliye output hoga \"Aaj dhup nahi hai, baarish ho sakti hai.\"\n"
   ]
  },
  {
   "cell_type": "code",
   "execution_count": 22,
   "metadata": {},
   "outputs": [
    {
     "name": "stdout",
     "output_type": "stream",
     "text": [
      "Chhatri le jaana na bhulna!\n"
     ]
    }
   ],
   "source": [
    "is_raining = True\n",
    "if not is_raining:\n",
    "    print(\"Bahaar jaane ka plan bana sakte hain!\")\n",
    "else:\n",
    "    print(\"Chhatri le jaana na bhulna!\")"
   ]
  },
  {
   "cell_type": "markdown",
   "metadata": {},
   "source": [
    "\n",
    "    Yahan par, `is_raining` `True` hai, toh `not is_raining` `False` ho jayega. Isliye output hoga \"Chhatri le jaana na bhulna!\"\n"
   ]
  },
  {
   "cell_type": "code",
   "execution_count": 23,
   "metadata": {},
   "outputs": [
    {
     "name": "stdout",
     "output_type": "stream",
     "text": [
      "Yeh vyakti student nahi hai.\n"
     ]
    }
   ],
   "source": [
    "is_student = False\n",
    "if not is_student:\n",
    "    print(\"Yeh vyakti student nahi hai.\")\n",
    "else:\n",
    "    print(\"Yeh vyakti student hai.\")"
   ]
  },
  {
   "cell_type": "markdown",
   "metadata": {},
   "source": [
    " Yahan par, `is_student` `False` hai, toh `not is_student` `True` ho jayega. Isliye output hoga \"Yeh vyakti student nahi hai.\"\n"
   ]
  },
  {
   "cell_type": "code",
   "execution_count": 24,
   "metadata": {},
   "outputs": [
    {
     "name": "stdout",
     "output_type": "stream",
     "text": [
      "x ki value False hai\n"
     ]
    }
   ],
   "source": [
    "x = 0\n",
    "if not x:\n",
    "    print(\"x ki value False hai\")\n",
    "else:\n",
    "    print(\"x ki value True hai\")"
   ]
  },
  {
   "cell_type": "markdown",
   "metadata": {},
   "source": [
    "Yahan par, `x` `0` hai jo `False` ke barabar hota hai. `not x` `True` ho jayega, toh output hoga \"x ki value False hai\"."
   ]
  },
  {
   "cell_type": "markdown",
   "metadata": {},
   "source": [
    "***Summary:***\n",
    "- `not True` → `False`\n",
    "- `not False` → `True`\n",
    "- `not 1` → `False`\n",
    "- `not 0` →  `True`\n",
    "\n",
    "`not` operator simply kisi bhi logical expression ko ulta kar deta hai. Isliye, yeh use karne mein simple aur kaafi helpful hota hai logical decisions lene ke liye.\n",
    "\n",
    "Samajh mein aaya na? Ya phir koi specific example chahiye tumhe `not` operator ke saath? 😊"
   ]
  },
  {
   "cell_type": "code",
   "execution_count": 25,
   "metadata": {},
   "outputs": [
    {
     "name": "stdout",
     "output_type": "stream",
     "text": [
      "False\n"
     ]
    }
   ],
   "source": [
    "print(not 1)"
   ]
  },
  {
   "cell_type": "markdown",
   "metadata": {},
   "source": [
    "### Bitwise Operators"
   ]
  },
  {
   "cell_type": "markdown",
   "metadata": {},
   "source": [
    "Bitwise operators numbers ke binary representation pe directly kaam karte hain. Har bit ke level pe operations perform hote hain."
   ]
  },
  {
   "cell_type": "markdown",
   "metadata": {},
   "source": [
    "Common Bitwise Operators:\n",
    "1. & (AND): Har bit ko compare karta hai, aur dono bits 1 hone par hi 1 return karta hai. Warna 0.\n",
    "2. | (OR): Har bit ko compare karta hai, aur kisi ek bit me 1 hone par 1 return karta hai.\n",
    "3. ^ (XOR): Har bit ko compare karta hai, aur bits different hone par 1 return karta hai.\n",
    "4. ~ (NOT): Bits ko invert karta hai (1s ko 0s mein aur 0s ko 1s mein badalta hai)."
   ]
  },
  {
   "cell_type": "markdown",
   "metadata": {},
   "source": [
    "#### Bitwise And(&) operator"
   ]
  },
  {
   "cell_type": "code",
   "execution_count": 26,
   "metadata": {},
   "outputs": [
    {
     "name": "stdout",
     "output_type": "stream",
     "text": [
      "2\n"
     ]
    }
   ],
   "source": [
    "print(2 & 3)"
   ]
  },
  {
   "cell_type": "markdown",
   "metadata": {},
   "source": [
    "Step 1: Convert to Binary\n",
    "2 in binary: 10\n",
    "3 in binary: 11\n",
    "Step 2: Bitwise AND Operation\n",
    "sql\n",
    "```sql\n",
    "  10  (Binary of 2)\n",
    "& 11  (Binary of 3)\n",
    "------\n",
    "  10  (Result in binary, which is 2 in decimal)\n",
    "```\n",
    "Yahaan par bit-by-bit comparison hota hai:\n",
    "\n",
    "First bit: 1 & 1 = 1\n",
    "Second bit: 0 & 1 = 0\n",
    "Final result in binary: 10 (jo decimal mein 2 hai).\n",
    "\n",
    "Visualization\n",
    "```sql\n",
    "Copy code\n",
    "  10  (2 in binary)\n",
    "& 11  (3 in binary)\n",
    "------\n",
    "  10  (Result, 2 in binary)\n",
    "  ```\n",
    "Why is the Result 2?\n",
    "\n",
    "-Jab hum 2 (binary 10) aur 3 (binary 11) pe bitwise & lagate hain, toh sirf wahi bits 1 ho sakte hain jahan dono bits 1 hain.\n",
    "- First bit me dono numbers ke paas 1 hai, isliye result me bhi 1 hai.\n",
    "- Second bit me sirf ek number ke paas 1 hai, doosre ke paas 0, isliye result 0 ho jata hai.\n",
    "- Isliye, print(2 & 3) ka output 2 hai."
   ]
  },
  {
   "cell_type": "markdown",
   "metadata": {},
   "source": [
    "#### bitwise OR(|) operator"
   ]
  },
  {
   "cell_type": "markdown",
   "metadata": {},
   "source": [
    "***Explanation***\n",
    "\n",
    "Step 1: Convert to Binary\n",
    "```bash\n",
    "2 in binary: 010\n",
    "3 in binary: 110\n",
    "```\n",
    "\n",
    "Step 2: Bitwise AND Operation\n",
    "```sql\n",
    "  010  (Binary of 2)\n",
    "& 111  (Binary of 3)\n",
    " ----\n",
    "  010  (Result in binary, which is 2 in decimal)\n",
    "```\n",
    "\n",
    "Yahaan par bit-by-bit comparison hota hai:\n",
    "\n",
    "First bit: 1 & 1 = 1\n",
    "Second bit: 0 & 1 = 0\n",
    "Final result in binary: 10 (jo decimal mein 2 hai).\n",
    "\n",
    "Visualization\n",
    "\n",
    "```bash\n",
    "  10  (2 in binary)\n",
    "& 11  (3 in binary)\n",
    "------\n",
    "  10  (Result, 2 in binary)\n",
    "```\n",
    "\n",
    "Why is the Result 2?\n",
    "\n",
    "- Jab hum 2 (binary 10) aur 3 (binary 11) pe bitwise `&` lagate hain, toh sirf wahi bits 1 ho sakte hain jahan dono bits 1 hain.\n",
    "First bit me dono numbers ke paas 1 hai, isliye result me bhi 1 hai.\n",
    "Second bit me sirf ek number ke paas 1 hai, doosre ke paas 0, isliye result 0 ho jata hai.\n",
    "Isliye, print(2 & 3) ka output 2 hai."
   ]
  },
  {
   "cell_type": "markdown",
   "metadata": {},
   "source": [
    " `|` (bitwise OR) operator ka use bhi binary numbers pe hota hai, aur yeh AND operator se thoda different kaam karta hai\n",
    "\n",
    " Bitwise OR (|) Operator kya hai?\n",
    "- Bitwise OR operator har bit ko compare karta hai aur agar kisi bhi bit mein 1 hai, toh result mein 1 hota hai. Sirf tab 0 hota hai jab dono bits 0 hon."
   ]
  },
  {
   "cell_type": "code",
   "execution_count": 27,
   "metadata": {},
   "outputs": [
    {
     "name": "stdout",
     "output_type": "stream",
     "text": [
      "3\n"
     ]
    }
   ],
   "source": [
    "print(2 | 3)"
   ]
  },
  {
   "cell_type": "markdown",
   "metadata": {},
   "source": [
    "Step 1: Convert to Binary\n",
    "\n",
    "2 in binary: 10\n",
    "3 in binary: 11\n",
    "\n",
    "Step 2: Bitwise OR Operation\n",
    "```sql\n",
    "  10  (Binary of 2)\n",
    "| 11  (Binary of 3)\n",
    "------\n",
    "  11  (Result in binary, which is 3 in decimal)\n",
    "```\n",
    "\n",
    "Yahaan par bit-by-bit comparison hota hai:\n",
    "\n",
    "First bit: 1 | 1 = 1\n",
    "Second bit: 0 | 1 = 1\n",
    "Final result in binary: 11 (jo decimal mein 3 hai).\n",
    "\n",
    "Visualization\n",
    "```sql\n",
    "  10  (2 in binary)\n",
    "| 11  (3 in binary)\n",
    "------\n",
    "  11  (Result, 3 in binary)\n",
    "```\n",
    "\n",
    "Why is the Result 3?\n",
    "- Jab hum 2 (binary 10) aur 3 (binary 11) pe bitwise | lagate hain, toh sirf wahi bits 1 ho sakte hain jahan kisi ek bit mein 1 ho.\n",
    "- First bit me dono numbers ke paas 1 hai, isliye result me bhi 1 hai.\n",
    "- Second bit me ek number ke paas 0 hai aur doosre ke paas 1 hai, toh OR ke case mein 1 hi rahega.\n",
    "Isliye, print(2 | 3) ka output 3 hai."
   ]
  },
  {
   "cell_type": "code",
   "execution_count": 29,
   "metadata": {},
   "outputs": [
    {
     "name": "stdout",
     "output_type": "stream",
     "text": [
      "5\n"
     ]
    }
   ],
   "source": [
    "a = 4  # Binary: 100\n",
    "b = 5  # Binary: 101\n",
    "\n",
    "print(a | b)\n"
   ]
  },
  {
   "cell_type": "markdown",
   "metadata": {},
   "source": [
    "\n",
    "```sql\n",
    "a = 4  # Binary: 100\n",
    "b = 5  # Binary: 101\n",
    "\n",
    "print(a | b)\n",
    "```\n",
    "\n",
    "4 in binary: 100\n",
    "5 in binary: 101\n",
    "\n",
    "Operation:\n",
    "\n",
    "```sql\n",
    "  100  (4 in binary)\n",
    "| 101  (5 in binary)\n",
    "------\n",
    "  101  (Result, 5 in binary)\n",
    "```\n",
    "Yahaan result 101 aayega, jo 5 hai. Toh output hoga 5."
   ]
  },
  {
   "cell_type": "markdown",
   "metadata": {},
   "source": [
    "#### XOR(^) Operators"
   ]
  },
  {
   "cell_type": "markdown",
   "metadata": {},
   "source": [
    "XOR (exclusive OR) operator kaam kaafi interesting hota hai, aur logical operations ke liye kaafi use hota hai. Chalo, bitwise XOR operator ko detail mein samajhte hain.\n",
    "\n",
    "Bitwise XOR (^) Operator kya hai?\n",
    "\n",
    "XOR operator do bits ko compare karta hai.\n",
    "Yeh 1 return karta hai jab exactly ek bit 1 ho. Matlab, agar dono bits alag-alag ho (ek 0 aur ek 1), toh result 1 hota hai.\n",
    "Agar dono bits same hain (dono 0 ya dono 1), toh result 0 hota hai."
   ]
  },
  {
   "cell_type": "code",
   "execution_count": 31,
   "metadata": {},
   "outputs": [
    {
     "name": "stdout",
     "output_type": "stream",
     "text": [
      "1\n"
     ]
    }
   ],
   "source": [
    "print(2^3)"
   ]
  },
  {
   "cell_type": "markdown",
   "metadata": {},
   "source": [
    "Step 1: Convert to Binary\n",
    "2 in binary: 10\n",
    "3 in binary: 11\n",
    "Step 2: Bitwise XOR Operation\n",
    "```sql\n",
    "  10  (Binary of 2)\n",
    "^ 11  (Binary of 3)\n",
    "------\n",
    "  01  (Result in binary, which is 1 in decimal)\n",
    "```\n",
    "Yahaan par bit-by-bit comparison hota hai:\n",
    "\n",
    "First bit: 1 ^ 1 = 0 (kyunki dono same hain)\n",
    "Second bit: 0 ^ 1 = 1 (kyunki dono alag hain)\n",
    "Final result in binary: 01 (jo decimal mein 1 hai).\n",
    "\n",
    "***Visualization***\n",
    "```sql\n",
    "  10  (2 in binary)\n",
    "^ 11  (3 in binary)\n",
    "------\n",
    "  01  (Result, 1 in binary)\n",
    "```\n",
    "Why is the Result 1?\n",
    "Jab hum 2 (binary 10) aur 3 (binary 11) pe bitwise ^ lagate hain, toh XOR sirf tab 1 deta hai jab bits different ho.\n",
    "First bit me dono bits same hain (1), isliye result 0 hai.\n",
    "Second bit me ek 0 hai aur ek 1 hai, isliye result 1 hai.\n",
    "Isliye, print(2 ^ 3) ka output 1 hai."
   ]
  },
  {
   "cell_type": "code",
   "execution_count": 32,
   "metadata": {},
   "outputs": [
    {
     "name": "stdout",
     "output_type": "stream",
     "text": [
      "6\n"
     ]
    }
   ],
   "source": [
    "a = 5  # Binary: 101\n",
    "b = 3  # Binary: 011\n",
    "\n",
    "print(a ^ b)\n"
   ]
  },
  {
   "cell_type": "markdown",
   "metadata": {},
   "source": [
    "5 in binary: 101\n",
    "3 in binary: 011\n",
    "\n",
    "```sql\n",
    "  101  (5 in binary)\n",
    "^ 011  (3 in binary)\n",
    "------\n",
    "  110  (Result, 6 in binary)\n",
    "```\n",
    "Yahaan result 110 aayega, jo 6 hai. Toh output hoga 6\n",
    "\n",
    "Summary:\n",
    "XOR operator 1 return karta hai jab dono bits alag ho.\n",
    "Agar dono bits same hain (ya toh dono 0 ya dono 1), toh result 0 hota hai."
   ]
  },
  {
   "cell_type": "markdown",
   "metadata": {},
   "source": [
    "#### Bitwise NOT(~) operator "
   ]
  },
  {
   "cell_type": "markdown",
   "metadata": {},
   "source": [
    "***Bitwise NOT (`~`) Operator kya hai?***\n",
    "- **Bitwise NOT** operator har bit ko flip (invert) karta hai.\n",
    "- Mathematically, yeh ek unary operator hai, matlab sirf ek operand ke upar kaam karta hai.\n",
    "- Yeh `0` bits ko `1` mein, aur `1` bits ko `0` mein badalta hai.\n"
   ]
  },
  {
   "cell_type": "code",
   "execution_count": 33,
   "metadata": {},
   "outputs": [
    {
     "name": "stdout",
     "output_type": "stream",
     "text": [
      "-4\n"
     ]
    }
   ],
   "source": [
    "print(~3)"
   ]
  },
  {
   "cell_type": "markdown",
   "metadata": {},
   "source": [
    "\n",
    "***Example: `~2`***\n",
    "\n",
    "***Step 1: Convert to Binary***\n",
    "- `2` in binary: `10` (ya 4-bit representation mein: `0010`)\n",
    "\n",
    "***Step 2: Apply Bitwise NOT***\n",
    "- Apply NOT operation: `~0010`\n",
    "\n",
    "Binary inversion:\n",
    "```\n",
    "  0010  (Binary of 2)\n",
    "~ ----\n",
    "  1101  (Inverted result in binary, but since it is a signed integer, we need to consider two's complement)\n",
    "```\n",
    "\n",
    "***Signed Integers and Two's Complement:***\n",
    "- Python mein, numbers signed integers ke roop mein store hote hain. Iska matlab hai ki bitwise NOT `~` operator `-(n+1)` ke barabar result deta hai.\n",
    "\n",
    "***Calculation:***\n",
    "- Decimal representation of `2`: `0010` (4-bit binary)\n",
    "- After applying `~`, result: `1101`\n",
    "- Two's complement of `1101` (to find the negative value): `-(0011 + 1) = -4 - 1 = -3`\n",
    "\n",
    "***Result:***\n",
    "- `~2` will give `-3`.\n",
    "\n",
    "***Ek Aur Example: `~5`***\n",
    "\n",
    "1. **Convert to Binary**: `5` in binary: `0101`\n",
    "2. **Apply NOT**: `~0101 = 1010` (which is `-6` in two's complement form)\n",
    "\n",
    "So, `~5` gives `-6`.\n",
    "\n",
    "***Summary:***\n",
    "- Bitwise NOT simply inverts all bits.\n",
    "- Resulting value is `-(n+1)` when converted back to decimal for signed integers."
   ]
  },
  {
   "cell_type": "markdown",
   "metadata": {},
   "source": [
    "#### Bitwise left shift (>>)"
   ]
  },
  {
   "cell_type": "code",
   "execution_count": 35,
   "metadata": {},
   "outputs": [
    {
     "name": "stdout",
     "output_type": "stream",
     "text": [
      "1\n"
     ]
    }
   ],
   "source": [
    "print(4 >> 2)"
   ]
  },
  {
   "cell_type": "markdown",
   "metadata": {},
   "source": [
    "#### Bitwise right shift (<<)"
   ]
  },
  {
   "cell_type": "code",
   "execution_count": 37,
   "metadata": {},
   "outputs": [
    {
     "name": "stdout",
     "output_type": "stream",
     "text": [
      "20\n"
     ]
    }
   ],
   "source": [
    "print(5 << 2)"
   ]
  },
  {
   "cell_type": "code",
   "execution_count": null,
   "metadata": {},
   "outputs": [],
   "source": []
  },
  {
   "cell_type": "markdown",
   "metadata": {},
   "source": [
    "### Assignment Operators"
   ]
  },
  {
   "cell_type": "markdown",
   "metadata": {},
   "source": [
    "assignment operator is \"=\" assignment operator can be used with various other operators"
   ]
  },
  {
   "cell_type": "code",
   "execution_count": 38,
   "metadata": {},
   "outputs": [
    {
     "data": {
      "text/plain": [
       "4"
      ]
     },
     "execution_count": 38,
     "metadata": {},
     "output_type": "execute_result"
    }
   ],
   "source": [
    "a = 2\n",
    "a+=2\n",
    "a"
   ]
  },
  {
   "cell_type": "code",
   "execution_count": 42,
   "metadata": {},
   "outputs": [
    {
     "data": {
      "text/plain": [
       "6"
      ]
     },
     "execution_count": 42,
     "metadata": {},
     "output_type": "execute_result"
    }
   ],
   "source": [
    "a = 3\n",
    "a*=2\n",
    "a"
   ]
  },
  {
   "cell_type": "code",
   "execution_count": 43,
   "metadata": {},
   "outputs": [
    {
     "data": {
      "text/plain": [
       "0"
      ]
     },
     "execution_count": 43,
     "metadata": {},
     "output_type": "execute_result"
    }
   ],
   "source": [
    "a = 2\n",
    "a%=2\n",
    "a"
   ]
  },
  {
   "cell_type": "code",
   "execution_count": 44,
   "metadata": {},
   "outputs": [
    {
     "data": {
      "text/plain": [
       "0.6666666666666666"
      ]
     },
     "execution_count": 44,
     "metadata": {},
     "output_type": "execute_result"
    }
   ],
   "source": [
    "a = 2\n",
    "a/=3\n",
    "a"
   ]
  },
  {
   "cell_type": "markdown",
   "metadata": {},
   "source": [
    "### Membership Operators"
   ]
  },
  {
   "cell_type": "markdown",
   "metadata": {},
   "source": [
    "Membership operators in Python are used to check whether a particular item exists in a sequence (like a list, tuple, string, etc.) or not. There are two main membership operators in Python:\n",
    "\n",
    "1. in2\n",
    "2. not in"
   ]
  },
  {
   "cell_type": "markdown",
   "metadata": {},
   "source": [
    "1. ***in Operator***\n",
    "\n",
    "The in operator checks if an element is present in a sequence.\n",
    "If the element is found, it returns True; otherwise, it returns False."
   ]
  },
  {
   "cell_type": "code",
   "execution_count": 46,
   "metadata": {},
   "outputs": [
    {
     "name": "stdout",
     "output_type": "stream",
     "text": [
      "Apple is in the list.\n"
     ]
    }
   ],
   "source": [
    "fruits = [\"apple\", \"banana\", \"cherry\"]\n",
    "\n",
    "if \"apple\" in fruits:\n",
    "    print(\"Apple is in the list.\")\n",
    "else:\n",
    "    print(\"Apple is not in the list.\")"
   ]
  },
  {
   "cell_type": "code",
   "execution_count": 47,
   "metadata": {},
   "outputs": [
    {
     "name": "stdout",
     "output_type": "stream",
     "text": [
      "The word 'world' is in the message.\n"
     ]
    }
   ],
   "source": [
    "message = \"Hello, world!\"\n",
    "\n",
    "if \"world\" in message:\n",
    "    print(\"The word 'world' is in the message.\")\n",
    "else:\n",
    "    print(\"The word 'world' is not in the message.\")\n"
   ]
  },
  {
   "cell_type": "markdown",
   "metadata": {},
   "source": [
    "2. ***not in Operator***\n",
    "\n",
    "The not in operator checks if an element is not present in a sequence.\n",
    "If the element is not found, it returns True; otherwise, it returns False."
   ]
  },
  {
   "cell_type": "code",
   "execution_count": 48,
   "metadata": {},
   "outputs": [
    {
     "name": "stdout",
     "output_type": "stream",
     "text": [
      "6 is not in the list.\n"
     ]
    }
   ],
   "source": [
    "numbers = [1, 2, 3, 4, 5]\n",
    "\n",
    "if 6 not in numbers:\n",
    "    print(\"6 is not in the list.\")\n",
    "else:\n",
    "    print(\"6 is in the list.\")\n"
   ]
  },
  {
   "cell_type": "code",
   "execution_count": 49,
   "metadata": {},
   "outputs": [
    {
     "name": "stdout",
     "output_type": "stream",
     "text": [
      "The word 'Java' is not in the text.\n"
     ]
    }
   ],
   "source": [
    "text = \"Python is fun\"\n",
    "\n",
    "if \"Java\" not in text:\n",
    "    print(\"The word 'Java' is not in the text.\")\n",
    "else:\n",
    "    print(\"The word 'Java' is in the text.\")\n"
   ]
  },
  {
   "cell_type": "markdown",
   "metadata": {},
   "source": [
    "Practical Use Cases\n",
    "1. **Lists**: Checking if an item exists in a shopping list or inventory.\n",
    "2. **Strings**: Validating if a certain word or character exists in a user input.\n",
    "3. **Tuples**: Since tuples are immutable lists, you can check if a tuple contains a certain element.\n",
    "4. **Sets**: Due to their unique element property, membership tests in sets are efficient."
   ]
  },
  {
   "cell_type": "code",
   "execution_count": 50,
   "metadata": {},
   "outputs": [
    {
     "name": "stdout",
     "output_type": "stream",
     "text": [
      "You already have bread on your shopping list.\n",
      "Butter is not in the shopping set, please add it.\n"
     ]
    }
   ],
   "source": [
    "shopping_list = [\"milk\", \"bread\", \"eggs\"]\n",
    "shopping_set = {\"milk\", \"bread\", \"eggs\"}\n",
    "\n",
    "# List example\n",
    "if \"bread\" in shopping_list:\n",
    "    print(\"You already have bread on your shopping list.\")\n",
    "\n",
    "# Set example\n",
    "if \"butter\" not in shopping_set:\n",
    "    print(\"Butter is not in the shopping set, please add it.\")\n"
   ]
  },
  {
   "cell_type": "markdown",
   "metadata": {},
   "source": [
    "***Summary***\n",
    "* **in**: Checks if an element exists in a sequence (e.g., x in y).\n",
    "* **not in**: Checks if an element does not exist in a sequence (e.g., x not in y)."
   ]
  },
  {
   "cell_type": "markdown",
   "metadata": {},
   "source": [
    "### Problem: Find the sum of a 3 digit number entered by the user"
   ]
  },
  {
   "cell_type": "code",
   "execution_count": 69,
   "metadata": {},
   "outputs": [
    {
     "name": "stdout",
     "output_type": "stream",
     "text": [
      "Input number: 234\n",
      "The value of a is: 4\n",
      "number after performing integer division is: 23\n",
      "The value of b is: 3\n",
      "number after 2nd integer division is: 2\n",
      "The sum is: 9\n"
     ]
    }
   ],
   "source": [
    "number  = int(input(\"Enter a three digit number\")) # Whenever we take an input python converts it into a string by default.\n",
    "print(\"Input number:\",number)\n",
    "a = number%10\n",
    "print(\"The value of a is:\",a)\n",
    "number = number//10\n",
    "print(\"number after performing integer division is:\", number)\n",
    "b = number%10\n",
    "print(\"The value of b is:\",b)\n",
    "c = number//10\n",
    "print(\"number after 2nd integer division is:\",c)\n",
    "d = a+b+c\n",
    "print(\"The sum is:\",d)"
   ]
  },
  {
   "cell_type": "markdown",
   "metadata": {},
   "source": [
    "### If else in python"
   ]
  },
  {
   "cell_type": "markdown",
   "metadata": {},
   "source": [
    "* if: Executes a block of code if a specified condition is true.\n",
    "* elif: Checks another condition if the previous if or else if condition is false.\n",
    "* else: Executes a block of code if all preceding conditions are false"
   ]
  },
  {
   "cell_type": "code",
   "execution_count": 71,
   "metadata": {},
   "outputs": [
    {
     "name": "stdout",
     "output_type": "stream",
     "text": [
      "Password galat hai\n",
      "Finally sahi kia\n"
     ]
    }
   ],
   "source": [
    "# login program and indentation\n",
    "# email -> Tanzeer.khan98@gmail.com\n",
    "# password -> 1234\n",
    "# String is case sensitive\n",
    "\n",
    "email = input(\"Enter input\")\n",
    "password = input(\"Enter passwrod\")\n",
    "if email == 'Tanzeer.khan98@gmail.com' and password == '1234':\n",
    "    print(\"Ho gya login\")\n",
    "elif email == 'Tanzeer.khan98@gmail.com' and password != '1234':\n",
    "    print(\"Password galat hai\")   \n",
    "    password = input(\"Enter Password:\")\n",
    "    # we can use if elif and else within if elif and else and it's called nested if else\n",
    "    if password == \"1234\":\n",
    "        print(\"Finally sahi kia\")\n",
    "    else:\n",
    "        print(\"na ho paega\")\n",
    "else:\n",
    "    print(\"Nhi hua login\")"
   ]
  },
  {
   "cell_type": "markdown",
   "metadata": {},
   "source": [
    "#### Find the min of 3 numbers"
   ]
  },
  {
   "cell_type": "code",
   "execution_count": 75,
   "metadata": {},
   "outputs": [
    {
     "name": "stdout",
     "output_type": "stream",
     "text": [
      "A is the smallest\n"
     ]
    }
   ],
   "source": [
    "a = int(input(\"Enter the number\"))\n",
    "b = int(input(\"Enter the number\"))\n",
    "c = int(input(\"Enter the number\"))\n",
    "\n",
    "if a<b and a<c:\n",
    "    print(\"A is the smallest\")\n",
    "elif b<c:\n",
    "    print(\"b is the smallest\")\n",
    "else:\n",
    "    print(\"c is the smallest\")"
   ]
  },
  {
   "cell_type": "markdown",
   "metadata": {},
   "source": [
    "#### menu driver calculation"
   ]
  },
  {
   "cell_type": "code",
   "execution_count": 76,
   "metadata": {},
   "outputs": [
    {
     "name": "stdout",
     "output_type": "stream",
     "text": [
      "20\n"
     ]
    }
   ],
   "source": [
    "fnum = int(input(\"Enter the first number\"))\n",
    "snum = int(input(\"Enter the first number\"))\n",
    "\n",
    "op = input(\"Enter the operation\")\n",
    "\n",
    "if op == \"*\":\n",
    "    print(fnum*snum)\n",
    "elif op == \"+\":\n",
    "    print(fnum+snum)\n",
    "else:\n",
    "    print(fnum-snum)"
   ]
  },
  {
   "cell_type": "markdown",
   "metadata": {},
   "source": [
    "### Modules in python"
   ]
  },
  {
   "cell_type": "code",
   "execution_count": 77,
   "metadata": {},
   "outputs": [
    {
     "data": {
      "text/plain": [
       "14.0"
      ]
     },
     "execution_count": 77,
     "metadata": {},
     "output_type": "execute_result"
    }
   ],
   "source": [
    "import math\n",
    "\n",
    "math.sqrt(196)"
   ]
  },
  {
   "cell_type": "code",
   "execution_count": 78,
   "metadata": {},
   "outputs": [
    {
     "name": "stdout",
     "output_type": "stream",
     "text": [
      "['False', 'None', 'True', 'and', 'as', 'assert', 'async', 'await', 'break', 'class', 'continue', 'def', 'del', 'elif', 'else', 'except', 'finally', 'for', 'from', 'global', 'if', 'import', 'in', 'is', 'lambda', 'nonlocal', 'not', 'or', 'pass', 'raise', 'return', 'try', 'while', 'with', 'yield']\n"
     ]
    }
   ],
   "source": [
    "import keyword\n",
    "print(keyword.kwlist)"
   ]
  },
  {
   "cell_type": "code",
   "execution_count": 79,
   "metadata": {},
   "outputs": [
    {
     "name": "stdout",
     "output_type": "stream",
     "text": [
      "88\n"
     ]
    }
   ],
   "source": [
    "import random\n",
    "print(random.randint(1,100))"
   ]
  },
  {
   "cell_type": "code",
   "execution_count": 80,
   "metadata": {},
   "outputs": [
    {
     "name": "stdout",
     "output_type": "stream",
     "text": [
      "2024-08-29 23:04:25.828545\n"
     ]
    }
   ],
   "source": [
    "import datetime\n",
    "print(datetime.datetime.now())"
   ]
  },
  {
   "cell_type": "code",
   "execution_count": null,
   "metadata": {},
   "outputs": [],
   "source": [
    "help('modules')"
   ]
  },
  {
   "cell_type": "markdown",
   "metadata": {},
   "source": [
    "### Loops in Python\n",
    "\n",
    "- Need for loops\n",
    "- While Loop\n",
    "- For Loop"
   ]
  },
  {
   "cell_type": "markdown",
   "metadata": {},
   "source": [
    "A loop is a control structure that allows you to repeat a block of code multiple times. It enables you to automate repetitive tasks by executing the same set of instructions over and over again. In Python, there are two main types of loops: the while loop, which continues execution as long as a specified condition remains true, and the for loop, which iterates over a sequence (such as a list, tuple, or range)."
   ]
  },
  {
   "cell_type": "markdown",
   "metadata": {},
   "source": [
    "#### While loop"
   ]
  },
  {
   "cell_type": "code",
   "execution_count": 83,
   "metadata": {},
   "outputs": [
    {
     "name": "stdout",
     "output_type": "stream",
     "text": [
      "11 * 1 = 11\n",
      "11 * 2 = 22\n",
      "11 * 3 = 33\n",
      "11 * 4 = 44\n",
      "11 * 5 = 55\n",
      "11 * 6 = 66\n",
      "11 * 7 = 77\n",
      "11 * 8 = 88\n",
      "11 * 9 = 99\n",
      "11 * 10 = 110\n"
     ]
    }
   ],
   "source": [
    "number = int(input(\"Enter a number:\"))\n",
    "\n",
    "i=1\n",
    "while i < 11:\n",
    "    print(number, \"*\",i,\"=\",number*i)\n",
    "    i+=1\n"
   ]
  },
  {
   "cell_type": "markdown",
   "metadata": {},
   "source": [
    "#### While loop with else:"
   ]
  },
  {
   "cell_type": "code",
   "execution_count": 84,
   "metadata": {},
   "outputs": [
    {
     "name": "stdout",
     "output_type": "stream",
     "text": [
      "1\n",
      "2\n",
      "Limit crossed\n"
     ]
    }
   ],
   "source": [
    "x = 1\n",
    "\n",
    "while x <3:\n",
    "    print(x)\n",
    "    x+=1\n",
    "\n",
    "else:\n",
    "    print(\"Limit crossed\")"
   ]
  },
  {
   "cell_type": "code",
   "execution_count": 88,
   "metadata": {},
   "outputs": [
    {
     "name": "stdout",
     "output_type": "stream",
     "text": [
      "galat! guess higher\n",
      "galat! guess higher\n",
      "galat! guess higher\n",
      "galat! guess higher\n",
      "galat guess lower\n",
      "galat guess lower\n",
      "galat guess lower\n",
      "galat guess lower\n",
      "galat guess lower\n",
      "galat! guess higher\n",
      "Correct guess\n",
      "Attempts: 11\n"
     ]
    }
   ],
   "source": [
    "# Guess game\n",
    "\n",
    "# generate a random integer between 1 an 100\n",
    "import random\n",
    "jsckpot = random.randint(1,100)\n",
    "\n",
    "guesss = int(input('guess kro'))\n",
    "counter = 1\n",
    "\n",
    "while guesss != jsckpot:\n",
    "    if guesss < jsckpot:\n",
    "        print('galat! guess higher')\n",
    "    else:\n",
    "        print(\"galat guess lower\")\n",
    "    guesss = int(input('guess kro'))\n",
    "    counter +=1\n",
    "else:\n",
    "    print(\"Correct guess\")\n",
    "    print(\"Attempts:\",counter)"
   ]
  },
  {
   "cell_type": "markdown",
   "metadata": {},
   "source": [
    "#### For Loop"
   ]
  },
  {
   "cell_type": "code",
   "execution_count": 90,
   "metadata": {},
   "outputs": [
    {
     "name": "stdout",
     "output_type": "stream",
     "text": [
      "1\n",
      "2\n",
      "3\n",
      "4\n",
      "5\n",
      "6\n",
      "7\n",
      "8\n",
      "9\n",
      "10\n"
     ]
    }
   ],
   "source": [
    "for i in range(1,11):\n",
    "    print(i)"
   ]
  },
  {
   "cell_type": "code",
   "execution_count": 92,
   "metadata": {},
   "outputs": [
    {
     "name": "stdout",
     "output_type": "stream",
     "text": [
      "1\n",
      "3\n",
      "5\n",
      "7\n",
      "9\n"
     ]
    }
   ],
   "source": [
    "### Loop including stepsize\n",
    "for i in range(1,11,2):\n",
    "    print(i)"
   ]
  },
  {
   "cell_type": "code",
   "execution_count": 93,
   "metadata": {},
   "outputs": [
    {
     "name": "stdout",
     "output_type": "stream",
     "text": [
      "10\n",
      "9\n",
      "8\n",
      "7\n",
      "6\n",
      "5\n",
      "4\n",
      "3\n",
      "2\n",
      "1\n"
     ]
    }
   ],
   "source": [
    "### loop in reverse\n",
    "for i in range(10,0,-1):\n",
    "    print(i)"
   ]
  },
  {
   "cell_type": "code",
   "execution_count": 98,
   "metadata": {},
   "outputs": [
    {
     "name": "stdout",
     "output_type": "stream",
     "text": [
      "d\n",
      "e\n",
      "l\n",
      "h\n",
      "i\n"
     ]
    }
   ],
   "source": [
    "### loop in string\n",
    "\n",
    "for i in 'delhi':\n",
    "    print(i)"
   ]
  },
  {
   "cell_type": "code",
   "execution_count": 95,
   "metadata": {},
   "outputs": [
    {
     "name": "stdout",
     "output_type": "stream",
     "text": [
      "1\n",
      "2\n",
      "3\n",
      "4\n"
     ]
    }
   ],
   "source": [
    "### loop in list\n",
    "\n",
    "for i in [1,2,3,4]:\n",
    "    print(i)"
   ]
  },
  {
   "cell_type": "code",
   "execution_count": 96,
   "metadata": {},
   "outputs": [
    {
     "name": "stdout",
     "output_type": "stream",
     "text": [
      "1\n",
      "2\n",
      "3\n",
      "4\n"
     ]
    }
   ],
   "source": [
    "### loop in set\n",
    "\n",
    "for i in {1,2,3,4}:\n",
    "    print(i)"
   ]
  },
  {
   "cell_type": "code",
   "execution_count": 97,
   "metadata": {},
   "outputs": [
    {
     "name": "stdout",
     "output_type": "stream",
     "text": [
      "1\n",
      "2\n",
      "3\n",
      "4\n"
     ]
    }
   ],
   "source": [
    "### loop in tuple\n",
    "\n",
    "for i in (1,2,3,4):\n",
    "    print(i)"
   ]
  },
  {
   "cell_type": "code",
   "execution_count": 99,
   "metadata": {},
   "outputs": [
    {
     "name": "stdout",
     "output_type": "stream",
     "text": [
      "apple\n",
      "banana\n",
      "orange\n"
     ]
    }
   ],
   "source": [
    "### Loop can iterate over dictionary as well\n",
    "\n",
    "my_dict = {'apple': 1, 'banana': 2, 'orange': 3}\n",
    "for key in my_dict:\n",
    "    print(key)\n"
   ]
  },
  {
   "cell_type": "code",
   "execution_count": 100,
   "metadata": {},
   "outputs": [
    {
     "name": "stdout",
     "output_type": "stream",
     "text": [
      "apple 1\n",
      "banana 2\n",
      "orange 3\n"
     ]
    }
   ],
   "source": [
    "my_dict = {'apple': 1, 'banana': 2, 'orange': 3}\n",
    "for key, value in my_dict.items():\n",
    "    print(key, value)\n"
   ]
  },
  {
   "cell_type": "markdown",
   "metadata": {},
   "source": [
    "#### For loop example"
   ]
  },
  {
   "cell_type": "markdown",
   "metadata": {},
   "source": [
    "***Program - The current population of a town is 10000. The population of the town is increasing at the rate of 10% per year. You have to write a program to find out the population at the end of each of the last 10 years.***"
   ]
  },
  {
   "cell_type": "code",
   "execution_count": 1,
   "metadata": {},
   "outputs": [
    {
     "name": "stdout",
     "output_type": "stream",
     "text": [
      "10 10000\n",
      "9 9090.90909090909\n",
      "8 8264.462809917353\n",
      "7 7513.148009015775\n",
      "6 6830.134553650703\n",
      "5 6209.213230591548\n",
      "4 5644.739300537771\n",
      "3 5131.5811823070635\n",
      "2 4665.07380209733\n",
      "1 4240.976183724845\n"
     ]
    }
   ],
   "source": [
    "curr_pop = 10000\n",
    "\n",
    "for i in range(10,0,-1):\n",
    "    print(i,curr_pop)\n",
    "    curr_pop = curr_pop/1.1"
   ]
  },
  {
   "cell_type": "markdown",
   "metadata": {},
   "source": [
    "***Sequence Sum***\n",
    "* 1/1! + 2/2! + 3/3! + ....."
   ]
  },
  {
   "cell_type": "code",
   "execution_count": 103,
   "metadata": {},
   "outputs": [
    {
     "name": "stdout",
     "output_type": "stream",
     "text": [
      "2.6666666666666665\n"
     ]
    }
   ],
   "source": [
    "number = int(input(\"Enter the preffered number\"))\n",
    "\n",
    "result = 0\n",
    "fact = 1\n",
    "for i in range(1,number+1):\n",
    "    fact = fact*i # runnning variable jo har baar chal rha hai and update ho rha hai\n",
    "    result = result + i/fact\n",
    "print(result)\n"
   ]
  },
  {
   "cell_type": "markdown",
   "metadata": {},
   "source": [
    "### Nested loops"
   ]
  },
  {
   "cell_type": "markdown",
   "metadata": {},
   "source": [
    "#### Problem: Print the pairs in 1,2,3,4 \n",
    "The output should be (1,1), (1,2), (1,3), (1,4), (2,1), (2,2)..."
   ]
  },
  {
   "cell_type": "code",
   "execution_count": 2,
   "metadata": {},
   "outputs": [
    {
     "name": "stdout",
     "output_type": "stream",
     "text": [
      "1 1\n",
      "1 2\n",
      "1 3\n",
      "1 4\n",
      "2 1\n",
      "2 2\n",
      "2 3\n",
      "2 4\n",
      "3 1\n",
      "3 2\n",
      "3 3\n",
      "3 4\n",
      "4 1\n",
      "4 2\n",
      "4 3\n",
      "4 4\n"
     ]
    }
   ],
   "source": [
    "for i in range(1,5):\n",
    "    for j in range(1,5):\n",
    "        print(i,j)"
   ]
  },
  {
   "cell_type": "markdown",
   "metadata": {},
   "source": [
    "print the following patern for the n line\n",
    "```bash\n",
    " *\n",
    " **\n",
    " ***\n",
    " ****\n",
    " *****\n",
    " ******\n",
    " *******\n",
    " ********\n",
    " *********\n",
    " **********\n",
    " ```"
   ]
  },
  {
   "cell_type": "code",
   "execution_count": 7,
   "metadata": {},
   "outputs": [
    {
     "name": "stdout",
     "output_type": "stream",
     "text": [
      "*\n",
      "**\n",
      "***\n",
      "****\n",
      "*****\n",
      "******\n",
      "*******\n",
      "********\n",
      "*********\n",
      "**********\n"
     ]
    }
   ],
   "source": [
    "n = int(input())\n",
    "for i in range(1,n+1):\n",
    "    print(i*\"*\")"
   ]
  },
  {
   "cell_type": "code",
   "execution_count": 11,
   "metadata": {},
   "outputs": [
    {
     "name": "stdout",
     "output_type": "stream",
     "text": [
      "*\n",
      "**\n",
      "***\n",
      "****\n",
      "*****\n"
     ]
    }
   ],
   "source": [
    "n = int(input())\n",
    "for i in range(1,n+1):\n",
    "    for j in range(1,i+1):\n",
    "        print(\"*\", end=\"\")\n",
    "    print()"
   ]
  },
  {
   "cell_type": "markdown",
   "metadata": {},
   "source": [
    "#### Pattern 2\n",
    "\n",
    "1<br>\n",
    "121<br>\n",
    "12321<br>\n",
    "1234321<br>"
   ]
  },
  {
   "cell_type": "markdown",
   "metadata": {},
   "source": [
    "39:40"
   ]
  },
  {
   "cell_type": "code",
   "execution_count": null,
   "metadata": {},
   "outputs": [],
   "source": [
    "n = int(input())\n",
    "for i in range(1,n+1):\n",
    "    for j in range(1,i+1):\n",
    "        print(i+j)"
   ]
  }
 ],
 "metadata": {
  "kernelspec": {
   "display_name": "Python 3",
   "language": "python",
   "name": "python3"
  },
  "language_info": {
   "codemirror_mode": {
    "name": "ipython",
    "version": 3
   },
   "file_extension": ".py",
   "mimetype": "text/x-python",
   "name": "python",
   "nbconvert_exporter": "python",
   "pygments_lexer": "ipython3",
   "version": "3.10.9"
  }
 },
 "nbformat": 4,
 "nbformat_minor": 2
}
