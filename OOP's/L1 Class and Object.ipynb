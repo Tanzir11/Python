{
 "cells": [
  {
   "cell_type": "markdown",
   "metadata": {},
   "source": [
    "OOP gives the programmer the ability to create there own data types"
   ]
  },
  {
   "cell_type": "markdown",
   "metadata": {},
   "source": [
    "**OOPS:**\n",
    "* class\n",
    "* object\n",
    "* Inheritance\n",
    "* Polymorphism\n",
    "* Encapsulation\n",
    "* Inheritance\n",
    "* Abstraction"
   ]
  },
  {
   "cell_type": "code",
   "execution_count": 6,
   "metadata": {},
   "outputs": [
    {
     "name": "stdout",
     "output_type": "stream",
     "text": [
      "<class 'list'>\n"
     ]
    }
   ],
   "source": [
    "L = [1,2,3]\n",
    "print(type(L))"
   ]
  },
  {
   "cell_type": "markdown",
   "metadata": {},
   "source": [
    "**L** bol krke ek variable banaya jisme ek list ko store karaya and jab uska type pucha to meko bola class list"
   ]
  },
  {
   "cell_type": "code",
   "execution_count": 7,
   "metadata": {},
   "outputs": [
    {
     "ename": "AttributeError",
     "evalue": "'list' object has no attribute 'upper'",
     "output_type": "error",
     "traceback": [
      "\u001b[1;31m---------------------------------------------------------------------------\u001b[0m",
      "\u001b[1;31mAttributeError\u001b[0m                            Traceback (most recent call last)",
      "Cell \u001b[1;32mIn[7], line 1\u001b[0m\n\u001b[1;32m----> 1\u001b[0m \u001b[43mL\u001b[49m\u001b[38;5;241;43m.\u001b[39;49m\u001b[43mupper\u001b[49m()\n",
      "\u001b[1;31mAttributeError\u001b[0m: 'list' object has no attribute 'upper'"
     ]
    }
   ],
   "source": [
    "L.upper()"
   ]
  },
  {
   "cell_type": "markdown",
   "metadata": {},
   "source": [
    "and jab **L** k upper ek aisa funciton chalaya jo exist nhi krta hai to mughe error aya ki 'list object has no attribute 'upper"
   ]
  },
  {
   "cell_type": "markdown",
   "metadata": {},
   "source": [
    "all the data types int float list tuple and etc in python are classes and the variable of that class is called it's object.\n",
    "for example in the following example:\n",
    "* L = [1,2,3] here list is a class and L is an obejct"
   ]
  },
  {
   "cell_type": "markdown",
   "metadata": {},
   "source": [
    "class is a blue print which basically tells how the obejct of the class will behave"
   ]
  },
  {
   "cell_type": "markdown",
   "metadata": {},
   "source": [
    "**class is a set of rules that the object follows.**"
   ]
  },
  {
   "cell_type": "markdown",
   "metadata": {},
   "source": [
    "Class has the following information:\n",
    "* Data or property,\n",
    "* Function or behavior"
   ]
  },
  {
   "cell_type": "markdown",
   "metadata": {},
   "source": [
    "Python has 2 type of classes:\n",
    "1. Builtin classes example List tuple set string and etc.\n",
    "2. user defined classes are the classes that the user makes"
   ]
  },
  {
   "cell_type": "markdown",
   "metadata": {},
   "source": [
    "**Object** is an instance of the class.\n",
    "* Syntex to create an object is **class_name()**"
   ]
  },
  {
   "cell_type": "markdown",
   "metadata": {},
   "source": [
    "We use Pascal Case to write the name of class for e.g\n",
    "* HelloWorld"
   ]
  },
  {
   "cell_type": "code",
   "execution_count": 8,
   "metadata": {},
   "outputs": [],
   "source": [
    "class Atm:\n",
    "    # constructor is a special function inside the class which looks as follows\n",
    "    # If we have to make a variable we make it inside the variable\n",
    "    def __init__(self):\n",
    "        # Include \"self.\" while defining a variable in a class\n",
    "        self.pin = ''\n",
    "        self.balance = 0"
   ]
  },
  {
   "cell_type": "code",
   "execution_count": 9,
   "metadata": {},
   "outputs": [],
   "source": [
    "obj = Atm()"
   ]
  },
  {
   "cell_type": "code",
   "execution_count": 12,
   "metadata": {},
   "outputs": [
    {
     "name": "stdout",
     "output_type": "stream",
     "text": [
      "<class '__main__.Atm'>\n"
     ]
    }
   ],
   "source": [
    "print(type(obj)) # obj is the object of atm class"
   ]
  },
  {
   "cell_type": "code",
   "execution_count": 13,
   "metadata": {},
   "outputs": [
    {
     "data": {
      "text/plain": [
       "0"
      ]
     },
     "execution_count": 13,
     "metadata": {},
     "output_type": "execute_result"
    }
   ],
   "source": [
    "obj.balance"
   ]
  },
  {
   "cell_type": "code",
   "execution_count": 14,
   "metadata": {},
   "outputs": [
    {
     "data": {
      "text/plain": [
       "''"
      ]
     },
     "execution_count": 14,
     "metadata": {},
     "output_type": "execute_result"
    }
   ],
   "source": [
    "obj.pin"
   ]
  },
  {
   "cell_type": "code",
   "execution_count": 17,
   "metadata": {},
   "outputs": [],
   "source": [
    "class Atm:\n",
    "    def __init__(self):\n",
    "        # The super power of constructor is that to execute the code inside constructor we don't have to call the constructor specifically.\n",
    "        # As soon as we create the object of the class atm the code inside the constructor get's executed.\n",
    "        self.pin = ''\n",
    "        self.balance = 0\n",
    "        print(\"Mai to execute ho gaya\")"
   ]
  },
  {
   "cell_type": "code",
   "execution_count": 18,
   "metadata": {},
   "outputs": [
    {
     "name": "stdout",
     "output_type": "stream",
     "text": [
      "Mai to execute ho gaya\n"
     ]
    }
   ],
   "source": [
    "obj = Atm()"
   ]
  },
  {
   "cell_type": "code",
   "execution_count": 23,
   "metadata": {},
   "outputs": [],
   "source": [
    "class Atm:\n",
    "    def __init__(self):\n",
    "        self.pin = ''\n",
    "        self.balance = 0\n",
    "        self.menu()\n",
    "\n",
    "    def menu(self):\n",
    "        user_input = input(\"\"\"\n",
    "              Hey how can i help you:\n",
    "              1. Press 1 to create pin\n",
    "              2. press 2 to change pin\n",
    "              3. press 3 to check balance\n",
    "              4. press 5 to widhdraw\n",
    "              5. Anything else to exit\n",
    "              \"\"\")"
   ]
  },
  {
   "cell_type": "markdown",
   "metadata": {},
   "source": [
    "**This time we have menu inside the constructor which basically means that as soon as we will create the object of the class Atm the method menu will get executed without explicitely calling it.**\n",
    "If we remove the self.menu() form the constructor we will have to explicitely call it but using the following code:\n",
    "* obj = Atm()\n",
    "* obj.menu() # This line will trigger the code"
   ]
  },
  {
   "cell_type": "code",
   "execution_count": 24,
   "metadata": {},
   "outputs": [],
   "source": [
    "obj_2 = Atm()"
   ]
  },
  {
   "cell_type": "code",
   "execution_count": 25,
   "metadata": {},
   "outputs": [],
   "source": [
    "class Atm:\n",
    "    def __init__(self):\n",
    "        self.pin = ''\n",
    "        self.balance = 0\n",
    "        self.menu()\n",
    "\n",
    "    def menu(self):\n",
    "        user_input = input(\"\"\"\n",
    "              Hey how can i help you:\n",
    "              1. Press 1 to create pin\n",
    "              2. press 2 to change pin\n",
    "              3. press 3 to check balance\n",
    "              4. press 5 to widhdraw\n",
    "              5. Anything else to exit\n",
    "              \"\"\")\n",
    "        if user_input == \"1\":\n",
    "            #create pin\n",
    "            self.create_pin()\n",
    "        elif user_input == \"2\":\n",
    "            #change pin\n",
    "            pass\n",
    "        elif user_input == \"3\":\n",
    "            # check balance\n",
    "            pass\n",
    "        elif user_input == \"4\":\n",
    "            # withdraw\n",
    "            pass\n",
    "        elif user_input == \"5\":\n",
    "            # anything else\n",
    "            pass\n",
    "        else:\n",
    "            exit()\n",
    "\n",
    "    def create_pin(self):\n",
    "        user_pin = input(\"Enter your pin:\")\n",
    "        self.pin = user_pin\n",
    "        user_balance = int(input(\"Enter Balance\"))\n",
    "        self.balance = user_balance\n",
    "\n",
    "        print(\"Pin created successfully\")"
   ]
  },
  {
   "cell_type": "code",
   "execution_count": 26,
   "metadata": {},
   "outputs": [
    {
     "name": "stdout",
     "output_type": "stream",
     "text": [
      "Pin created successfully\n"
     ]
    }
   ],
   "source": [
    "obj = Atm()"
   ]
  },
  {
   "cell_type": "code",
   "execution_count": 29,
   "metadata": {},
   "outputs": [],
   "source": [
    "class Atm:\n",
    "    def __init__(self):\n",
    "        self.pin = ''\n",
    "        self.balance = 0\n",
    "        self.menu()\n",
    "\n",
    "    def menu(self):\n",
    "        user_input = input(\"\"\"\n",
    "              Hey how can i help you:\n",
    "              1. Press 1 to create pin\n",
    "              2. press 2 to change pin\n",
    "              3. press 3 to check balance\n",
    "              4. press 5 to widhdraw\n",
    "              5. Anything else to exit\n",
    "              \"\"\")\n",
    "        if user_input == \"1\":\n",
    "            #create pin\n",
    "            self.create_pin()\n",
    "        elif user_input == \"2\":\n",
    "            #change pin\n",
    "            self.change_pin()\n",
    "        elif user_input == \"3\":\n",
    "            # check balance\n",
    "            pass\n",
    "        elif user_input == \"4\":\n",
    "            # withdraw\n",
    "            pass\n",
    "        elif user_input == \"5\":\n",
    "            # anything else\n",
    "            pass\n",
    "        else:\n",
    "            exit()\n",
    "\n",
    "    def create_pin(self):\n",
    "        user_pin = input(\"Enter your pin:\")\n",
    "        self.pin = user_pin\n",
    "        user_balance = int(input(\"Enter Balance\"))\n",
    "        self.balance = user_balance\n",
    "\n",
    "        print(\"Pin created successfully\")\n",
    "        self.menu()\n",
    "\n",
    "    def change_pin(self):\n",
    "        old_pin = input(\"Enter old pin\")\n",
    "        if old_pin == self.pin:\n",
    "            #Let him change the pin\n",
    "            new_pin = input(\"Enter New pin\")\n",
    "            self.pin = new_pin\n",
    "            print(\"Pin changed successfully\")\n",
    "            self.menu()\n",
    "        else:\n",
    "            print(\"Nahi krne dega re\")\n",
    "            self.menu()"
   ]
  },
  {
   "cell_type": "code",
   "execution_count": 30,
   "metadata": {},
   "outputs": [
    {
     "name": "stdout",
     "output_type": "stream",
     "text": [
      "Pin created successfully\n",
      "Pin changed successfully\n"
     ]
    }
   ],
   "source": [
    "obj = Atm()"
   ]
  },
  {
   "cell_type": "code",
   "execution_count": 31,
   "metadata": {},
   "outputs": [],
   "source": [
    "class Atm:\n",
    "    def __init__(self):\n",
    "        self.pin = ''\n",
    "        self.balance = 0\n",
    "        self.menu()\n",
    "\n",
    "    def menu(self):\n",
    "        user_input = input(\"\"\"\n",
    "              Hey how can i help you:\n",
    "              1. Press 1 to create pin\n",
    "              2. press 2 to change pin\n",
    "              3. press 3 to check balance\n",
    "              4. press 5 to widhdraw\n",
    "              5. Anything else to exit\n",
    "              \"\"\")\n",
    "        if user_input == \"1\":\n",
    "            #create pin\n",
    "            self.create_pin()\n",
    "        elif user_input == \"2\":\n",
    "            #change pin\n",
    "            self.change_pin()\n",
    "        elif user_input == \"3\":\n",
    "            # check balance\n",
    "            self.check_balance()\n",
    "            pass\n",
    "        elif user_input == \"4\":\n",
    "            # withdraw\n",
    "            pass\n",
    "        elif user_input == \"5\":\n",
    "            # anything else\n",
    "            pass\n",
    "        else:\n",
    "            exit()\n",
    "\n",
    "    def create_pin(self):\n",
    "        user_pin = input(\"Enter your pin:\")\n",
    "        self.pin = user_pin\n",
    "        user_balance = int(input(\"Enter Balance\"))\n",
    "        self.balance = user_balance\n",
    "\n",
    "        print(\"Pin created successfully\")\n",
    "        self.menu()\n",
    "\n",
    "    def change_pin(self):\n",
    "        old_pin = input(\"Enter old pin\")\n",
    "        if old_pin == self.pin:\n",
    "            #Let him change the pin\n",
    "            new_pin = input(\"Enter New pin\")\n",
    "            self.pin = new_pin\n",
    "            print(\"Pin changed successfully\")\n",
    "            self.menu()\n",
    "        else:\n",
    "            print(\"Nahi krne dega re\")\n",
    "            self.menu()\n",
    "\n",
    "    def check_balance(self):\n",
    "        user_pin = input(\"Enter your pin:\")\n",
    "        if self.pin == user_pin:\n",
    "            print(f\"Your balance is {self.balance}\")\n",
    "        else:\n",
    "            print(\"Chal nikal yaha se\")"
   ]
  },
  {
   "cell_type": "code",
   "execution_count": 32,
   "metadata": {},
   "outputs": [
    {
     "name": "stdout",
     "output_type": "stream",
     "text": [
      "Pin created successfully\n",
      "Your balance is 10000\n"
     ]
    }
   ],
   "source": [
    "obj = Atm()"
   ]
  },
  {
   "cell_type": "code",
   "execution_count": 4,
   "metadata": {},
   "outputs": [],
   "source": [
    "class Atm:\n",
    "    def __init__(self):\n",
    "        self.pin = ''\n",
    "        self.balance = 0\n",
    "        self.menu()\n",
    "\n",
    "    def menu(self):\n",
    "        user_input = input(\"\"\"\n",
    "              Hey how can i help you:\n",
    "              1. Press 1 to create pin\n",
    "              2. press 2 to change pin\n",
    "              3. press 3 to check balance\n",
    "              4. press 4 to widhdraw\n",
    "              5. Anything else to exit\n",
    "              \"\"\")\n",
    "        if user_input == \"1\":\n",
    "            #create pin\n",
    "            self.create_pin()\n",
    "        elif user_input == \"2\":\n",
    "            #change pin\n",
    "            self.change_pin()\n",
    "        elif user_input == \"3\":\n",
    "            # check balance\n",
    "            self.check_balance()\n",
    "        elif user_input == \"4\":\n",
    "            # withdraw\n",
    "            self.withdraw()\n",
    "        elif user_input == \"5\":\n",
    "            # anything else\n",
    "            pass\n",
    "        else:\n",
    "            exit()\n",
    "\n",
    "    def create_pin(self):\n",
    "        user_pin = input(\"Enter your pin:\")\n",
    "        self.pin = user_pin\n",
    "        user_balance = int(input(\"Enter Balance\"))\n",
    "        self.balance = user_balance\n",
    "\n",
    "        print(\"Pin created successfully\")\n",
    "        self.menu()\n",
    "\n",
    "    def change_pin(self):\n",
    "        old_pin = input(\"Enter old pin\")\n",
    "        if old_pin == self.pin:\n",
    "            #Let him change the pin\n",
    "            new_pin = input(\"Enter New pin\")\n",
    "            self.pin = new_pin\n",
    "            print(\"Pin changed successfully\")\n",
    "            self.menu()\n",
    "        else:\n",
    "            print(\"Nahi krne dega re\")\n",
    "            self.menu()\n",
    "\n",
    "    def check_balance(self):\n",
    "        user_pin = input(\"Enter your pin:\")\n",
    "        if self.pin == user_pin:\n",
    "            print(f\"Your balance is {self.balance}\")\n",
    "        else:\n",
    "            print(\"Chal nikal yaha se\")\n",
    "\n",
    "    def withdraw(self):\n",
    "        user_pin = input(\"Please tell the pin\")\n",
    "        if user_pin == self.pin:\n",
    "            user_amount = int(input(\"Enter the amount\"))\n",
    "            if user_amount <= self.balance:\n",
    "                self.balance = self.balance-user_amount\n",
    "                print(f\"The withdrawl of amount {user_amount} is successfull\")\n",
    "                print(f\"The remaining amount is {self.balance}\")\n",
    "                \n",
    "            else:\n",
    "                print(\"You have entered the wrong amount\")\n",
    "        else:\n",
    "            print(\"You have entered the wrong pin\")\n",
    "        self.menu()"
   ]
  },
  {
   "cell_type": "code",
   "execution_count": 3,
   "metadata": {},
   "outputs": [
    {
     "name": "stdout",
     "output_type": "stream",
     "text": [
      "Pin created successfully\n"
     ]
    }
   ],
   "source": [
    "obj = Atm()"
   ]
  },
  {
   "cell_type": "markdown",
   "metadata": {},
   "source": [
    "### Method vs Function"
   ]
  },
  {
   "cell_type": "markdown",
   "metadata": {},
   "source": [
    "* The functions inside the class is known as method\n",
    "* The function outside the class is called function"
   ]
  },
  {
   "cell_type": "code",
   "execution_count": 12,
   "metadata": {},
   "outputs": [],
   "source": [
    "L = [1,2,3,4]\n",
    "len(L)\n",
    "L.append(5)\n",
    "# In the above example append is a method because it's inside List class while len is a function because it's outside the list class"
   ]
  },
  {
   "cell_type": "code",
   "execution_count": 13,
   "metadata": {},
   "outputs": [
    {
     "data": {
      "text/plain": [
       "[1, 2, 3, 4, 5]"
      ]
     },
     "execution_count": 13,
     "metadata": {},
     "output_type": "execute_result"
    }
   ],
   "source": [
    "L"
   ]
  },
  {
   "cell_type": "markdown",
   "metadata": {},
   "source": [
    "### Class diagram"
   ]
  },
  {
   "cell_type": "markdown",
   "metadata": {},
   "source": [
    "You have to get a rectangular box and within that you need three seprate compartment, assume the rectangle is is vertical.\n",
    "the top compartment will have the class name and then the 2nd compartment will have the attributes.AttributeErrorThe final compartments will have the methods name.\n",
    "* One more thing there are two more annotations used in class diagram.\n",
    "1. **+** means that the perticular attribute or method is visible outside the class,\n",
    "2. **-** means that the same is not"
   ]
  },
  {
   "cell_type": "code",
   "execution_count": 7,
   "metadata": {},
   "outputs": [
    {
     "data": {
      "text/plain": [
       "<matplotlib.image.AxesImage at 0x274f0da3340>"
      ]
     },
     "execution_count": 7,
     "metadata": {},
     "output_type": "execute_result"
    },
    {
     "data": {
      "image/png": "[encoded data removed]",
      "text/plain": [
       "<Figure size 640x480 with 1 Axes>"
      ]
     },
     "metadata": {},
     "output_type": "display_data"
    }
   ],
   "source": [
    "import matplotlib.pyplot as plt\n",
    "import matplotlib.image as img\n",
    "\n",
    "Image = img.imread('Screenshot 2023-07-15 181646.png')\n",
    "plt.imshow(Image)"
   ]
  },
  {
   "cell_type": "markdown",
   "metadata": {},
   "source": [
    "### Magic methods"
   ]
  },
  {
   "cell_type": "markdown",
   "metadata": {},
   "source": [
    "Magic methods are also knows as Dunder Method in python"
   ]
  },
  {
   "cell_type": "markdown",
   "metadata": {},
   "source": [
    "They are special methods and each magic method has it's own super power and they are normally describes as:\n",
    "* (__ name __):\n",
    "* constructor i.e __ init __ is an example of magic method.\n"
   ]
  },
  {
   "cell_type": "markdown",
   "metadata": {},
   "source": [
    "**Constructor (__init__):**"
   ]
  },
  {
   "cell_type": "markdown",
   "metadata": {},
   "source": [
    "Constructor is a method but it's a special method with a super power:\n",
    "The super power is that we don't  have to call it, it get's triggered as soon as the object of the class in created"
   ]
  },
  {
   "cell_type": "code",
   "execution_count": 19,
   "metadata": {},
   "outputs": [],
   "source": [
    "class Temp:\n",
    "    def __init__(self):\n",
    "        print(\"something\")"
   ]
  },
  {
   "cell_type": "code",
   "execution_count": 20,
   "metadata": {},
   "outputs": [
    {
     "name": "stdout",
     "output_type": "stream",
     "text": [
      "something\n"
     ]
    }
   ],
   "source": [
    "obj = Temp()"
   ]
  },
  {
   "cell_type": "markdown",
   "metadata": {},
   "source": [
    "**Advantage of constructor:**\n",
    "* Construction is used to write configuration related code, i.e connecting to database related code"
   ]
  },
  {
   "cell_type": "markdown",
   "metadata": {},
   "source": [
    "### **Self**"
   ]
  },
  {
   "cell_type": "markdown",
   "metadata": {},
   "source": [
    "**Golden Rule of object oriented programming**\n",
    "* class is a blue print that object follow, which basically are attributes which we have defined or methods, now golder rule says that the members of my class i.e the data and functions can only be accessed by the object of the class."
   ]
  },
  {
   "cell_type": "markdown",
   "metadata": {},
   "source": [
    "self gives me the power to access one method from another method."
   ]
  },
  {
   "cell_type": "markdown",
   "metadata": {},
   "source": [
    "**In python everything is an object including self so it must be stored some where in the memory**"
   ]
  },
  {
   "cell_type": "code",
   "execution_count": 1,
   "metadata": {},
   "outputs": [],
   "source": [
    "class Atm:\n",
    "    def __init__(self):\n",
    "        print(id(self))\n",
    "        self.pin = ''\n",
    "        self.balance = 0\n",
    "        # self.menu()\n",
    "\n",
    "    def menu(self):\n",
    "        user_input = input(\"\"\"\n",
    "              Hey how can i help you:\n",
    "              1. Press 1 to create pin\n",
    "              2. press 2 to change pin\n",
    "              3. press 3 to check balance\n",
    "              4. press 4 to widhdraw\n",
    "              5. Anything else to exit\n",
    "              \"\"\")\n",
    "        if user_input == \"1\":\n",
    "            #create pin\n",
    "            self.create_pin()\n",
    "        elif user_input == \"2\":\n",
    "            #change pin\n",
    "            self.change_pin()\n",
    "        elif user_input == \"3\":\n",
    "            # check balance\n",
    "            self.check_balance()\n",
    "        elif user_input == \"4\":\n",
    "            # withdraw\n",
    "            self.withdraw()\n",
    "        elif user_input == \"5\":\n",
    "            # anything else\n",
    "            pass\n",
    "        else:\n",
    "            exit()\n",
    "\n",
    "    def create_pin(self):\n",
    "        user_pin = input(\"Enter your pin:\")\n",
    "        self.pin = user_pin\n",
    "        user_balance = int(input(\"Enter Balance\"))\n",
    "        self.balance = user_balance\n",
    "\n",
    "        print(\"Pin created successfully\")\n",
    "        self.menu()\n",
    "\n",
    "    def change_pin(self):\n",
    "        old_pin = input(\"Enter old pin\")\n",
    "        if old_pin == self.pin:\n",
    "            #Let him change the pin\n",
    "            new_pin = input(\"Enter New pin\")\n",
    "            self.pin = new_pin\n",
    "            print(\"Pin changed successfully\")\n",
    "            self.menu()\n",
    "        else:\n",
    "            print(\"Nahi krne dega re\")\n",
    "            self.menu()\n",
    "\n",
    "    def check_balance(self):\n",
    "        user_pin = input(\"Enter your pin:\")\n",
    "        if self.pin == user_pin:\n",
    "            print(f\"Your balance is {self.balance}\")\n",
    "        else:\n",
    "            print(\"Chal nikal yaha se\")\n",
    "\n",
    "    def withdraw(self):\n",
    "        user_pin = input(\"Please tell the pin\")\n",
    "        if user_pin == self.pin:\n",
    "            user_amount = int(input(\"Enter the amount\"))\n",
    "            if user_amount <= self.balance:\n",
    "                self.balance = self.balance-user_amount\n",
    "                print(f\"The withdrawl of amount {user_amount} is successfull\")\n",
    "                print(f\"The remaining amount is {self.balance}\")\n",
    "                \n",
    "            else:\n",
    "                print(\"You have entered the wrong amount\")\n",
    "        else:\n",
    "            print(\"You have entered the wrong pin\")\n",
    "        self.menu()"
   ]
  },
  {
   "cell_type": "code",
   "execution_count": 2,
   "metadata": {},
   "outputs": [
    {
     "name": "stdout",
     "output_type": "stream",
     "text": [
      "2700865948736\n"
     ]
    }
   ],
   "source": [
    "obj = Atm()"
   ]
  },
  {
   "cell_type": "markdown",
   "metadata": {},
   "source": [
    "We have printed the memory address of **self** i.e 2152458831328"
   ]
  },
  {
   "cell_type": "markdown",
   "metadata": {},
   "source": [
    "Now we will print the id i.e the memory location of object"
   ]
  },
  {
   "cell_type": "code",
   "execution_count": 3,
   "metadata": {},
   "outputs": [
    {
     "data": {
      "text/plain": [
       "2700865948736"
      ]
     },
     "execution_count": 3,
     "metadata": {},
     "output_type": "execute_result"
    }
   ],
   "source": [
    "id(obj)"
   ]
  },
  {
   "cell_type": "markdown",
   "metadata": {},
   "source": [
    "***What we can see that self as well as the obj point towards the same memory location i.e self is nothing but the object itself***"
   ]
  },
  {
   "cell_type": "markdown",
   "metadata": {},
   "source": [
    "SO class k ek function ko class ke doosre function se baat krane k lie ham self i.e the object hi use krte because that is the ability of the object itself"
   ]
  },
  {
   "cell_type": "code",
   "execution_count": 4,
   "metadata": {},
   "outputs": [],
   "source": [
    "class Atm:\n",
    "    def __init__(self):\n",
    "        print(id(self))\n",
    "        self.pin = ''\n",
    "        self.balance = 0\n",
    "        # self.menu()\n",
    "\n",
    "    def menu(self):\n",
    "        user_input = input(\"\"\"\n",
    "              Hey how can i help you:\n",
    "              1. Press 1 to create pin\n",
    "              2. press 2 to change pin\n",
    "              3. press 3 to check balance\n",
    "              4. press 4 to widhdraw\n",
    "              5. Anything else to exit\n",
    "              \"\"\")\n",
    "        if user_input == \"1\":\n",
    "            #create pin\n",
    "            self.create_pin()\n",
    "        elif user_input == \"2\":\n",
    "            #change pin\n",
    "            self.change_pin()\n",
    "        elif user_input == \"3\":\n",
    "            # check balance\n",
    "            self.check_balance()\n",
    "        elif user_input == \"4\":\n",
    "            # withdraw\n",
    "            self.withdraw()\n",
    "        elif user_input == \"5\":\n",
    "            # anything else\n",
    "            pass\n",
    "        else:\n",
    "            exit()\n",
    "\n",
    "    def create_pin(self):\n",
    "        user_pin = input(\"Enter your pin:\")\n",
    "        self.pin = user_pin\n",
    "        user_balance = int(input(\"Enter Balance\"))\n",
    "        self.balance = user_balance\n",
    "\n",
    "        print(\"Pin created successfully\")\n",
    "        self.menu()\n",
    "# Removing the self for demonstration purposes\n",
    "    def change_pin():\n",
    "        old_pin = input(\"Enter old pin\")\n",
    "        if old_pin == self.pin:\n",
    "            #Let him change the pin\n",
    "            new_pin = input(\"Enter New pin\")\n",
    "            self.pin = new_pin\n",
    "            print(\"Pin changed successfully\")\n",
    "            self.menu()\n",
    "        else:\n",
    "            print(\"Nahi krne dega re\")\n",
    "            self.menu()\n",
    "\n",
    "    def check_balance(self):\n",
    "        user_pin = input(\"Enter your pin:\")\n",
    "        if self.pin == user_pin:\n",
    "            print(f\"Your balance is {self.balance}\")\n",
    "        else:\n",
    "            print(\"Chal nikal yaha se\")\n",
    "\n",
    "    def withdraw(self):\n",
    "        user_pin = input(\"Please tell the pin\")\n",
    "        if user_pin == self.pin:\n",
    "            user_amount = int(input(\"Enter the amount\"))\n",
    "            if user_amount <= self.balance:\n",
    "                self.balance = self.balance-user_amount\n",
    "                print(f\"The withdrawl of amount {user_amount} is successfull\")\n",
    "                print(f\"The remaining amount is {self.balance}\")\n",
    "                \n",
    "            else:\n",
    "                print(\"You have entered the wrong amount\")\n",
    "        else:\n",
    "            print(\"You have entered the wrong pin\")\n",
    "        self.menu()"
   ]
  },
  {
   "cell_type": "code",
   "execution_count": 5,
   "metadata": {},
   "outputs": [
    {
     "name": "stdout",
     "output_type": "stream",
     "text": [
      "2700871044688\n"
     ]
    }
   ],
   "source": [
    "obj = Atm()"
   ]
  },
  {
   "cell_type": "code",
   "execution_count": 6,
   "metadata": {},
   "outputs": [
    {
     "ename": "TypeError",
     "evalue": "Atm.change_pin() takes 0 positional arguments but 1 was given",
     "output_type": "error",
     "traceback": [
      "\u001b[1;31m---------------------------------------------------------------------------\u001b[0m",
      "\u001b[1;31mTypeError\u001b[0m                                 Traceback (most recent call last)",
      "Cell \u001b[1;32mIn[6], line 1\u001b[0m\n\u001b[1;32m----> 1\u001b[0m \u001b[43mobj\u001b[49m\u001b[38;5;241;43m.\u001b[39;49m\u001b[43mchange_pin\u001b[49m\u001b[43m(\u001b[49m\u001b[43m)\u001b[49m\n",
      "\u001b[1;31mTypeError\u001b[0m: Atm.change_pin() takes 0 positional arguments but 1 was given"
     ]
    }
   ],
   "source": [
    "obj.change_pin()"
   ]
  },
  {
   "cell_type": "markdown",
   "metadata": {},
   "source": [
    "**Explanation of above code**\n",
    "\n",
    "---\n",
    "\n",
    "**In the example above, the error occurs because `change_pin` was expecting zero positional arguments, but one was provided. Interestingly, this issue doesn't arise with other functions. Why is that?**\n",
    "\n",
    "* This happens because when we call `obj.change_pin()`, the object `obj` is implicitly passed to `change_pin`. However, since `self` was removed from the method's definition, this implicit passing cannot occur. Initially, `change_pin` was able to take the object of the `ATM` class as an argument, which allowed `self` to access all the methods and variables within the class. This is because an object of the class has access to those elements by design."
   ]
  },
  {
   "cell_type": "markdown",
   "metadata": {},
   "source": [
    "# Magic Methods"
   ]
  },
  {
   "cell_type": "markdown",
   "metadata": {},
   "source": [
    "**It's also known as Dunder method,** they are in general represented by **__ (nameofthemethod) __**. these are  special methods and each magic methods have a super power. "
   ]
  },
  {
   "cell_type": "code",
   "execution_count": 8,
   "metadata": {},
   "outputs": [],
   "source": [
    "class temp:\n",
    "    def __init__(self):\n",
    "        print('hello world')"
   ]
  },
  {
   "cell_type": "code",
   "execution_count": 9,
   "metadata": {},
   "outputs": [
    {
     "name": "stdout",
     "output_type": "stream",
     "text": [
      "hello world\n"
     ]
    }
   ],
   "source": [
    "# Creating an object\n",
    "obj = temp()"
   ]
  },
  {
   "cell_type": "markdown",
   "metadata": {},
   "source": [
    "We will try to create another data type called fraction"
   ]
  },
  {
   "cell_type": "markdown",
   "metadata": {},
   "source": [
    "python does note have any fraction data type so will create one"
   ]
  },
  {
   "cell_type": "code",
   "execution_count": 11,
   "metadata": {},
   "outputs": [],
   "source": [
    "class Fraction:\n",
    "    # parameterized constructor\n",
    "    '''\n",
    "    parameterized constructor means when i will create the object it will require an input\n",
    "    '''\n",
    "    def __init__(self,x,y):\n",
    "        self.num = x\n",
    "        self.den = y"
   ]
  },
  {
   "cell_type": "code",
   "execution_count": 13,
   "metadata": {},
   "outputs": [],
   "source": [
    "obj  = Fraction(4,5)"
   ]
  },
  {
   "cell_type": "code",
   "execution_count": 14,
   "metadata": {},
   "outputs": [
    {
     "data": {
      "text/plain": [
       "4"
      ]
     },
     "execution_count": 14,
     "metadata": {},
     "output_type": "execute_result"
    }
   ],
   "source": [
    "obj.num"
   ]
  },
  {
   "cell_type": "code",
   "execution_count": 15,
   "metadata": {},
   "outputs": [
    {
     "data": {
      "text/plain": [
       "5"
      ]
     },
     "execution_count": 15,
     "metadata": {},
     "output_type": "execute_result"
    }
   ],
   "source": [
    "obj.den"
   ]
  },
  {
   "cell_type": "code",
   "execution_count": 16,
   "metadata": {},
   "outputs": [],
   "source": [
    "class Fraction:\n",
    "    # parameterized constructor\n",
    "    def __init__(self,x,y):\n",
    "        self.num = x\n",
    "        self.den = y\n",
    "    #\n",
    "    def __str__(self):\n",
    "        return '{}/{}'.format(self.num,self.den)"
   ]
  },
  {
   "cell_type": "code",
   "execution_count": 18,
   "metadata": {},
   "outputs": [],
   "source": [
    "obj = Fraction(4,5)"
   ]
  },
  {
   "cell_type": "markdown",
   "metadata": {},
   "source": [
    "the magic of **__ str __** is that when we will place something within print it will execute **__ str __** code"
   ]
  },
  {
   "cell_type": "code",
   "execution_count": 21,
   "metadata": {},
   "outputs": [
    {
     "name": "stdout",
     "output_type": "stream",
     "text": [
      "4/5\n"
     ]
    }
   ],
   "source": [
    "print(obj)"
   ]
  },
  {
   "cell_type": "code",
   "execution_count": 23,
   "metadata": {},
   "outputs": [],
   "source": [
    "obj2 = Fraction(1,2)"
   ]
  },
  {
   "cell_type": "code",
   "execution_count": 24,
   "metadata": {},
   "outputs": [
    {
     "name": "stdout",
     "output_type": "stream",
     "text": [
      "4/5\n"
     ]
    }
   ],
   "source": [
    "print(obj)"
   ]
  },
  {
   "cell_type": "code",
   "execution_count": 25,
   "metadata": {},
   "outputs": [
    {
     "ename": "TypeError",
     "evalue": "unsupported operand type(s) for +: 'Fraction' and 'Fraction'",
     "output_type": "error",
     "traceback": [
      "\u001b[1;31m---------------------------------------------------------------------------\u001b[0m",
      "\u001b[1;31mTypeError\u001b[0m                                 Traceback (most recent call last)",
      "Cell \u001b[1;32mIn[25], line 1\u001b[0m\n\u001b[1;32m----> 1\u001b[0m \u001b[38;5;28mprint\u001b[39m(\u001b[43mobj\u001b[49m\u001b[38;5;241;43m+\u001b[39;49m\u001b[43mobj2\u001b[49m)\n",
      "\u001b[1;31mTypeError\u001b[0m: unsupported operand type(s) for +: 'Fraction' and 'Fraction'"
     ]
    }
   ],
   "source": [
    "print(obj+obj2)"
   ]
  },
  {
   "cell_type": "code",
   "execution_count": 26,
   "metadata": {},
   "outputs": [
    {
     "ename": "TypeError",
     "evalue": "unsupported operand type(s) for +: 'set' and 'set'",
     "output_type": "error",
     "traceback": [
      "\u001b[1;31m---------------------------------------------------------------------------\u001b[0m",
      "\u001b[1;31mTypeError\u001b[0m                                 Traceback (most recent call last)",
      "Cell \u001b[1;32mIn[26], line 3\u001b[0m\n\u001b[0;32m      1\u001b[0m set1 \u001b[38;5;241m=\u001b[39m {\u001b[38;5;241m1\u001b[39m,\u001b[38;5;241m2\u001b[39m,\u001b[38;5;241m4\u001b[39m}\n\u001b[0;32m      2\u001b[0m set2 \u001b[38;5;241m=\u001b[39m {\u001b[38;5;241m3\u001b[39m,\u001b[38;5;241m5\u001b[39m,\u001b[38;5;241m6\u001b[39m}\n\u001b[1;32m----> 3\u001b[0m \u001b[43mset1\u001b[49m\u001b[43m \u001b[49m\u001b[38;5;241;43m+\u001b[39;49m\u001b[43m \u001b[49m\u001b[43mset2\u001b[49m\n",
      "\u001b[1;31mTypeError\u001b[0m: unsupported operand type(s) for +: 'set' and 'set'"
     ]
    }
   ],
   "source": [
    "set1 = {1,2,4}\n",
    "set2 = {3,5,6}\n",
    "set1 + set2"
   ]
  },
  {
   "cell_type": "markdown",
   "metadata": {},
   "source": [
    "Whoever wrote the code of set in python didn't wrote the logic of adding both 2 sets just like we haven't written the logic of adding two fractions"
   ]
  },
  {
   "cell_type": "code",
   "execution_count": 28,
   "metadata": {},
   "outputs": [],
   "source": [
    "class Fraction:\n",
    "    # parameterized constructor\n",
    "    def __init__(self,x,y):\n",
    "        self.num = x\n",
    "        self.den = y\n",
    "    #\n",
    "    def __str__(self):\n",
    "        return '{}/{}'.format(self.num,self.den)\n",
    "        \n",
    "    def __add__(self,other):\n",
    "        # this get's automatically triggered when we will apply the add operation within two objects of my own class\n",
    "        print('idhar')"
   ]
  },
  {
   "cell_type": "code",
   "execution_count": 29,
   "metadata": {},
   "outputs": [],
   "source": [
    "obj = Fraction(2,3)"
   ]
  },
  {
   "cell_type": "code",
   "execution_count": 30,
   "metadata": {},
   "outputs": [],
   "source": [
    "obj2 = Fraction(4,5)"
   ]
  },
  {
   "cell_type": "code",
   "execution_count": 31,
   "metadata": {},
   "outputs": [
    {
     "name": "stdout",
     "output_type": "stream",
     "text": [
      "idhar\n",
      "None\n"
     ]
    }
   ],
   "source": [
    "print(obj+obj2)"
   ]
  },
  {
   "cell_type": "code",
   "execution_count": 32,
   "metadata": {},
   "outputs": [],
   "source": [
    "class Fraction:\n",
    "    # parameterized constructor\n",
    "    def __init__(self,x,y):\n",
    "        self.num = x\n",
    "        self.den = y\n",
    "    #\n",
    "    def __str__(self):\n",
    "        return '{}/{}'.format(self.num,self.den)\n",
    "        \n",
    "    def __add__(self,other):\n",
    "        # this get's automatically triggered when we will apply the add operation within two objects of my own class\n",
    "        new_num = self.num*other.den + other.num*self.den\n",
    "        new_den = self.den*other.den\n",
    "        return '{}/{}'.format(new_num,new_den)"
   ]
  },
  {
   "cell_type": "code",
   "execution_count": 33,
   "metadata": {},
   "outputs": [],
   "source": [
    "obj = Fraction(2,3)"
   ]
  },
  {
   "cell_type": "code",
   "execution_count": 34,
   "metadata": {},
   "outputs": [],
   "source": [
    "obj2 = Fraction(4,5)"
   ]
  },
  {
   "cell_type": "code",
   "execution_count": 35,
   "metadata": {},
   "outputs": [
    {
     "name": "stdout",
     "output_type": "stream",
     "text": [
      "22/15\n"
     ]
    }
   ],
   "source": [
    "print(obj+obj2)"
   ]
  },
  {
   "cell_type": "code",
   "execution_count": null,
   "metadata": {},
   "outputs": [],
   "source": []
  },
  {
   "cell_type": "markdown",
   "metadata": {},
   "source": [
    "Some problems based on previous OOP's session"
   ]
  },
  {
   "cell_type": "markdown",
   "metadata": {},
   "source": [
    "* Write OOP classes to handle the following scenarios\n",
    "    * A user can create and view 2D coordinates\n",
    "    *  A user can find the distance between 2 coordinates\n",
    "    * A user can find the distance of a coordinate from origin\n",
    "    * A user can check if a point lies on a given line\n",
    "    * A user can find the distance between a given 2D point and a given line"
   ]
  },
  {
   "cell_type": "markdown",
   "metadata": {},
   "source": [
    "**A user can create and view 2D coordinates**"
   ]
  },
  {
   "cell_type": "code",
   "execution_count": 23,
   "metadata": {},
   "outputs": [],
   "source": [
    "class Point:\n",
    "\n",
    "    def __init__(self,x,y): #This is a parametrized constructor which means when we will make the object we will send values as well\n",
    "        self.x_cord = x\n",
    "        self.y_cord = y\n",
    "    def __str__(self): # When i will print automatically this Magic method will get triggered\n",
    "        return f'<{self.x_cord},{self.y_cord}>'"
   ]
  },
  {
   "cell_type": "code",
   "execution_count": 26,
   "metadata": {},
   "outputs": [],
   "source": [
    "p1 = Point(2,3) # Since our constructor is a parametrized constructor so we'll give values as well to initiate it\n",
    "p2 = Point(-1,-2)"
   ]
  },
  {
   "cell_type": "code",
   "execution_count": 27,
   "metadata": {},
   "outputs": [
    {
     "name": "stdout",
     "output_type": "stream",
     "text": [
      "<2,3>\n",
      "<-1,-2>\n"
     ]
    }
   ],
   "source": [
    "print(p1)\n",
    "print(p2)"
   ]
  },
  {
   "cell_type": "markdown",
   "metadata": {},
   "source": [
    "**A user can find the distance between 2 coordinates**"
   ]
  },
  {
   "cell_type": "code",
   "execution_count": 38,
   "metadata": {},
   "outputs": [],
   "source": [
    "class Point:\n",
    "\n",
    "    def __init__(self,x,y):\n",
    "        self.x_cord = x\n",
    "        self.y_cord = y\n",
    "    def __str__(self): \n",
    "        return f'<{self.x_cord},{self.y_cord}>'\n",
    "    def euclidean_distance(self,other):\n",
    "        return ((self.x_cord-other.x_cord)**2 + (self.y_cord-other.y_cord)**2)**0.5\n"
   ]
  },
  {
   "cell_type": "code",
   "execution_count": 39,
   "metadata": {},
   "outputs": [],
   "source": [
    "p1 = Point(3,4)\n",
    "p2 = Point(0,0)"
   ]
  },
  {
   "cell_type": "code",
   "execution_count": 40,
   "metadata": {},
   "outputs": [
    {
     "data": {
      "text/plain": [
       "5.0"
      ]
     },
     "execution_count": 40,
     "metadata": {},
     "output_type": "execute_result"
    }
   ],
   "source": [
    "p1.euclidean_distance(p2)"
   ]
  },
  {
   "cell_type": "markdown",
   "metadata": {},
   "source": [
    "**Distance from origin**"
   ]
  },
  {
   "cell_type": "markdown",
   "metadata": {},
   "source": [
    "***APROACH 1***"
   ]
  },
  {
   "cell_type": "code",
   "execution_count": 53,
   "metadata": {},
   "outputs": [],
   "source": [
    "class Point:\n",
    "\n",
    "    def __init__(self,x,y):\n",
    "        self.x_cord = x\n",
    "        self.y_cord = y\n",
    "    def __str__(self): \n",
    "        return f'<{self.x_cord},{self.y_cord}>'\n",
    "    def euclidean_distance(self,other): # self = x1,y1 and other =x2,y2\n",
    "        return ((self.x_cord-other.x_cord)**2 + (self.y_cord-other.y_cord)**2)**0.5\n",
    "    def distance_from_origin(self):\n",
    "        return ((self.x_cord)**2+(self.y_cord)**2)**0.5\n"
   ]
  },
  {
   "cell_type": "code",
   "execution_count": 54,
   "metadata": {},
   "outputs": [],
   "source": [
    "p1 = Point(3,4)"
   ]
  },
  {
   "cell_type": "code",
   "execution_count": 55,
   "metadata": {},
   "outputs": [
    {
     "data": {
      "text/plain": [
       "5.0"
      ]
     },
     "execution_count": 55,
     "metadata": {},
     "output_type": "execute_result"
    }
   ],
   "source": [
    "p1.distance_from_origin()"
   ]
  },
  {
   "cell_type": "markdown",
   "metadata": {},
   "source": [
    "***APROACH 2***"
   ]
  },
  {
   "cell_type": "code",
   "execution_count": 1,
   "metadata": {},
   "outputs": [],
   "source": [
    "class Point:\n",
    "\n",
    "    def __init__(self,x,y):\n",
    "        self.x_cord = x\n",
    "        self.y_cord = y\n",
    "    def __str__(self): \n",
    "        return f'<{self.x_cord},{self.y_cord}>'\n",
    "    def euclidean_distance(self,other): # self = x1,y1 and other =x2,y2\n",
    "        return ((self.x_cord-other.x_cord)**2 + (self.y_cord-other.y_cord)**2)**0.5\n",
    "    def distance_from_origin(self):\n",
    "        return self.euclidean_distance(Point(0,0)) # Here we created class ka object inside the class which is possible\n"
   ]
  },
  {
   "cell_type": "code",
   "execution_count": 5,
   "metadata": {},
   "outputs": [],
   "source": [
    "p1 = Point(1,1)"
   ]
  },
  {
   "cell_type": "code",
   "execution_count": 6,
   "metadata": {},
   "outputs": [
    {
     "data": {
      "text/plain": [
       "1.4142135623730951"
      ]
     },
     "execution_count": 6,
     "metadata": {},
     "output_type": "execute_result"
    }
   ],
   "source": [
    "p1.distance_from_origin()"
   ]
  },
  {
   "cell_type": "markdown",
   "metadata": {},
   "source": [
    "**A user can check if a point falls on a line or not**"
   ]
  },
  {
   "cell_type": "code",
   "execution_count": 68,
   "metadata": {},
   "outputs": [],
   "source": [
    "class Line:\n",
    "    def __init__(self,a,b,c):\n",
    "        self.x_cord = a\n",
    "        self.y_cord = b\n",
    "        self.intercept = c\n",
    "    def __str__(self):\n",
    "        return f\"{self.x_cord}x + {self.y_cord}y + {self.intercept} = 0\""
   ]
  },
  {
   "cell_type": "code",
   "execution_count": 69,
   "metadata": {},
   "outputs": [],
   "source": [
    "l1 = Line(3,4,5)"
   ]
  },
  {
   "cell_type": "code",
   "execution_count": 70,
   "metadata": {},
   "outputs": [
    {
     "name": "stdout",
     "output_type": "stream",
     "text": [
      "3x + 4y + 5 = 0\n"
     ]
    }
   ],
   "source": [
    "print(l1)"
   ]
  },
  {
   "cell_type": "markdown",
   "metadata": {},
   "source": [
    "Start from 25:00 campusx"
   ]
  },
  {
   "cell_type": "code",
   "execution_count": 20,
   "metadata": {},
   "outputs": [],
   "source": [
    "class Line:\n",
    "    def __init__(self,a,b,c):\n",
    "        self.A = a\n",
    "        self.B = b\n",
    "        self.C = c\n",
    "    def __str__(self):\n",
    "        return f\"{self.A}x + {self.B}y + {self.C} = 0\"\n",
    "    \n",
    "    def point_on_line(line,point):\n",
    "        if line.A*point.x_cord + line.B*point.y_cord + line.C == 0:\n",
    "            return \"lines on the line\"\n",
    "        else:\n",
    "            return \"Does not lie on the line\""
   ]
  },
  {
   "cell_type": "code",
   "execution_count": 21,
   "metadata": {},
   "outputs": [],
   "source": [
    "l1 = Line(1,1,-2)"
   ]
  },
  {
   "cell_type": "code",
   "execution_count": 22,
   "metadata": {},
   "outputs": [
    {
     "name": "stdout",
     "output_type": "stream",
     "text": [
      "1x + 1y + -2 = 0\n",
      "<1,1>\n"
     ]
    }
   ],
   "source": [
    "print(l1)\n",
    "print(p1)"
   ]
  },
  {
   "cell_type": "code",
   "execution_count": 23,
   "metadata": {},
   "outputs": [
    {
     "data": {
      "text/plain": [
       "'lines on the line'"
      ]
     },
     "execution_count": 23,
     "metadata": {},
     "output_type": "execute_result"
    }
   ],
   "source": [
    "l1.point_on_line(p1)"
   ]
  },
  {
   "cell_type": "code",
   "execution_count": 24,
   "metadata": {},
   "outputs": [
    {
     "data": {
      "text/plain": [
       "'Does not lie on the line'"
      ]
     },
     "execution_count": 24,
     "metadata": {},
     "output_type": "execute_result"
    }
   ],
   "source": [
    "p2 = Point(2,3)\n",
    "l1.point_on_line(p2)"
   ]
  },
  {
   "cell_type": "markdown",
   "metadata": {},
   "source": [
    "***A user can find the distance between a given 2D point and a given line***"
   ]
  },
  {
   "cell_type": "code",
   "execution_count": 27,
   "metadata": {},
   "outputs": [],
   "source": [
    "class Line:\n",
    "    def __init__(self,a,b,c):\n",
    "        self.A = a\n",
    "        self.B = b\n",
    "        self.C = c\n",
    "    def __str__(self):\n",
    "        return f\"{self.A}x + {self.B}y + {self.C} = 0\"\n",
    "    \n",
    "    def point_on_line(line,point):\n",
    "        if line.A*point.x_cord + line.B*point.y_cord + line.C == 0:\n",
    "            return \"lines on the line\"\n",
    "        else:\n",
    "            return \"Does not lie on the line\"\n",
    "        \n",
    "    def shortest_distance(line,point):\n",
    "        return abs(line.A*point.x_cord + line.B*point.y_cord + line.C)/(line.A**2 + line.B**2)**0.5"
   ]
  },
  {
   "cell_type": "code",
   "execution_count": 28,
   "metadata": {},
   "outputs": [],
   "source": [
    "l1 = Line(1,1,-2)"
   ]
  },
  {
   "cell_type": "code",
   "execution_count": 30,
   "metadata": {},
   "outputs": [],
   "source": [
    "p1 = Point(4,6)"
   ]
  },
  {
   "cell_type": "code",
   "execution_count": 31,
   "metadata": {},
   "outputs": [
    {
     "data": {
      "text/plain": [
       "5.65685424949238"
      ]
     },
     "execution_count": 31,
     "metadata": {},
     "output_type": "execute_result"
    }
   ],
   "source": [
    "l1.shortest_distance(p1)"
   ]
  },
  {
   "cell_type": "markdown",
   "metadata": {},
   "source": [
    "Create a method that can figure out if 2 line segments intersect or not"
   ]
  },
  {
   "cell_type": "code",
   "execution_count": 32,
   "metadata": {},
   "outputs": [],
   "source": [
    "class Line:\n",
    "    def __init__(self,a,b,c):\n",
    "        self.A = a\n",
    "        self.B = b\n",
    "        self.C = c\n",
    "    def __str__(self):\n",
    "        return f\"{self.A}x + {self.B}y + {self.C} = 0\"\n",
    "    \n",
    "    def point_on_line(line,point):\n",
    "        if line.A*point.x_cord + line.B*point.y_cord + line.C == 0:\n",
    "            return \"lines on the line\"\n",
    "        else:\n",
    "            return \"Does not lie on the line\"\n",
    "        \n",
    "    def shortest_distance(line,point):\n",
    "        return abs(line.A*point.x_cord + line.B*point.y_cord + line.C)/(line.A**2 + line.B**2)**0.5\n",
    "    \n",
    "    def line_intersection(self, other):\n",
    "        # Lines are linear equation and two lines are intersecting each other only if they have a single solution which is only possible if a1/a2!=b1/b2\n",
    "        if self.A/other.A != self.B/other.B:\n",
    "            return \"lines do intersect\"\n",
    "        else:\n",
    "            return \"lines don't intersect eachother\""
   ]
  },
  {
   "cell_type": "code",
   "execution_count": 33,
   "metadata": {},
   "outputs": [],
   "source": [
    "l1 = Line(1,2,3)"
   ]
  },
  {
   "cell_type": "code",
   "execution_count": 34,
   "metadata": {},
   "outputs": [],
   "source": [
    "l2 = Line(4,5,6)"
   ]
  },
  {
   "cell_type": "code",
   "execution_count": 36,
   "metadata": {},
   "outputs": [],
   "source": [
    "l3 = Line(1,2,4)"
   ]
  },
  {
   "cell_type": "code",
   "execution_count": 35,
   "metadata": {},
   "outputs": [
    {
     "data": {
      "text/plain": [
       "'lines do intersect'"
      ]
     },
     "execution_count": 35,
     "metadata": {},
     "output_type": "execute_result"
    }
   ],
   "source": [
    "l1.line_intersection(l2)"
   ]
  },
  {
   "cell_type": "code",
   "execution_count": 37,
   "metadata": {},
   "outputs": [
    {
     "data": {
      "text/plain": [
       "\"lines don't intersect eachother\""
      ]
     },
     "execution_count": 37,
     "metadata": {},
     "output_type": "execute_result"
    }
   ],
   "source": [
    "l1.line_intersection(l3)"
   ]
  },
  {
   "cell_type": "markdown",
   "metadata": {},
   "source": [
    "### How objects access attributes"
   ]
  },
  {
   "cell_type": "code",
   "execution_count": 12,
   "metadata": {},
   "outputs": [],
   "source": [
    "class Person:\n",
    "    def __init__(self,name_input,country_input):\n",
    "        self.name = name_input\n",
    "        self.country = country_input\n",
    "\n",
    "    def greet(self):\n",
    "        if self.country == 'india':\n",
    "            print('Namaste', self.name)\n",
    "        else:\n",
    "            print('Hell0', self.name)"
   ]
  },
  {
   "cell_type": "markdown",
   "metadata": {},
   "source": [
    "As soon as we make the object of the class, that obejct has the power to access the attributes as well as the method of that class.\n",
    "* To test it out just press the obj. and you might see them in the recommendation"
   ]
  },
  {
   "cell_type": "code",
   "execution_count": 13,
   "metadata": {},
   "outputs": [],
   "source": [
    "# How to access attributes\n",
    "p = Person('Tanzir', 'india')"
   ]
  },
  {
   "cell_type": "code",
   "execution_count": 14,
   "metadata": {},
   "outputs": [
    {
     "data": {
      "text/plain": [
       "'india'"
      ]
     },
     "execution_count": 14,
     "metadata": {},
     "output_type": "execute_result"
    }
   ],
   "source": [
    "p.country"
   ]
  },
  {
   "cell_type": "code",
   "execution_count": 15,
   "metadata": {},
   "outputs": [
    {
     "data": {
      "text/plain": [
       "'Tanzir'"
      ]
     },
     "execution_count": 15,
     "metadata": {},
     "output_type": "execute_result"
    }
   ],
   "source": [
    "p.name"
   ]
  },
  {
   "cell_type": "code",
   "execution_count": 16,
   "metadata": {},
   "outputs": [
    {
     "name": "stdout",
     "output_type": "stream",
     "text": [
      "Namaste Tanzir\n"
     ]
    }
   ],
   "source": [
    "# How to access the methods\n",
    "p.greet() #Method ko call krne k lie bracket lagana padta hai"
   ]
  },
  {
   "cell_type": "code",
   "execution_count": 17,
   "metadata": {},
   "outputs": [
    {
     "ename": "AttributeError",
     "evalue": "'Person' object has no attribute 'gender'",
     "output_type": "error",
     "traceback": [
      "\u001b[1;31m---------------------------------------------------------------------------\u001b[0m",
      "\u001b[1;31mAttributeError\u001b[0m                            Traceback (most recent call last)",
      "Cell \u001b[1;32mIn[17], line 2\u001b[0m\n\u001b[0;32m      1\u001b[0m \u001b[38;5;66;03m# What if i try to access a non-existing attributes\u001b[39;00m\n\u001b[1;32m----> 2\u001b[0m \u001b[43mp\u001b[49m\u001b[38;5;241;43m.\u001b[39;49m\u001b[43mgender\u001b[49m\n",
      "\u001b[1;31mAttributeError\u001b[0m: 'Person' object has no attribute 'gender'"
     ]
    }
   ],
   "source": [
    "# What if i try to access a non-existing attributes\n",
    "p.gender"
   ]
  },
  {
   "cell_type": "markdown",
   "metadata": {},
   "source": [
    "### Attribute creation from outside of the class"
   ]
  },
  {
   "cell_type": "code",
   "execution_count": 18,
   "metadata": {},
   "outputs": [],
   "source": [
    "p.gender = 'male'"
   ]
  },
  {
   "cell_type": "code",
   "execution_count": 19,
   "metadata": {},
   "outputs": [
    {
     "data": {
      "text/plain": [
       "'male'"
      ]
     },
     "execution_count": 19,
     "metadata": {},
     "output_type": "execute_result"
    }
   ],
   "source": [
    "p.gender"
   ]
  },
  {
   "cell_type": "markdown",
   "metadata": {},
   "source": [
    "***Basically if we want we can create attribute from outside the class using the object***"
   ]
  },
  {
   "cell_type": "markdown",
   "metadata": {},
   "source": [
    "### Refrence Variable\n",
    "* Refrence variable holds the objects\n",
    "* We can create objects without reference variable as well\n",
    "* An object can have multiple refrence variable\n",
    "* Assigning a new refrence variable to an existing object does not create a new object"
   ]
  },
  {
   "cell_type": "code",
   "execution_count": 21,
   "metadata": {},
   "outputs": [],
   "source": [
    "# Object without a refrence\n",
    "class Person:\n",
    "    def __init__(self):\n",
    "        self.name = 'Tanzir'\n",
    "        self.gender = 'Male'"
   ]
  },
  {
   "cell_type": "code",
   "execution_count": 23,
   "metadata": {},
   "outputs": [
    {
     "data": {
      "text/plain": [
       "<__main__.Person at 0x2b1c1feff40>"
      ]
     },
     "execution_count": 23,
     "metadata": {},
     "output_type": "execute_result"
    }
   ],
   "source": [
    "Person() # If we do not provide the refrence variable will the object get created? The answer is yes it will get created at a perticular memory address"
   ]
  },
  {
   "cell_type": "markdown",
   "metadata": {},
   "source": [
    "So far we were doing something as follows:\n",
    "* `p = Person()`\n",
    "and we were saying that `p` was an object but technically this was wrong.\n",
    "* In Reality what was happening is that an object was created when we wrote `Person()` inside the memory as we can see in the previous cell, `p` stores the refrence of the object which was created when we wrote `Person()`\n",
    "* **So in summary `p` is not the `object`, `p` stores the address of the `object` inside the memory"
   ]
  },
  {
   "cell_type": "markdown",
   "metadata": {},
   "source": [
    "So we can do something as follows:"
   ]
  },
  {
   "cell_type": "code",
   "execution_count": 24,
   "metadata": {},
   "outputs": [],
   "source": [
    "p = Person()\n",
    "q=p"
   ]
  },
  {
   "cell_type": "markdown",
   "metadata": {},
   "source": [
    "***Now `p` and `q` both are `variable names` pointing towards the same `memory address`***"
   ]
  },
  {
   "cell_type": "code",
   "execution_count": 25,
   "metadata": {},
   "outputs": [
    {
     "data": {
      "text/plain": [
       "'Male'"
      ]
     },
     "execution_count": 25,
     "metadata": {},
     "output_type": "execute_result"
    }
   ],
   "source": [
    "q.gender"
   ]
  },
  {
   "cell_type": "code",
   "execution_count": 26,
   "metadata": {},
   "outputs": [
    {
     "name": "stdout",
     "output_type": "stream",
     "text": [
      "2962467028656\n",
      "2962467028656\n"
     ]
    }
   ],
   "source": [
    "print(id(p))\n",
    "print(id(q))"
   ]
  },
  {
   "cell_type": "markdown",
   "metadata": {},
   "source": [
    "so we can see both of them are pointing towards the same `memory location` that holds the object of `Person` class"
   ]
  },
  {
   "cell_type": "code",
   "execution_count": 27,
   "metadata": {},
   "outputs": [],
   "source": [
    "q.name = 'Ankit'"
   ]
  },
  {
   "cell_type": "code",
   "execution_count": 28,
   "metadata": {},
   "outputs": [
    {
     "data": {
      "text/plain": [
       "'Ankit'"
      ]
     },
     "execution_count": 28,
     "metadata": {},
     "output_type": "execute_result"
    }
   ],
   "source": [
    "p.name"
   ]
  },
  {
   "cell_type": "markdown",
   "metadata": {},
   "source": [
    "When we modify a `reference variable`, we're actually modifying the `object` it points to in `memory`. Since multiple `reference variables` can point to the `same object`, any change made through one `reference variable` will be reflected in all other variables that reference the same `object`. This means that all references will see the updated state of the object."
   ]
  },
  {
   "cell_type": "markdown",
   "metadata": {},
   "source": [
    "### Pass by refrence"
   ]
  },
  {
   "cell_type": "code",
   "execution_count": 31,
   "metadata": {},
   "outputs": [],
   "source": [
    "class Person:\n",
    "    def __init__(self,name,gender):\n",
    "        self.name = name\n",
    "        self.gender = gender\n",
    "\n",
    "# outside of the class hence it's a function\n",
    "def greet(Person):\n",
    "    print('Hi my name is', Person.name, 'and i am a', Person.gender)"
   ]
  },
  {
   "cell_type": "code",
   "execution_count": 32,
   "metadata": {},
   "outputs": [],
   "source": [
    "p = Person('Tanzir', 'male')"
   ]
  },
  {
   "cell_type": "code",
   "execution_count": 33,
   "metadata": {},
   "outputs": [
    {
     "name": "stdout",
     "output_type": "stream",
     "text": [
      "Hi my name is Tanzir and i am a male\n"
     ]
    }
   ],
   "source": [
    "greet(p)"
   ]
  },
  {
   "cell_type": "markdown",
   "metadata": {},
   "source": [
    "***In the above example we have passed the object of the class as an input to a function.***"
   ]
  },
  {
   "cell_type": "code",
   "execution_count": 44,
   "metadata": {},
   "outputs": [
    {
     "name": "stdout",
     "output_type": "stream",
     "text": [
      "Hi my name is Tanzir and i am a male\n",
      "Nida\n",
      "Female\n"
     ]
    }
   ],
   "source": [
    "class Person:\n",
    "    def __init__(self,name,gender):\n",
    "        self.name = name\n",
    "        self.gender = gender\n",
    "\n",
    "# outside of the class hence it's a function\n",
    "def greet(person):\n",
    "    print('Hi my name is', person.name, 'and i am a', person.gender)\n",
    "    p1 = Person('Nida', 'Female')\n",
    "    return p1\n",
    "\n",
    "p = Person('Tanzir', 'male')\n",
    "x = greet(p)\n",
    "print(x.name)\n",
    "print(x.gender)"
   ]
  },
  {
   "cell_type": "markdown",
   "metadata": {},
   "source": [
    "***In the above example the output of the function is the object of the person class***"
   ]
  },
  {
   "cell_type": "code",
   "execution_count": 45,
   "metadata": {},
   "outputs": [
    {
     "name": "stdout",
     "output_type": "stream",
     "text": [
      "2962485311808\n",
      "2962485311808\n",
      "Hi my name is Tanzir and i am a male\n"
     ]
    },
    {
     "data": {
      "text/plain": [
       "<__main__.Person at 0x2b1c1e25f60>"
      ]
     },
     "execution_count": 45,
     "metadata": {},
     "output_type": "execute_result"
    }
   ],
   "source": [
    "class Person:\n",
    "    def __init__(self,name,gender):\n",
    "        self.name = name\n",
    "        self.gender = gender\n",
    "\n",
    "# outside of the class hence it's a function\n",
    "def greet(person):\n",
    "    print(id(person))\n",
    "    print('Hi my name is', person.name, 'and i am a', person.gender)\n",
    "    p1 = Person('Nida', 'Female')\n",
    "    return p1\n",
    "\n",
    "p = Person('Tanzir', 'male')\n",
    "print(id(p))\n",
    "greet(p)"
   ]
  },
  {
   "cell_type": "markdown",
   "metadata": {},
   "source": [
    "***Technically we are not sending the object to the function we are actually sending the refrence i.e the address of the object***"
   ]
  },
  {
   "cell_type": "code",
   "execution_count": 47,
   "metadata": {},
   "outputs": [
    {
     "name": "stdout",
     "output_type": "stream",
     "text": [
      "Nida\n",
      "Nida\n"
     ]
    }
   ],
   "source": [
    "class Person:\n",
    "    def __init__(self,name,gender):\n",
    "        self.name = name\n",
    "        self.gender = gender\n",
    "\n",
    "# Tell what will be printed inside and outside of the fucnction when we call p.name\n",
    "def greet(person):\n",
    "    person.name = 'Nida'\n",
    "    print(person.name)\n",
    "\n",
    "p = Person('Tanzir', 'male')\n",
    "greet(p)\n",
    "print(p.name)"
   ]
  },
  {
   "cell_type": "markdown",
   "metadata": {},
   "source": [
    "***So this entire game is about the refrence***"
   ]
  },
  {
   "cell_type": "code",
   "execution_count": 50,
   "metadata": {},
   "outputs": [
    {
     "name": "stdout",
     "output_type": "stream",
     "text": [
      "2962485246608\n",
      "Nida\n",
      "2962485246608\n"
     ]
    }
   ],
   "source": [
    "class Person:\n",
    "    def __init__(self,name,gender):\n",
    "        self.name = name\n",
    "        self.gender = gender\n",
    "\n",
    "# Will the memory address change or not\n",
    "def greet(person):\n",
    "    person.name = 'Nida'\n",
    "    print(person.name)\n",
    "    return person\n",
    "\n",
    "p = Person('Tanzir', 'male')\n",
    "print(id(p))\n",
    "p1 = greet(p)\n",
    "print(id(p1))"
   ]
  },
  {
   "cell_type": "markdown",
   "metadata": {},
   "source": [
    "***Nobody can tell if the address of the object change or not untill he or she knows that the object is mutable or immutable***"
   ]
  },
  {
   "cell_type": "markdown",
   "metadata": {},
   "source": [
    "***If the object is immutable the address will change and if the object is mutable the address will not change***"
   ]
  },
  {
   "cell_type": "markdown",
   "metadata": {},
   "source": [
    "****by default all the objects in python are mutable and so was the case in the object we created so whatever changes we made actually happened in the same memory location so the memory address did not changed****"
   ]
  },
  {
   "cell_type": "markdown",
   "metadata": {},
   "source": [
    "User defined objects are mutable"
   ]
  }
 ],
 "metadata": {
  "kernelspec": {
   "display_name": "Python 3",
   "language": "python",
   "name": "python3"
  },
  "language_info": {
   "codemirror_mode": {
    "name": "ipython",
    "version": 3
   },
   "file_extension": ".py",
   "mimetype": "text/x-python",
   "name": "python",
   "nbconvert_exporter": "python",
   "pygments_lexer": "ipython3",
   "version": "3.10.9"
  }
 },
 "nbformat": 4,
 "nbformat_minor": 2
}
