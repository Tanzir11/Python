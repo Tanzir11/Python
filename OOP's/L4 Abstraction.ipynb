{
 "cells": [
  {
   "cell_type": "markdown",
   "metadata": {},
   "source": [
    "### Abstraction"
   ]
  },
  {
   "cell_type": "markdown",
   "metadata": {},
   "source": [
    "Abstraction is a fundamental concept in programming that helps manage complexity by hiding unnecessary details and exposing only the essential features of an object or system."
   ]
  },
  {
   "cell_type": "markdown",
   "metadata": {},
   "source": [
    "In Python, abstraction is primarily achieved through classes and abstract base classes. Let's start with a simple example and then build on it:"
   ]
  },
  {
   "cell_type": "markdown",
   "metadata": {},
   "source": [
    "1. Basic abstraction using classes:"
   ]
  },
  {
   "cell_type": "code",
   "execution_count": 13,
   "metadata": {},
   "outputs": [
    {
     "name": "stdout",
     "output_type": "stream",
     "text": [
      "The Toyota Corolla's engine is starting.\n",
      "The Toyota Corolla is moving.\n"
     ]
    }
   ],
   "source": [
    "class Car:\n",
    "    def __init__(self, make, model):\n",
    "        self.make = make\n",
    "        self.model = model\n",
    "    \n",
    "    def start_engine(self):\n",
    "        print(f\"The {self.make} {self.model}'s engine is starting.\")\n",
    "    \n",
    "    def drive(self):\n",
    "        print(f\"The {self.make} {self.model} is moving.\")\n",
    "\n",
    "# Using the abstraction\n",
    "my_car = Car(\"Toyota\", \"Corolla\")\n",
    "my_car.start_engine()\n",
    "my_car.drive()"
   ]
  },
  {
   "cell_type": "markdown",
   "metadata": {},
   "source": [
    "In this example, the Car class abstracts the concept of a car. Users of this class don't need to know how the engine starts or how the car moves; they just use the start_engine() and drive() methods."
   ]
  },
  {
   "cell_type": "markdown",
   "metadata": {},
   "source": [
    "2. Abstract Base Classes:"
   ]
  },
  {
   "cell_type": "markdown",
   "metadata": {},
   "source": [
    "For more advanced abstraction, Python provides the abc module (Abstract Base Classes). This allows you to define abstract methods that must be implemented by subclasses."
   ]
  },
  {
   "cell_type": "code",
   "execution_count": 2,
   "metadata": {},
   "outputs": [],
   "source": [
    "from abc import ABC, abstractmethod"
   ]
  },
  {
   "cell_type": "code",
   "execution_count": 14,
   "metadata": {},
   "outputs": [
    {
     "name": "stdout",
     "output_type": "stream",
     "text": [
      "Car engine starting\n",
      "Car is driving\n",
      "Boat engine starting\n",
      "Boat is sailing\n"
     ]
    }
   ],
   "source": [
    "class Vehicle(ABC):\n",
    "    @abstractmethod\n",
    "    def start_engine(self):\n",
    "        pass\n",
    "    \n",
    "    @abstractmethod\n",
    "    def move(self):\n",
    "        pass\n",
    "\n",
    "class Car(Vehicle):\n",
    "    def start_engine(self):\n",
    "        print(\"Car engine starting\")\n",
    "    \n",
    "    def move(self):\n",
    "        print(\"Car is driving\")\n",
    "\n",
    "class Boat(Vehicle):\n",
    "    def start_engine(self):\n",
    "        print(\"Boat engine starting\")\n",
    "    \n",
    "    def move(self):\n",
    "        print(\"Boat is sailing\")\n",
    "\n",
    "# Using the abstractions\n",
    "car = Car()\n",
    "boat = Boat()\n",
    "\n",
    "car.start_engine()\n",
    "car.move()\n",
    "\n",
    "boat.start_engine()\n",
    "boat.move()"
   ]
  },
  {
   "cell_type": "markdown",
   "metadata": {},
   "source": [
    "In this example, Vehicle is an abstract base class that defines the interface for all vehicles. Car and Boat are concrete implementations of this abstract class."
   ]
  },
  {
   "cell_type": "markdown",
   "metadata": {},
   "source": [
    "The key benefits of abstraction include:\n",
    "\n",
    "* Simplifying complex systems\n",
    "* Hiding unnecessary details\n",
    "* Providing a clear and easy-to-use interface\n",
    "* Allowing for code reusability and modularity"
   ]
  },
  {
   "cell_type": "markdown",
   "metadata": {},
   "source": [
    "We can not create the object of abstract class"
   ]
  }
 ],
 "metadata": {
  "kernelspec": {
   "display_name": "Python 3",
   "language": "python",
   "name": "python3"
  },
  "language_info": {
   "codemirror_mode": {
    "name": "ipython",
    "version": 3
   },
   "file_extension": ".py",
   "mimetype": "text/x-python",
   "name": "python",
   "nbconvert_exporter": "python",
   "pygments_lexer": "ipython3",
   "version": "3.10.9"
  }
 },
 "nbformat": 4,
 "nbformat_minor": 2
}
