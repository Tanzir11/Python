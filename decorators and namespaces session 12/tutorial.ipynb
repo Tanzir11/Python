{
 "cells": [
  {
   "cell_type": "markdown",
   "metadata": {},
   "source": [
    "The lecture prior to this was exception handelling"
   ]
  },
  {
   "cell_type": "markdown",
   "metadata": {},
   "source": [
    "Covered topics\n",
    "* Namespaces\n",
    "* decorators\n",
    "* iterators\n",
    "* generators"
   ]
  },
  {
   "cell_type": "markdown",
   "metadata": {},
   "source": [
    "### Namespaces\n",
    "\n",
    "A namespace is a space that holds names(identifiers). Programatically speaking namespaces are dictionary of identifiers(keys) and their objects(values)\n",
    "\n",
    "There are 4 types of namesspaces:\n",
    "* Bulitin Namespaces\n",
    "* Global Namespaces\n",
    "* Enclosing Namespaces\n",
    "* Local Namespace"
   ]
  },
  {
   "cell_type": "code",
   "execution_count": null,
   "metadata": {},
   "outputs": [],
   "source": [
    "a = 2\n",
    "b = 3"
   ]
  },
  {
   "cell_type": "markdown",
   "metadata": {},
   "source": [
    "The above code that we have written will get converted as follows: {a:2,b:3} and this is name space"
   ]
  },
  {
   "cell_type": "markdown",
   "metadata": {},
   "source": [
    "Scope and LEGB Rule"
   ]
  },
  {
   "cell_type": "markdown",
   "metadata": {},
   "source": [
    "**Scope** in Python refers to the region of a program where a particular variable or function is accessible. "
   ]
  },
  {
   "cell_type": "markdown",
   "metadata": {},
   "source": [
    "In summary\n",
    "\n",
    "* Namespace is a dictionary jaha hr variable ka naam hai and uski value hai.\n",
    "* Scope is an area where namespace's are accessable"
   ]
  },
  {
   "cell_type": "markdown",
   "metadata": {},
   "source": [
    "### LEGB Rule"
   ]
  },
  {
   "cell_type": "markdown",
   "metadata": {},
   "source": [
    "LEGB stands for **local enclosing global Builtin**"
   ]
  },
  {
   "cell_type": "markdown",
   "metadata": {},
   "source": [
    "Python has a well-defined hierarchy for scope, often remembered by the acronym **LEGB**:\n",
    "\n",
    "1. **Local Scope**: Variables defined within a function.\n",
    "2. **Enclosed Scope**: Variables defined in the nested functions (closures).\n",
    "3. **Global Scope**: Variables defined at the top level of a script or module.\n",
    "4. **Built-in Scope**: Names that are pre-defined by Python. These are always available and can be accessed from any part of the code."
   ]
  },
  {
   "cell_type": "markdown",
   "metadata": {},
   "source": [
    "#### local and global"
   ]
  },
  {
   "cell_type": "code",
   "execution_count": 1,
   "metadata": {},
   "outputs": [
    {
     "name": "stdout",
     "output_type": "stream",
     "text": [
      "3\n",
      "2\n"
     ]
    }
   ],
   "source": [
    "a = 2\n",
    "\n",
    "def temp():\n",
    "    b = 3\n",
    "    print(b)\n",
    "\n",
    "temp()\n",
    "print(a)"
   ]
  },
  {
   "cell_type": "markdown",
   "metadata": {},
   "source": [
    "here `a` is a global variable, `b` is a local variable"
   ]
  },
  {
   "cell_type": "markdown",
   "metadata": {},
   "source": [
    "#### local and global -> same name"
   ]
  },
  {
   "cell_type": "code",
   "execution_count": 2,
   "metadata": {},
   "outputs": [
    {
     "name": "stdout",
     "output_type": "stream",
     "text": [
      "3\n",
      "2\n"
     ]
    }
   ],
   "source": [
    "a = 2\n",
    "\n",
    "def temp():\n",
    "    a=3\n",
    "    print(a)\n",
    "\n",
    "temp()\n",
    "print(a)"
   ]
  },
  {
   "cell_type": "markdown",
   "metadata": {},
   "source": [
    "both variable are part of different name spaces and both variable exist in different scope, even though there name are same"
   ]
  },
  {
   "cell_type": "markdown",
   "metadata": {},
   "source": [
    "#### local and global -> local does not have but global has"
   ]
  },
  {
   "cell_type": "code",
   "execution_count": 3,
   "metadata": {},
   "outputs": [
    {
     "name": "stdout",
     "output_type": "stream",
     "text": [
      "2\n",
      "2\n"
     ]
    }
   ],
   "source": [
    "a = 2\n",
    "\n",
    "def temp():\n",
    "    print(a)\n",
    "\n",
    "temp()\n",
    "print(a)"
   ]
  },
  {
   "cell_type": "markdown",
   "metadata": {},
   "source": [
    "first python interprater search the variable in local scope then it looks for variable in enclosed scope then in global scope then finally in built in scope and in this case it looked for the variable locally it didnt found then it looked in global where it did found and so it got printed."
   ]
  },
  {
   "cell_type": "markdown",
   "metadata": {},
   "source": [
    "#### local and global -> editing global"
   ]
  },
  {
   "cell_type": "code",
   "execution_count": 4,
   "metadata": {},
   "outputs": [
    {
     "ename": "UnboundLocalError",
     "evalue": "local variable 'a' referenced before assignment",
     "output_type": "error",
     "traceback": [
      "\u001b[1;31m---------------------------------------------------------------------------\u001b[0m",
      "\u001b[1;31mUnboundLocalError\u001b[0m                         Traceback (most recent call last)",
      "Cell \u001b[1;32mIn[4], line 7\u001b[0m\n\u001b[0;32m      4\u001b[0m     a\u001b[38;5;241m+\u001b[39m\u001b[38;5;241m=\u001b[39m\u001b[38;5;241m1\u001b[39m\n\u001b[0;32m      5\u001b[0m     \u001b[38;5;28mprint\u001b[39m(a)\n\u001b[1;32m----> 7\u001b[0m \u001b[43mtemp\u001b[49m\u001b[43m(\u001b[49m\u001b[43m)\u001b[49m\n\u001b[0;32m      8\u001b[0m \u001b[38;5;28mprint\u001b[39m(a)\n",
      "Cell \u001b[1;32mIn[4], line 4\u001b[0m, in \u001b[0;36mtemp\u001b[1;34m()\u001b[0m\n\u001b[0;32m      3\u001b[0m \u001b[38;5;28;01mdef\u001b[39;00m \u001b[38;5;21mtemp\u001b[39m():\n\u001b[1;32m----> 4\u001b[0m     a\u001b[38;5;241m+\u001b[39m\u001b[38;5;241m=\u001b[39m\u001b[38;5;241m1\u001b[39m\n\u001b[0;32m      5\u001b[0m     \u001b[38;5;28mprint\u001b[39m(a)\n",
      "\u001b[1;31mUnboundLocalError\u001b[0m: local variable 'a' referenced before assignment"
     ]
    }
   ],
   "source": [
    "a = 2\n",
    "\n",
    "def temp():\n",
    "    a+=1\n",
    "    print(a)\n",
    "\n",
    "temp()\n",
    "print(a)"
   ]
  },
  {
   "cell_type": "markdown",
   "metadata": {},
   "source": [
    "So we can access `global variable` `locally` but we cannot change it. here we tried changing it and that caused us the issue"
   ]
  },
  {
   "cell_type": "markdown",
   "metadata": {},
   "source": [
    "***If making the change in global variable is absolutely necessassory required then we can change it using `global keyword`***"
   ]
  },
  {
   "cell_type": "code",
   "execution_count": 5,
   "metadata": {},
   "outputs": [
    {
     "name": "stdout",
     "output_type": "stream",
     "text": [
      "3\n",
      "3\n"
     ]
    }
   ],
   "source": [
    "a = 2\n",
    "\n",
    "def temp():\n",
    "    global a\n",
    "    a+=1\n",
    "    print(a)\n",
    "\n",
    "temp()\n",
    "print(a)"
   ]
  },
  {
   "cell_type": "markdown",
   "metadata": {},
   "source": [
    "***Just because we can do it it does not mean we should do it becasue it's not a good programming practice***"
   ]
  },
  {
   "cell_type": "code",
   "execution_count": 6,
   "metadata": {},
   "outputs": [
    {
     "name": "stdout",
     "output_type": "stream",
     "text": [
      "1\n",
      "1\n"
     ]
    }
   ],
   "source": [
    "a = 2\n",
    "\n",
    "def temp():\n",
    "    global a\n",
    "    a=1\n",
    "    print(a)\n",
    "\n",
    "temp()\n",
    "print(a)"
   ]
  },
  {
   "cell_type": "markdown",
   "metadata": {},
   "source": [
    "#### local and global -> function parameter is local"
   ]
  },
  {
   "cell_type": "code",
   "execution_count": 7,
   "metadata": {},
   "outputs": [
    {
     "name": "stdout",
     "output_type": "stream",
     "text": [
      "5\n",
      "5\n"
     ]
    }
   ],
   "source": [
    "def temp(z):\n",
    "    print(z)\n",
    "\n",
    "a=5\n",
    "temp(5)\n",
    "print(a)"
   ]
  },
  {
   "cell_type": "markdown",
   "metadata": {},
   "source": [
    "in the above example `z` is a local variable and `a` is a gloabl variable"
   ]
  },
  {
   "cell_type": "markdown",
   "metadata": {},
   "source": [
    "#### Built-in scope"
   ]
  },
  {
   "cell_type": "code",
   "execution_count": 12,
   "metadata": {},
   "outputs": [
    {
     "name": "stdout",
     "output_type": "stream",
     "text": [
      "Hello, World!\n"
     ]
    }
   ],
   "source": [
    "message = \"Hello, World!\"\n",
    "print(message) "
   ]
  },
  {
   "cell_type": "markdown",
   "metadata": {},
   "source": [
    "#### What is Built-in Scope?"
   ]
  },
  {
   "cell_type": "markdown",
   "metadata": {},
   "source": [
    "The **built-in scope** is the outermost scope in Python and contains names that are built into the Python interpreter. These names include functions, exceptions, and other objects that Python provides by default, such as:\n",
    "\n",
    "- `print()`: Used to output data to the console.\n",
    "- `len()`: Returns the number of items in a container.\n",
    "- `type()`: Returns the type of an object.\n",
    "- `max()`: Returns the largest of the provided values or the largest item in an iterable.\n",
    "- `min()`: Returns the smallest of the provided values or the smallest item in an iterable.\n",
    "- `sum()`: Adds up all the items in an iterable.\n",
    "\n",
    "These built-in names are available without needing to import any module or define them explicitly. They form part of Python's built-in namespace.\n",
    "\n",
    "**Example of Built-in Scope**\n",
    "\n",
    "Let's look at some examples to see how the built-in scope works in practice:\n",
    "\n",
    "1. **Using the `print()` Function**:\n",
    "    ```python\n",
    "    message = \"Hello, World!\"\n",
    "    print(message) \n",
    "    ```\n",
    "    ```bash\n",
    "    Outputs: Hello, World!\n",
    "    ```\n",
    "\n",
    "    Here, `print` is a built-in function. We don't need to define or import it; it is available for use anywhere in the script.\n",
    "\n",
    "2. **Using the `len()` Function**:\n",
    "    ```python\n",
    "    numbers = [1, 2, 3, 4, 5]\n",
    "    length = len(numbers)\n",
    "    print(length)  \n",
    "    ```\n",
    "    ``` bash\n",
    "    Outputs: 5\n",
    "    ```\n",
    "\n",
    "    The `len` function is built into Python and returns the number of elements in the list `numbers`.\n",
    "\n",
    "3. **Using the `type()` Function**:\n",
    "    ```python\n",
    "    num = 10\n",
    "    print(type(num))  \n",
    "    ```\n",
    "    ```bash\n",
    "    Outputs: <class 'int'>\n",
    "    ```\n",
    "\n",
    "    The `type` function is used to determine the type of the variable `num`. In this case, it returns `<class 'int'>` because `num` is an integer.\n",
    "\n",
    "4. **Using `max()` and `min()` Functions**:\n",
    "    ```python\n",
    "    values = [3, 1, 4, 1, 5, 9]\n",
    "    maximum_value = max(values)\n",
    "    minimum_value = min(values)\n",
    "    print(maximum_value)  \n",
    "    print(minimum_value)  \n",
    "    ```\n",
    "    ```\n",
    "    Outputs: 9\n",
    "    Outputs: 1\n",
    "    ```\n",
    "\n",
    "    The `max` function returns the largest item, and the `min` function returns the smallest item from the `values` list.\n",
    "\n",
    "**Importance of Built-in Scope**\n",
    "\n",
    "The built-in scope provides a set of standard functions and objects that are essential for everyday programming. These built-in functions help to:\n",
    "\n",
    "- Simplify common tasks like printing output, getting the length of an object, or finding the maximum value.\n",
    "- Avoid the need for importing or defining common utilities, making code shorter and easier to write.\n",
    "- Provide a consistent interface for common operations across all Python programs, which helps in maintaining and understanding code.\n",
    "\n",
    "**Conclusion**\n",
    "\n",
    "The built-in scope in Python is a powerful feature that provides developers with ready-to-use functions and objects, facilitating a more efficient and effective programming process. Understanding and utilizing these built-in functions is essential for writing robust and concise Python code."
   ]
  },
  {
   "cell_type": "markdown",
   "metadata": {},
   "source": [
    "#### How to see what are the functions available in python built-in scope"
   ]
  },
  {
   "cell_type": "code",
   "execution_count": 8,
   "metadata": {},
   "outputs": [
    {
     "name": "stdout",
     "output_type": "stream",
     "text": [
      "['ArithmeticError', 'AssertionError', 'AttributeError', 'BaseException', 'BlockingIOError', 'BrokenPipeError', 'BufferError', 'BytesWarning', 'ChildProcessError', 'ConnectionAbortedError', 'ConnectionError', 'ConnectionRefusedError', 'ConnectionResetError', 'DeprecationWarning', 'EOFError', 'Ellipsis', 'EncodingWarning', 'EnvironmentError', 'Exception', 'False', 'FileExistsError', 'FileNotFoundError', 'FloatingPointError', 'FutureWarning', 'GeneratorExit', 'IOError', 'ImportError', 'ImportWarning', 'IndentationError', 'IndexError', 'InterruptedError', 'IsADirectoryError', 'KeyError', 'KeyboardInterrupt', 'LookupError', 'MemoryError', 'ModuleNotFoundError', 'NameError', 'None', 'NotADirectoryError', 'NotImplemented', 'NotImplementedError', 'OSError', 'OverflowError', 'PendingDeprecationWarning', 'PermissionError', 'ProcessLookupError', 'RecursionError', 'ReferenceError', 'ResourceWarning', 'RuntimeError', 'RuntimeWarning', 'StopAsyncIteration', 'StopIteration', 'SyntaxError', 'SyntaxWarning', 'SystemError', 'SystemExit', 'TabError', 'TimeoutError', 'True', 'TypeError', 'UnboundLocalError', 'UnicodeDecodeError', 'UnicodeEncodeError', 'UnicodeError', 'UnicodeTranslateError', 'UnicodeWarning', 'UserWarning', 'ValueError', 'Warning', 'WindowsError', 'ZeroDivisionError', '__IPYTHON__', '__build_class__', '__debug__', '__doc__', '__import__', '__loader__', '__name__', '__package__', '__spec__', 'abs', 'aiter', 'all', 'anext', 'any', 'ascii', 'bin', 'bool', 'breakpoint', 'bytearray', 'bytes', 'callable', 'chr', 'classmethod', 'compile', 'complex', 'copyright', 'credits', 'delattr', 'dict', 'dir', 'display', 'divmod', 'enumerate', 'eval', 'exec', 'execfile', 'filter', 'float', 'format', 'frozenset', 'get_ipython', 'getattr', 'globals', 'hasattr', 'hash', 'help', 'hex', 'id', 'input', 'int', 'isinstance', 'issubclass', 'iter', 'len', 'license', 'list', 'locals', 'map', 'max', 'memoryview', 'min', 'next', 'object', 'oct', 'open', 'ord', 'pow', 'print', 'property', 'range', 'repr', 'reversed', 'round', 'runfile', 'set', 'setattr', 'slice', 'sorted', 'staticmethod', 'str', 'sum', 'super', 'tuple', 'type', 'vars', 'zip']\n"
     ]
    }
   ],
   "source": [
    "import builtins\n",
    "print(dir(builtins))"
   ]
  },
  {
   "cell_type": "code",
   "execution_count": 9,
   "metadata": {},
   "outputs": [
    {
     "data": {
      "text/plain": [
       "3"
      ]
     },
     "execution_count": 9,
     "metadata": {},
     "output_type": "execute_result"
    }
   ],
   "source": [
    "#### renaming built-ins\n",
    "L = [1,2,3]\n",
    "max(L)"
   ]
  },
  {
   "cell_type": "markdown",
   "metadata": {},
   "source": [
    "`L` is a part of global scope while `max` is the part of built-in scope."
   ]
  },
  {
   "cell_type": "code",
   "execution_count": 10,
   "metadata": {},
   "outputs": [
    {
     "ename": "TypeError",
     "evalue": "max() takes 0 positional arguments but 1 was given",
     "output_type": "error",
     "traceback": [
      "\u001b[1;31m---------------------------------------------------------------------------\u001b[0m",
      "\u001b[1;31mTypeError\u001b[0m                                 Traceback (most recent call last)",
      "Cell \u001b[1;32mIn[10], line 6\u001b[0m\n\u001b[0;32m      3\u001b[0m \u001b[38;5;28;01mdef\u001b[39;00m \u001b[38;5;21mmax\u001b[39m():\n\u001b[0;32m      4\u001b[0m     \u001b[38;5;28mprint\u001b[39m(\u001b[38;5;124m'\u001b[39m\u001b[38;5;124mhello\u001b[39m\u001b[38;5;124m'\u001b[39m)\n\u001b[1;32m----> 6\u001b[0m \u001b[38;5;28;43mmax\u001b[39;49m\u001b[43m(\u001b[49m\u001b[43mL\u001b[49m\u001b[43m)\u001b[49m\n",
      "\u001b[1;31mTypeError\u001b[0m: max() takes 0 positional arguments but 1 was given"
     ]
    }
   ],
   "source": [
    "L = [1,2,3]\n",
    "\n",
    "def max():\n",
    "    print('hello')\n",
    "\n",
    "max(L)"
   ]
  },
  {
   "cell_type": "markdown",
   "metadata": {},
   "source": [
    "***In above code, the `max` is not finding out the maximum number in the `list` as it's supposed to do according to it's `built-in score` we have replaces the `max` which had `built-in scope` to `max` from `global scope` who's job is to `print` the `hello` but it was not taking any argument we gave it an argument and that's why it's throwing the error.***"
   ]
  },
  {
   "cell_type": "code",
   "execution_count": 1,
   "metadata": {},
   "outputs": [
    {
     "ename": "TypeError",
     "evalue": "max() takes 0 positional arguments but 1 was given",
     "output_type": "error",
     "traceback": [
      "\u001b[1;31m---------------------------------------------------------------------------\u001b[0m",
      "\u001b[1;31mTypeError\u001b[0m                                 Traceback (most recent call last)",
      "Cell \u001b[1;32mIn[1], line 6\u001b[0m\n\u001b[0;32m      3\u001b[0m \u001b[38;5;28;01mdef\u001b[39;00m \u001b[38;5;21mmax\u001b[39m():\n\u001b[0;32m      4\u001b[0m     \u001b[38;5;28mprint\u001b[39m(\u001b[38;5;124m'\u001b[39m\u001b[38;5;124mhello\u001b[39m\u001b[38;5;124m'\u001b[39m)\n\u001b[1;32m----> 6\u001b[0m \u001b[38;5;28;43mmax\u001b[39;49m\u001b[43m(\u001b[49m\u001b[43mL\u001b[49m\u001b[43m)\u001b[49m\n",
      "\u001b[1;31mTypeError\u001b[0m: max() takes 0 positional arguments but 1 was given"
     ]
    }
   ],
   "source": [
    "L = [1,2,3]\n",
    "max(L)\n",
    "def max():\n",
    "    print('hello')\n",
    "\n",
    "max(L)"
   ]
  },
  {
   "cell_type": "markdown",
   "metadata": {},
   "source": [
    "***Once we have got the `global scope max` the `built-in scope` `max` will not work so we will have to be careful while working with the pre-defined keyword available in built-in functions***"
   ]
  },
  {
   "cell_type": "markdown",
   "metadata": {},
   "source": [
    "#### Enclosing scope"
   ]
  },
  {
   "cell_type": "markdown",
   "metadata": {},
   "source": [
    "We see enclosing scope inside nested functions"
   ]
  },
  {
   "cell_type": "code",
   "execution_count": 14,
   "metadata": {},
   "outputs": [
    {
     "name": "stdout",
     "output_type": "stream",
     "text": [
      "inner function\n",
      "Outer function\n",
      "main program\n"
     ]
    }
   ],
   "source": [
    "def outer():\n",
    "    def inner():\n",
    "        print(\"inner function\")\n",
    "    inner()\n",
    "    print(\"Outer function\")\n",
    "\n",
    "outer()\n",
    "print('main program')"
   ]
  },
  {
   "cell_type": "markdown",
   "metadata": {},
   "source": [
    "Line 1 par `def` hai toh hum usko skip karke line 7 par aayenge. Waha par Python interpreter outer function ko trigger karega. Ab hum outer function ke andar jayenge. Wahan par 2nd line mein inner function hai, lekin hum usko skip karke line 4 par jayenge. Line 4 par hum inner function ko call kar rahe hain, toh ab hum inner function ke andar jayenge. Yahan sabse pehle \"inner function\" print hoga. Jab yeh ho jayega, toh hum wapas bahar aayenge aur line 5 par jayenge aur \"outer function\" print karenge. Phir hum outer function se bahar aayenge aur \"main program\" print karenge.\n",
    "\n",
    "Detail mein samjhate hain:\n",
    "\n",
    "1. **Start with outer function**: Sabse pehle hum outer function ko call karenge. Outer function start hone par, wo inner function ko define karega lekin turant execute nahi karega.\n",
    "2. **Skip to inner function call**: Phir hum directly inner function ko call karenge (line 4 par).\n",
    "3. **Enter inner function**: Inner function call hone ke baad, uska code execute hoga, aur wo \"inner function\" print karega.\n",
    "4. **Return to outer function**: Inner function se wapas aane ke baad, hum line 5 par aayenge, jahan \"outer function\" print hoga.\n",
    "5. **Finish with main program**: Finally, outer function complete hone ke baad, hum \"main program\" print karenge."
   ]
  },
  {
   "cell_type": "markdown",
   "metadata": {},
   "source": [
    "In the above example:\n",
    "1. The `main program` is considered as a `global` \n",
    "2. The scope of `inner function` is considered as `local`\n",
    "3. The scope of `outer function` is called as `enclosed function` and in some cases it's also called `non local` scope"
   ]
  },
  {
   "cell_type": "code",
   "execution_count": 15,
   "metadata": {},
   "outputs": [
    {
     "name": "stdout",
     "output_type": "stream",
     "text": [
      "4\n",
      "Outer function\n",
      "main program\n"
     ]
    }
   ],
   "source": [
    "def outer():\n",
    "    a=3\n",
    "    def inner():\n",
    "        a=4\n",
    "        print(a)\n",
    "    inner()\n",
    "    print(\"Outer function\")\n",
    "\n",
    "a=1\n",
    "outer()\n",
    "print('main program')"
   ]
  },
  {
   "cell_type": "markdown",
   "metadata": {},
   "source": [
    "First of all i will go inside the inner function and try to find the value of a if i have recieved it i will print that value which is the case rn"
   ]
  },
  {
   "cell_type": "code",
   "execution_count": 16,
   "metadata": {},
   "outputs": [
    {
     "name": "stdout",
     "output_type": "stream",
     "text": [
      "3\n",
      "Outer function\n",
      "main program\n"
     ]
    }
   ],
   "source": [
    "def outer():\n",
    "    a=3\n",
    "    def inner():\n",
    "        print(a)\n",
    "    inner()\n",
    "    print(\"Outer function\")\n",
    "\n",
    "a=1\n",
    "outer()\n",
    "print('main program')"
   ]
  },
  {
   "cell_type": "markdown",
   "metadata": {},
   "source": [
    "In this case there isn't any `a` defined in the inner functions so the `print` statement in inner function will assume the value `a` of outer function which has the enclosed scope and hence will print 3"
   ]
  },
  {
   "cell_type": "code",
   "execution_count": 17,
   "metadata": {},
   "outputs": [
    {
     "name": "stdout",
     "output_type": "stream",
     "text": [
      "1\n",
      "Outer function\n",
      "main program\n"
     ]
    }
   ],
   "source": [
    "def outer():\n",
    "    def inner():\n",
    "        print(a)\n",
    "    inner()\n",
    "    print(\"Outer function\")\n",
    "\n",
    "a=1\n",
    "outer()\n",
    "print('main program')"
   ]
  },
  {
   "cell_type": "markdown",
   "metadata": {},
   "source": [
    "In the above case there isn't any value of `a` in `inner function(local scope)` so it will try to find the value of `a` in `outer function(enclosed scope)` in our case `a` is not defined there as well. So it will try to find the value of `a` in `main program(global scope)` and there it will find the value of `a` to be 1` so one will get printed."
   ]
  },
  {
   "cell_type": "code",
   "execution_count": 1,
   "metadata": {},
   "outputs": [
    {
     "ename": "NameError",
     "evalue": "name 'a' is not defined",
     "output_type": "error",
     "traceback": [
      "\u001b[1;31m---------------------------------------------------------------------------\u001b[0m",
      "\u001b[1;31mNameError\u001b[0m                                 Traceback (most recent call last)",
      "Cell \u001b[1;32mIn[1], line 7\u001b[0m\n\u001b[0;32m      4\u001b[0m     inner()\n\u001b[0;32m      5\u001b[0m     \u001b[38;5;28mprint\u001b[39m(\u001b[38;5;124m\"\u001b[39m\u001b[38;5;124mOuter function\u001b[39m\u001b[38;5;124m\"\u001b[39m)\n\u001b[1;32m----> 7\u001b[0m \u001b[43mouter\u001b[49m\u001b[43m(\u001b[49m\u001b[43m)\u001b[49m\n\u001b[0;32m      8\u001b[0m \u001b[38;5;28mprint\u001b[39m(\u001b[38;5;124m'\u001b[39m\u001b[38;5;124mmain program\u001b[39m\u001b[38;5;124m'\u001b[39m)\n",
      "Cell \u001b[1;32mIn[1], line 4\u001b[0m, in \u001b[0;36mouter\u001b[1;34m()\u001b[0m\n\u001b[0;32m      2\u001b[0m \u001b[38;5;28;01mdef\u001b[39;00m \u001b[38;5;21minner\u001b[39m():\n\u001b[0;32m      3\u001b[0m     \u001b[38;5;28mprint\u001b[39m(a)\n\u001b[1;32m----> 4\u001b[0m \u001b[43minner\u001b[49m\u001b[43m(\u001b[49m\u001b[43m)\u001b[49m\n\u001b[0;32m      5\u001b[0m \u001b[38;5;28mprint\u001b[39m(\u001b[38;5;124m\"\u001b[39m\u001b[38;5;124mOuter function\u001b[39m\u001b[38;5;124m\"\u001b[39m)\n",
      "Cell \u001b[1;32mIn[1], line 3\u001b[0m, in \u001b[0;36mouter.<locals>.inner\u001b[1;34m()\u001b[0m\n\u001b[0;32m      2\u001b[0m \u001b[38;5;28;01mdef\u001b[39;00m \u001b[38;5;21minner\u001b[39m():\n\u001b[1;32m----> 3\u001b[0m     \u001b[38;5;28mprint\u001b[39m(\u001b[43ma\u001b[49m)\n",
      "\u001b[1;31mNameError\u001b[0m: name 'a' is not defined"
     ]
    }
   ],
   "source": [
    "def outer():\n",
    "    def inner():\n",
    "        print(a)\n",
    "    inner()\n",
    "    print(\"Outer function\")\n",
    "\n",
    "outer()\n",
    "print('main program')"
   ]
  },
  {
   "cell_type": "markdown",
   "metadata": {},
   "source": [
    "In the above case there isn't any value of `a` in `inner function(local scope)` so it will try to find the value of `a` in `outer function(enclosed scope)` in our case `a` is not defined there as well. So it will try to find the value of `a` in `main program(global scope)` and there isn't one as well so it will try to find the value of a in the `built-in scope` and it's not defined there as well so now it will throw the error."
   ]
  },
  {
   "cell_type": "markdown",
   "metadata": {},
   "source": [
    "### nonlocal keyword"
   ]
  },
  {
   "cell_type": "code",
   "execution_count": 2,
   "metadata": {},
   "outputs": [
    {
     "ename": "UnboundLocalError",
     "evalue": "local variable 'a' referenced before assignment",
     "output_type": "error",
     "traceback": [
      "\u001b[1;31m---------------------------------------------------------------------------\u001b[0m",
      "\u001b[1;31mUnboundLocalError\u001b[0m                         Traceback (most recent call last)",
      "Cell \u001b[1;32mIn[2], line 8\u001b[0m\n\u001b[0;32m      5\u001b[0m     inner()\n\u001b[0;32m      6\u001b[0m     \u001b[38;5;28mprint\u001b[39m(\u001b[38;5;124m'\u001b[39m\u001b[38;5;124mouter function\u001b[39m\u001b[38;5;124m'\u001b[39m)\n\u001b[1;32m----> 8\u001b[0m \u001b[43mouter\u001b[49m\u001b[43m(\u001b[49m\u001b[43m)\u001b[49m\n\u001b[0;32m      9\u001b[0m \u001b[38;5;28mprint\u001b[39m(\u001b[38;5;124m'\u001b[39m\u001b[38;5;124mmain program\u001b[39m\u001b[38;5;124m'\u001b[39m)\n",
      "Cell \u001b[1;32mIn[2], line 5\u001b[0m, in \u001b[0;36mouter\u001b[1;34m()\u001b[0m\n\u001b[0;32m      3\u001b[0m \u001b[38;5;28;01mdef\u001b[39;00m \u001b[38;5;21minner\u001b[39m():\n\u001b[0;32m      4\u001b[0m     a\u001b[38;5;241m+\u001b[39m\u001b[38;5;241m=\u001b[39m\u001b[38;5;241m1\u001b[39m\n\u001b[1;32m----> 5\u001b[0m \u001b[43minner\u001b[49m\u001b[43m(\u001b[49m\u001b[43m)\u001b[49m\n\u001b[0;32m      6\u001b[0m \u001b[38;5;28mprint\u001b[39m(\u001b[38;5;124m'\u001b[39m\u001b[38;5;124mouter function\u001b[39m\u001b[38;5;124m'\u001b[39m)\n",
      "Cell \u001b[1;32mIn[2], line 4\u001b[0m, in \u001b[0;36mouter.<locals>.inner\u001b[1;34m()\u001b[0m\n\u001b[0;32m      3\u001b[0m \u001b[38;5;28;01mdef\u001b[39;00m \u001b[38;5;21minner\u001b[39m():\n\u001b[1;32m----> 4\u001b[0m     a\u001b[38;5;241m+\u001b[39m\u001b[38;5;241m=\u001b[39m\u001b[38;5;241m1\u001b[39m\n",
      "\u001b[1;31mUnboundLocalError\u001b[0m: local variable 'a' referenced before assignment"
     ]
    }
   ],
   "source": [
    "def outer():\n",
    "    a = 1\n",
    "    def inner():\n",
    "        a+=1\n",
    "    inner()\n",
    "    print('outer function')\n",
    "\n",
    "outer()\n",
    "print('main program')"
   ]
  },
  {
   "cell_type": "code",
   "execution_count": 4,
   "metadata": {},
   "outputs": [
    {
     "name": "stdout",
     "output_type": "stream",
     "text": [
      "inner 2\n",
      "outer 2\n",
      "main program\n"
     ]
    }
   ],
   "source": [
    "def outer():\n",
    "    a = 1\n",
    "    def inner():\n",
    "        nonlocal a\n",
    "        a+=1\n",
    "        print('inner',a)\n",
    "    inner()\n",
    "    print('outer',a)\n",
    "\n",
    "outer()\n",
    "print('main program')"
   ]
  },
  {
   "cell_type": "markdown",
   "metadata": {},
   "source": [
    "again, we are not supposed to do this but if push comes to shove we can"
   ]
  },
  {
   "cell_type": "markdown",
   "metadata": {},
   "source": [
    "1. **LEGB** stands for:\n",
    "   - **Local**: Refers to variables defined within the current function or method.\n",
    "   - **Enclosing**: Refers to variables in the enclosing (outer) function (if any).\n",
    "   - **Global**: Refers to variables defined at the top level of a module or explicitly declared as global.\n",
    "   - **Built-in**: Refers to Python's built-in names (e.g., `print`, `len`, `sum`).\n",
    "\n",
    "2. **Order of Lookup**:\n",
    "   - When you reference a variable, Python follows this order to find its value:\n",
    "     1. Local scope (within the current function).\n",
    "     2. Enclosing scope (if nested functions).\n",
    "     3. Global scope (module-level variables).\n",
    "     4. Built-in scope (Python's built-in functions).\n",
    "\n",
    "3. **Example**:\n",
    "   ```python\n",
    "   x = 10  # Global variable\n",
    "\n",
    "   def outer():\n",
    "       y = 20  # Enclosing variable\n",
    "\n",
    "       def inner():\n",
    "           z = 30  # Local variable\n",
    "           print(x, y, z)  # Accessing variables from different scopes\n",
    "\n",
    "       inner()\n",
    "\n",
    "   outer()\n",
    "   ```\n",
    "\n",
    "Remember, understanding LEGB helps prevent unexpected behavior when working with variables in Python! 🐍"
   ]
  },
  {
   "cell_type": "markdown",
   "metadata": {},
   "source": [
    "### Decorators"
   ]
  },
  {
   "cell_type": "markdown",
   "metadata": {},
   "source": [
    "A decorators in python is a function that recieves another function as input and adds some functionality(decoration) to it and returns it.\n",
    "\n",
    "This can happen only because python functions are ***1st class citizens***.\n",
    "    \n",
    "There are 2 types of decorators available in python.\n",
    "\n",
    "* `Built in decorators` like `@staticmethod`, `@classmethod`, `@abstractmethod`, `@property` etc\n",
    "* `User defined decorators` that we programmers can createe according to our needs"
   ]
  },
  {
   "cell_type": "code",
   "execution_count": 23,
   "metadata": {},
   "outputs": [
    {
     "name": "stdout",
     "output_type": "stream",
     "text": [
      "******************\n",
      "Hello\n",
      "******************\n"
     ]
    }
   ],
   "source": [
    "def my_decorator(func):\n",
    "    def wrapper():\n",
    "        print(\"******************\")\n",
    "        func()\n",
    "        print(\"******************\")\n",
    "    return wrapper\n",
    "\n",
    "def hello():\n",
    "    print(\"Hello\")\n",
    "\n",
    "a = my_decorator(hello)\n",
    "a()\n"
   ]
  },
  {
   "cell_type": "markdown",
   "metadata": {},
   "source": [
    "First of all python interpreture goes to line 1 it sees there is a function and it ignores it and moves to line 8 again a function ignores it moves to line 11 there it sees a value: `a` and it is calling teh my_decorator function so we move inside the my decorator function we go to line 2 there is another function definition we ignore it and return teh wrapper function directly. The wrapper function is then held by a and on line 12 we are calling the wrapper function but there is a twist:\n",
    "\n",
    "* Normally, when a function finishes executing, it is removed from memory. However, there is a special case called a \"closure.\" In a closure, an outer function defines an inner function and returns that inner function. When this happens, the outer function does not get completely removed from memory. Instead, it stays in a dormant state, allowing the inner function to still access the outer function's variables and values, even after the outer function has finished running. This is because the inner function \"closes over\" the outer function's environment, preserving its state."
   ]
  },
  {
   "cell_type": "markdown",
   "metadata": {},
   "source": [
    "***Step-by-Step Explanation***\n",
    "\n",
    "1. **Function Definitions:**\n",
    "   - **Lines 1-6:** `my_decorator` is defined as a function that takes another function `func` as an argument. Inside `my_decorator`, another function `wrapper` is defined, which prints a line of asterisks, calls the `func` function, and then prints another line of asterisks. Finally, `my_decorator` returns the `wrapper` function.\n",
    "   - **Lines 8-9:** A simple function called `hello` is defined, which just prints \"Hello\".\n",
    "\n",
    "2. **Using the Decorator:**\n",
    "   - **Line 11:** The variable `a` is assigned the result of calling `my_decorator` with `hello` as its argument. At this point:\n",
    "     - The Python interpreter reaches `my_decorator(hello)`.\n",
    "     - It enters the `my_decorator` function. Inside `my_decorator`, it defines the `wrapper` function but doesn’t execute it immediately.\n",
    "     - The `my_decorator` function then returns the `wrapper` function, which is now assigned to `a`.\n",
    "\n",
    "3. **Calling the Decorated Function:**\n",
    "   - **Line 12:** When `a()` is called, it actually calls the `wrapper` function that was returned by `my_decorator`.\n",
    "     - This means `wrapper()` is executed, which prints the line of asterisks, calls the original `hello` function (which prints \"Hello\"), and then prints another line of asterisks.\n",
    "\n",
    "***Understanding Closures in This Context***\n",
    "\n",
    "- Normally, when a function completes execution, it is removed from memory. However, closures allow functions to retain access to their environment.\n",
    "- In this example, `my_decorator` creates a closure. It defines `wrapper` and returns it. The `wrapper` function has access to `func`, which was passed to `my_decorator` (in this case, `hello`). Even after `my_decorator` has finished executing, `wrapper` still has access to `func` because of the closure. This is why `a()` can still call `hello()` even though `my_decorator` has completed.\n",
    "\n",
    "***Summary***\n",
    "\n",
    "- The `my_decorator` function is called with `hello` as an argument.\n",
    "- It returns the `wrapper` function, which is assigned to `a`.\n",
    "- When `a()` is called, it runs the `wrapper` function, printing lines of asterisks before and after calling `hello`.\n",
    "- This demonstrates how closures work by keeping the `func` argument available to `wrapper`, even after `my_decorator` has finished execution.\n",
    "\n",
    "***100 baat ki seedhi baat***\n",
    "* Parent function k marne k baad bhi child function can access their variables, values and etc"
   ]
  },
  {
   "cell_type": "code",
   "execution_count": 19,
   "metadata": {},
   "outputs": [],
   "source": [
    "def my_decorator(func):\n",
    "    def wrapper():\n",
    "        print(\"******************\")\n",
    "        func()\n",
    "        print(\"******************\")\n",
    "    return wrapper\n",
    "\n",
    "def hello():\n",
    "    print(\"Hello\")\n",
    "\n",
    "def display():\n",
    "    print(\"Hello tanzir\")"
   ]
  },
  {
   "cell_type": "code",
   "execution_count": 20,
   "metadata": {},
   "outputs": [],
   "source": [
    "b = my_decorator(display)"
   ]
  },
  {
   "cell_type": "code",
   "execution_count": 22,
   "metadata": {},
   "outputs": [
    {
     "name": "stdout",
     "output_type": "stream",
     "text": [
      "******************\n",
      "Hello tanzir\n",
      "******************\n"
     ]
    }
   ],
   "source": [
    "b()"
   ]
  },
  {
   "cell_type": "markdown",
   "metadata": {},
   "source": [
    "### Better syntax of decorators"
   ]
  },
  {
   "cell_type": "code",
   "execution_count": 25,
   "metadata": {},
   "outputs": [
    {
     "name": "stdout",
     "output_type": "stream",
     "text": [
      "******************\n",
      "Hello\n",
      "******************\n"
     ]
    }
   ],
   "source": [
    "def my_decorator(func):\n",
    "    def wrapper():\n",
    "        print(\"******************\")\n",
    "        func()\n",
    "        print(\"******************\")\n",
    "    return wrapper\n",
    "\n",
    "@my_decorator\n",
    "def hello():\n",
    "    print(\"Hello\")\n",
    "\n",
    "hello()"
   ]
  },
  {
   "cell_type": "code",
   "execution_count": 28,
   "metadata": {},
   "outputs": [
    {
     "name": "stdout",
     "output_type": "stream",
     "text": [
      "hello\n",
      "time taken by hello 2.0125274658203125\n",
      "Something displaying\n",
      "time taken by display 2.0072762966156006\n"
     ]
    },
    {
     "data": {
      "text/plain": [
       "(None, None)"
      ]
     },
     "execution_count": 28,
     "metadata": {},
     "output_type": "execute_result"
    }
   ],
   "source": [
    "import time\n",
    "\n",
    "def some_dec(func):\n",
    "    def wrapper():\n",
    "        start = time.time()\n",
    "        func()\n",
    "        end = time.time()\n",
    "        print(\"time taken by\", func.__name__, end-start)\n",
    "    return wrapper\n",
    "\n",
    "@some_dec\n",
    "def hello():\n",
    "    print(\"hello\")\n",
    "    time.sleep(2)\n",
    "\n",
    "@some_dec\n",
    "def display():\n",
    "    print(\"Something displaying\")\n",
    "    time.sleep(2)\n",
    "\n",
    "hello(), display()"
   ]
  },
  {
   "cell_type": "code",
   "execution_count": 32,
   "metadata": {},
   "outputs": [
    {
     "ename": "TypeError",
     "evalue": "some_dec.<locals>.wrapper() takes 0 positional arguments but 1 was given",
     "output_type": "error",
     "traceback": [
      "\u001b[1;31m---------------------------------------------------------------------------\u001b[0m",
      "\u001b[1;31mTypeError\u001b[0m                                 Traceback (most recent call last)",
      "Cell \u001b[1;32mIn[32], line 16\u001b[0m\n\u001b[0;32m     13\u001b[0m     time\u001b[38;5;241m.\u001b[39msleep(\u001b[38;5;241m1\u001b[39m)\n\u001b[0;32m     14\u001b[0m     \u001b[38;5;28;01mreturn\u001b[39;00m num\u001b[38;5;241m*\u001b[39m\u001b[38;5;241m*\u001b[39m\u001b[38;5;241m2\u001b[39m\n\u001b[1;32m---> 16\u001b[0m \u001b[43msquare\u001b[49m\u001b[43m(\u001b[49m\u001b[38;5;241;43m2\u001b[39;49m\u001b[43m)\u001b[49m\n",
      "\u001b[1;31mTypeError\u001b[0m: some_dec.<locals>.wrapper() takes 0 positional arguments but 1 was given"
     ]
    }
   ],
   "source": [
    "import time\n",
    "\n",
    "def some_dec(func):\n",
    "    def wrapper():\n",
    "        start = time.time()\n",
    "        func()\n",
    "        end = time.time()\n",
    "        print(\"time taken by\", func.__name__, end-start)\n",
    "    return wrapper\n",
    "\n",
    "@some_dec\n",
    "def square(num):\n",
    "    time.sleep(1)\n",
    "    return num**2\n",
    "\n",
    "square(2)"
   ]
  },
  {
   "cell_type": "markdown",
   "metadata": {},
   "source": [
    "So the issue over here is something else follows:\n",
    "* square function get's inside some_dec function\n",
    "* some_dec returns wrapper\n",
    "* wrapper get's called.\n",
    "* But inside the wrapper the square function is being called, square function requires one argument but the function that is present in wrapper does not take any arguments. so there is a mismatch of the inputs and we are getting the error"
   ]
  },
  {
   "cell_type": "markdown",
   "metadata": {},
   "source": [
    "#### More generalised form of coding"
   ]
  },
  {
   "cell_type": "code",
   "execution_count": 36,
   "metadata": {},
   "outputs": [
    {
     "name": "stdout",
     "output_type": "stream",
     "text": [
      "4\n",
      "time taken by square 1.0105268955230713\n"
     ]
    }
   ],
   "source": [
    "import time\n",
    "\n",
    "def some_dec(func):\n",
    "    def wrapper(*args):\n",
    "        start = time.time()\n",
    "        func(*args)\n",
    "        end = time.time()\n",
    "        print(\"time taken by\", func.__name__, end-start)\n",
    "    return wrapper\n",
    "\n",
    "@some_dec\n",
    "def square(num):\n",
    "    time.sleep(1)\n",
    "    print(num**2)\n",
    "\n",
    "square(2)"
   ]
  },
  {
   "cell_type": "markdown",
   "metadata": {},
   "source": [
    "So the issue over here is something else follows:\n",
    "* square function get's inside some_dec function\n",
    "* some_dec returns wrapper\n",
    "* wrapper get's called.\n",
    "* Now inside the wrapper the square function is being called and now since we are passing args we can pass any number of inputs and so it should work with one variable being provided"
   ]
  },
  {
   "cell_type": "code",
   "execution_count": 38,
   "metadata": {},
   "outputs": [
    {
     "name": "stdout",
     "output_type": "stream",
     "text": [
      "8\n",
      "time taken by power 1.0131916999816895\n"
     ]
    }
   ],
   "source": [
    "import time\n",
    "\n",
    "def some_dec(func):\n",
    "    def wrapper(*args):\n",
    "        start = time.time()\n",
    "        func(*args)\n",
    "        end = time.time()\n",
    "        print(\"time taken by\", func.__name__, end-start)\n",
    "    return wrapper\n",
    "\n",
    "@some_dec\n",
    "def power(a,b):\n",
    "    time.sleep(1)\n",
    "    print(a**b)\n",
    "\n",
    "power(2,3)"
   ]
  },
  {
   "cell_type": "markdown",
   "metadata": {},
   "source": [
    "#### Write the code to monitor the datatype of the input the function is getting"
   ]
  },
  {
   "cell_type": "code",
   "execution_count": 54,
   "metadata": {},
   "outputs": [
    {
     "ename": "TypeError",
     "evalue": "Ye data type nahi chalega",
     "output_type": "error",
     "traceback": [
      "\u001b[1;31m---------------------------------------------------------------------------\u001b[0m",
      "\u001b[1;31mTypeError\u001b[0m                                 Traceback (most recent call last)",
      "Cell \u001b[1;32mIn[54], line 16\u001b[0m\n\u001b[0;32m     13\u001b[0m     \u001b[38;5;28mprint\u001b[39m(num\u001b[38;5;241m*\u001b[39m\u001b[38;5;241m*\u001b[39m\u001b[38;5;241m2\u001b[39m)\n\u001b[0;32m     15\u001b[0m \u001b[38;5;66;03m# a = square(2)\u001b[39;00m\n\u001b[1;32m---> 16\u001b[0m a \u001b[38;5;241m=\u001b[39m \u001b[43msquare\u001b[49m\u001b[43m(\u001b[49m\u001b[38;5;124;43m\"\u001b[39;49m\u001b[38;5;124;43mhello\u001b[39;49m\u001b[38;5;124;43m\"\u001b[39;49m\u001b[43m)\u001b[49m\n",
      "Cell \u001b[1;32mIn[54], line 7\u001b[0m, in \u001b[0;36msanity_check.<locals>.outer_wrapper.<locals>.inner_wrapper\u001b[1;34m(*args)\u001b[0m\n\u001b[0;32m      5\u001b[0m     func(\u001b[38;5;241m*\u001b[39margs)\n\u001b[0;32m      6\u001b[0m \u001b[38;5;28;01melse\u001b[39;00m:\n\u001b[1;32m----> 7\u001b[0m     \u001b[38;5;28;01mraise\u001b[39;00m \u001b[38;5;167;01mTypeError\u001b[39;00m(\u001b[38;5;124m'\u001b[39m\u001b[38;5;124mYe data type nahi chalega\u001b[39m\u001b[38;5;124m'\u001b[39m)\n",
      "\u001b[1;31mTypeError\u001b[0m: Ye data type nahi chalega"
     ]
    }
   ],
   "source": [
    "def sanity_check(data_type):\n",
    "    def outer_wrapper(func):\n",
    "        def inner_wrapper(*args):\n",
    "            if type(args[0]) == data_type:\n",
    "                func(*args)\n",
    "            else:\n",
    "                raise TypeError('Ye data type nahi chalega')\n",
    "        return inner_wrapper\n",
    "    return outer_wrapper\n",
    "\n",
    "@sanity_check(int)\n",
    "def square(num):\n",
    "    print(num**2)\n",
    "\n",
    "# a = square(2)\n",
    "a = square(\"hello\")"
   ]
  },
  {
   "cell_type": "code",
   "execution_count": 53,
   "metadata": {},
   "outputs": [
    {
     "ename": "TypeError",
     "evalue": "Ye data type nahi chalega",
     "output_type": "error",
     "traceback": [
      "\u001b[1;31m---------------------------------------------------------------------------\u001b[0m",
      "\u001b[1;31mTypeError\u001b[0m                                 Traceback (most recent call last)",
      "Cell \u001b[1;32mIn[53], line 16\u001b[0m\n\u001b[0;32m     13\u001b[0m     \u001b[38;5;28mprint\u001b[39m(\u001b[38;5;124mf\u001b[39m\u001b[38;5;124m\"\u001b[39m\u001b[38;5;124mhello \u001b[39m\u001b[38;5;132;01m{\u001b[39;00mname\u001b[38;5;132;01m}\u001b[39;00m\u001b[38;5;124m\"\u001b[39m)\n\u001b[0;32m     15\u001b[0m \u001b[38;5;66;03m# a = greet(\"tanzir\")\u001b[39;00m\n\u001b[1;32m---> 16\u001b[0m a \u001b[38;5;241m=\u001b[39m \u001b[43mgreet\u001b[49m\u001b[43m(\u001b[49m\u001b[38;5;241;43m3\u001b[39;49m\u001b[43m)\u001b[49m\n",
      "Cell \u001b[1;32mIn[53], line 7\u001b[0m, in \u001b[0;36msanity_check.<locals>.outer_wrapper.<locals>.inner_wrapper\u001b[1;34m(*args)\u001b[0m\n\u001b[0;32m      5\u001b[0m     func(\u001b[38;5;241m*\u001b[39margs)\n\u001b[0;32m      6\u001b[0m \u001b[38;5;28;01melse\u001b[39;00m:\n\u001b[1;32m----> 7\u001b[0m     \u001b[38;5;28;01mraise\u001b[39;00m \u001b[38;5;167;01mTypeError\u001b[39;00m(\u001b[38;5;124m'\u001b[39m\u001b[38;5;124mYe data type nahi chalega\u001b[39m\u001b[38;5;124m'\u001b[39m)\n",
      "\u001b[1;31mTypeError\u001b[0m: Ye data type nahi chalega"
     ]
    }
   ],
   "source": [
    "def sanity_check(data_type):\n",
    "    def outer_wrapper(func):\n",
    "        def inner_wrapper(*args):\n",
    "            if type(args[0]) == data_type:\n",
    "                func(*args)\n",
    "            else:\n",
    "                raise TypeError('Ye data type nahi chalega')\n",
    "        return inner_wrapper\n",
    "    return outer_wrapper\n",
    "\n",
    "@sanity_check(str)\n",
    "def greet(name):\n",
    "    print(f\"hello {name}\")\n",
    "\n",
    "# a = greet(\"tanzir\")\n",
    "a = greet(3)"
   ]
  },
  {
   "cell_type": "markdown",
   "metadata": {},
   "source": [
    "### Look for cool functionalities of decorators"
   ]
  }
 ],
 "metadata": {
  "kernelspec": {
   "display_name": "Python 3",
   "language": "python",
   "name": "python3"
  },
  "language_info": {
   "codemirror_mode": {
    "name": "ipython",
    "version": 3
   },
   "file_extension": ".py",
   "mimetype": "text/x-python",
   "name": "python",
   "nbconvert_exporter": "python",
   "pygments_lexer": "ipython3",
   "version": "3.10.9"
  }
 },
 "nbformat": 4,
 "nbformat_minor": 2
}
