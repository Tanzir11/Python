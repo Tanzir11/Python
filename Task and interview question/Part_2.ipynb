{
 "cells": [
  {
   "cell_type": "markdown",
   "metadata": {},
   "source": [
    "## Points to remember\n",
    "\n",
    "- Codes asked are relatively easier in comparison to SDE roles\n",
    "- Pythonic syntax is preferred in most companies\n",
    "- Focus is on optimized code\n",
    "- Start with the simplest solution and then improve\n",
    "- A lot of questions are repeated so mugging up the approaches help\n",
    "- Build intuition using Python Tutor"
   ]
  },
  {
   "cell_type": "markdown",
   "metadata": {
    "vscode": {
     "languageId": "plaintext"
    }
   },
   "source": [
    "### 1. Find the kth largest/smallest item from a list\n",
    "\n",
    "L = [12,23,1,4,56,34,22,3]"
   ]
  },
  {
   "cell_type": "code",
   "execution_count": 2,
   "metadata": {},
   "outputs": [
    {
     "name": "stdout",
     "output_type": "stream",
     "text": [
      "34\n"
     ]
    }
   ],
   "source": [
    "L = [12,23,1,4,56,34,22,3]\n",
    "k = int(input())\n",
    "L.sort()\n",
    "for i in range(len(L)):\n",
    "    if i==k:\n",
    "        print(L[-i])\n",
    "    else:\n",
    "        pass"
   ]
  },
  {
   "cell_type": "markdown",
   "metadata": {},
   "source": [
    "### 10. Maximum sum subarray\n",
    "L = [-2,4,7,-1,6,-11,14,3,-1,-6]"
   ]
  },
  {
   "cell_type": "code",
   "execution_count": null,
   "metadata": {},
   "outputs": [],
   "source": []
  }
 ],
 "metadata": {
  "kernelspec": {
   "display_name": "Python 3",
   "language": "python",
   "name": "python3"
  },
  "language_info": {
   "codemirror_mode": {
    "name": "ipython",
    "version": 3
   },
   "file_extension": ".py",
   "mimetype": "text/x-python",
   "name": "python",
   "nbconvert_exporter": "python",
   "pygments_lexer": "ipython3",
   "version": "3.10.9"
  }
 },
 "nbformat": 4,
 "nbformat_minor": 2
}
