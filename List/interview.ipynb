{
 "cells": [
  {
   "cell_type": "markdown",
   "metadata": {},
   "source": [
    "# Problem 1 Maximum sum subarray\n",
    "\n",
    "L = [-2,4,7,-1,6,-11,14,3,-1,-6]"
   ]
  },
  {
   "cell_type": "markdown",
   "metadata": {},
   "source": [
    "***Important points about sub array:***\n",
    "    \n",
    "    1. subarray must be continuous"
   ]
  },
  {
   "cell_type": "markdown",
   "metadata": {},
   "source": [
    "all the sub arrays of [1,2,3] are:\n",
    "\n",
    "* [1],[1,2],[1,2,3],[2],[2,3],[3]"
   ]
  },
  {
   "cell_type": "code",
   "execution_count": 16,
   "metadata": {},
   "outputs": [
    {
     "name": "stdout",
     "output_type": "stream",
     "text": [
      "[4, 7, -1, 6, -11, 14, 3, -1, -6]\n"
     ]
    }
   ],
   "source": [
    "# Bruit force appraoch where i will find all the subarray's them sum of them then find max  \n",
    "d = {}\n",
    "for i in range(0,len(L)):\n",
    "    subarray = []\n",
    "    for j in range(i, len(L)):\n",
    "        subarray.append(L[j])\n",
    "        d[sum(subarray)] = subarray\n",
    "\n",
    "max_val = max(d.keys())\n",
    "for i in d:\n",
    "    if i == max_val:\n",
    "        print(d[i])"
   ]
  },
  {
   "cell_type": "markdown",
   "metadata": {},
   "source": [
    "### Kadane's Algorithm"
   ]
  },
  {
   "cell_type": "markdown",
   "metadata": {},
   "source": [
    "L = [-2,4,7,-1,6,-11,14,3,-1,-6]\n",
    "\n",
    "\n",
    "Is Kadane's Algorithm algorithm our main focus is:\n",
    "\n",
    "1. Current sum ko track karein (abhi tak ka sum).\n",
    "2. Current subarray ko track karein (abhi tak ka subarray).\n",
    "3. Best sum ko track karein (sabse bada sum).\n",
    "4. Best subarray ko track karein (sabse accha subarray).\n",
    "\n",
    "#### Steps:\n",
    "\n",
    "1. **Step 1:** Start karte hain -2 se. Is waqt:\n",
    "   - Current sum: -2\n",
    "   - Current subarray: [-2]\n",
    "   - Best sum: -2\n",
    "   - Best subarray: [-2]\n",
    "\n",
    "2. **Step 2:** Ab 4 aayega. Iska do option hai:\n",
    "   1. Isko -2 ke saath add karo.\n",
    "   2. Ya akela rehne do.\n",
    "   \n",
    "   Current sum ko bada rakhna hai toh hum -2 ke saath 4 add karenge toh milega 2, par agar 4 ko akela chhod dein toh sum 4 ho jayega, jo zyada hai. Is liye:\n",
    "   - Current sum: 4\n",
    "   - Current subarray: [4]\n",
    "   - Best sum: 4\n",
    "   - Best subarray: [4]\n",
    "\n",
    "3. **Step 3:** Ab 7 aaya. Do option hai:\n",
    "   1. 7 ko 4 ke saath add karo.\n",
    "   2. Ya akela rehne do.\n",
    "   \n",
    "   4 ke saath add karne par sum ho jayega 11 jo ki zyada hai, toh sab kuch update ho jayega:\n",
    "   - Current sum: 11\n",
    "   - Current subarray: [4, 7]\n",
    "   - Best sum: 11\n",
    "   - Best subarray: [4, 7]\n",
    "\n",
    "4. **Step 4:** Ab -1 aaya. Agar hum isko add karein, toh sum ho jayega 10, jo pehle ke best sum 11 se kam hai, lekin current subarray update ho jayega:\n",
    "   - Current sum: 10\n",
    "   - Current subarray: [4, 7, -1]\n",
    "   - Best sum: 11\n",
    "   - Best subarray: [4, 7]\n",
    "\n",
    "5. **Step 5:** Ab 6 aaya, jo add hone par current sum ko 16 bana dega, jo ki best sum se zyada hai:\n",
    "   - Current sum: 16\n",
    "   - Current subarray: [4, 7, -1, 6]\n",
    "   - Best sum: 16\n",
    "   - Best subarray: [4, 7, -1, 6]\n",
    "\n",
    "6. **Step 6:** Ab -11 aaya. Add karne par current sum 5 ho jayega, jo best sum se kam hai, toh best unchanged rahega:\n",
    "   - Current sum: 5\n",
    "   - Current subarray: [4, 7, -1, 6, -11]\n",
    "   - Best sum: 16\n",
    "   - Best subarray: [4, 7, -1, 6]\n",
    "\n",
    "7. **Step 7:** Ab 14 aaya, jisse add karne par sum 19 ho jayega, jo best sum se zyada hai:\n",
    "   - Current sum: 19\n",
    "   - Current subarray: [4, 7, -1, 6, -11, 14]\n",
    "   - Best sum: 19\n",
    "   - Best subarray: [4, 7, -1, 6, -11, 14]\n",
    "\n",
    "8. **Step 8:** Ab 3 aaya, add karne par sum 22 ho jayega:\n",
    "   - Current sum: 22\n",
    "   - Current subarray: [4, 7, -1, 6, -11, 14, 3]\n",
    "   - Best sum: 22\n",
    "   - Best subarray: [4, 7, -1, 6, -11, 14, 3]\n",
    "\n",
    "**Next 2 cases** mein negative numbers hain, toh best sum aur sequence unchanged rahenge. "
   ]
  },
  {
   "cell_type": "code",
   "execution_count": 33,
   "metadata": {},
   "outputs": [
    {
     "name": "stdout",
     "output_type": "stream",
     "text": [
      "22 [4, 7, -1, 6, -11, 14, 3, -1, -6]\n"
     ]
    }
   ],
   "source": [
    "L = [-2,4,7,-1,6,-11,14,3,-1,-6]\n",
    "\n",
    "\n",
    "curr_sum = 0\n",
    "curr_seq = []\n",
    "best_sum = L[0]\n",
    "best_seq = []\n",
    "\n",
    "for i in L:\n",
    "  if i + curr_sum > i:\n",
    "    curr_sum = curr_sum + i\n",
    "    curr_seq.append(i)\n",
    "  else:\n",
    "    curr_sum = i\n",
    "    curr_seq.clear()\n",
    "    curr_seq.append(i)\n",
    "    #   print(curr_seq,curr_sum)\n",
    "\n",
    "  if curr_sum > best_sum:\n",
    "    best_sum = curr_sum\n",
    "    best_seq = curr_seq\n",
    "\n",
    "print(best_sum,best_seq)\n",
    "\n",
    "\n"
   ]
  },
  {
   "cell_type": "code",
   "execution_count": 26,
   "metadata": {},
   "outputs": [
    {
     "data": {
      "text/plain": [
       "-9223372036854775808"
      ]
     },
     "execution_count": 26,
     "metadata": {},
     "output_type": "execute_result"
    }
   ],
   "source": [
    "import sys\n",
    "sys.maxsize # This gives the biggest possible integer\n",
    "-sys.maxsize -1 # This gives the smallest possible integer"
   ]
  },
  {
   "cell_type": "markdown",
   "metadata": {},
   "source": [
    "# Problem 2: Find element with left side smaller/right side greater in an array\n",
    "\n",
    "L = [3,1,2,5,8,7,9]"
   ]
  },
  {
   "cell_type": "markdown",
   "metadata": {},
   "source": [
    "### Appraoch 1: Brute force appraoch"
   ]
  },
  {
   "cell_type": "code",
   "execution_count": 42,
   "metadata": {},
   "outputs": [
    {
     "name": "stdout",
     "output_type": "stream",
     "text": [
      "5\n"
     ]
    }
   ],
   "source": [
    "L = [3,1,5,8,7,9]\n",
    "# first element and last element cannot be our solution so we will start moving from index 1\n",
    "for i in range(1,len(L)-1):\n",
    "    flag = True # agr ye flag end tk true rha to hame hamara number mill gaya wrna hame hamara number nhi mila\n",
    "\n",
    "    for j in range(0,i): # This loop will go from start to i the current element in the initial for loop\n",
    "        if L[j] > L[i]:\n",
    "            flag = False\n",
    "    for k in range(i+1,len(L)): # This loop will go from the currrent index to the end index in the List\n",
    "        if L[k] < L[i]:\n",
    "            flag = False\n",
    "    if flag:\n",
    "        print(L[i])"
   ]
  },
  {
   "cell_type": "markdown",
   "metadata": {},
   "source": [
    "The time complexity of above code is n**2"
   ]
  },
  {
   "cell_type": "markdown",
   "metadata": {},
   "source": [
    "Given a list of numbers, for example:\n",
    "\n",
    "`L = [3, 2, 1, 5, 8, 7, 9]`\n",
    "\n",
    "We want to determine if a particular element from the list can be considered a \"special element\" based on certain conditions.\n",
    "\n",
    "### Approach 2:\n",
    "\n",
    "1. **Choose a Reference Element:** \n",
    "   Select an element from the list to evaluate. For example, let's take the element `5`.\n",
    "\n",
    "2. **Split the List:**\n",
    "   Divide the list into two sublists based on the position of the chosen element `5`:\n",
    "   \n",
    "   - The **left sublist** contains all elements before `5`: \n",
    "     `[3, 2, 1]`\n",
    "   - The **right sublist** contains all elements after `5`: \n",
    "     `[8, 7, 9]`\n",
    "\n",
    "3. **Find the Maximum and Minimum Values:**\n",
    "   - Find the **maximum** value of the left sublist: \n",
    "     `max([3, 2, 1]) = 3`\n",
    "   - Find the **minimum** value of the right sublist: \n",
    "     `min([8, 7, 9]) = 7`\n",
    "\n",
    "4. **Compare with the Reference Element:**\n",
    "   - Check if the maximum value of the left sublist (`3`) is less than the reference element (`5`).\n",
    "   - Check if the minimum value of the right sublist (`7`) is greater than the reference element (`5`).\n",
    "\n",
    "5. **Determine the Special Element:**\n",
    "   - If both conditions are true (`max(left sublist) < reference element < min(right sublist)`), then the reference element (`5`) is considered a special element."
   ]
  },
  {
   "cell_type": "code",
   "execution_count": 43,
   "metadata": {},
   "outputs": [
    {
     "name": "stdout",
     "output_type": "stream",
     "text": [
      "5\n"
     ]
    }
   ],
   "source": [
    "for i in range(1,len(L)-1):\n",
    "    if max(L[:i])<L[i]<min(L[i+1:]): #n+n time complexity\n",
    "        print(L[i])"
   ]
  },
  {
   "cell_type": "markdown",
   "metadata": {},
   "source": [
    "The time complexity of the above list is 2n**2 the reason being we are using internal function min and max and min and max function internally use the loop so the time occupied by them is n for min as well as n for the max"
   ]
  },
  {
   "cell_type": "markdown",
   "metadata": {},
   "source": [
    "### Approach 3: Identifying the Special Element\n",
    "\n",
    "Given the original list:\n",
    "\n",
    "`L = [3, 1, 5, 8, 7, 9]`\n",
    "\n",
    "We aim to determine if an element can be a \"special element\" based on its position and its relative comparison to other elements in the list. To do this, we create two new lists that help us keep track of maximum and minimum values as we traverse the original list from left to right and right to left, respectively.\n",
    "\n",
    "### Step-by-Step Explanation:\n",
    "\n",
    "1. **Create Two Helper Lists:**\n",
    "\n",
    "   - **Left-to-Right Maximum List (`List_1`):** This list stores the maximum value encountered so far when moving from the left to the right of the original list.\n",
    "   - **Right-to-Left Minimum List (`List_2`):** This list stores the minimum value encountered so far when moving from the right to the left of the original list.\n",
    "\n",
    "Given the original list: \n",
    "\n",
    "```\n",
    "Original List: [3, 1, 5, 8, 7, 9]\n",
    "```\n",
    "\n",
    "**Step 1: Create List_1 (Left-to-Right Maximum)**\n",
    "\n",
    "- Start from the left of the original list and keep track of the maximum value encountered so far.\n",
    "  \n",
    "| Index | Original Value | Maximum So Far | List_1 |\n",
    "|-------|----------------|----------------|--------|\n",
    "| 0     | 3              | 3              | [3]    |\n",
    "| 1     | 1              | 3              | [3, 3] |\n",
    "| 2     | 5              | 5              | [3, 3, 5] |\n",
    "| 3     | 8              | 8              | [3, 3, 5, 8] |\n",
    "| 4     | 7              | 8              | [3, 3, 5, 8, 8] |\n",
    "| 5     | 9              | 9              | [3, 3, 5, 8, 8, 9] |\n",
    "\n",
    "**Resulting `List_1`: `[3, 3, 5, 8, 8, 9]`**\n",
    "\n",
    "**Step 2: Create List_2 (Right-to-Left Minimum)**\n",
    "\n",
    "- Start from the right of the original list and keep track of the minimum value encountered so far.\n",
    "\n",
    "| Index | Original Value | Minimum So Far | List_2 |\n",
    "|-------|----------------|----------------|--------|\n",
    "| 5     | 9              | 9              | [9]    |\n",
    "| 4     | 7              | 7              | [7, 9] |\n",
    "| 3     | 8              | 7              | [7, 7, 9] |\n",
    "| 2     | 5              | 5              | [5, 7, 7, 9] |\n",
    "| 1     | 1              | 1              | [1, 5, 7, 7, 9] |\n",
    "| 0     | 3              | 1              | [1, 1, 5, 7, 7, 9] |\n",
    "\n",
    "**Resulting `List_2`: `[1, 1, 5, 7, 7, 9]`**\n",
    "\n",
    "### Step 3: Compare Values at Specific Indexes\n",
    "\n",
    "To find the \"special element,\" we use the following condition:\n",
    "\n",
    "**Condition:**  \n",
    "`List_1[i-1] < Original_List[i] < List_2[i+1]`\n",
    "\n",
    "- For each index `i` of the original list (excluding the first and last elements), check if the value of `Original_List[i]` is greater than the maximum of the left sublist (`List_1[i-1]`) and less than the minimum of the right sublist (`List_2[i+1]`).\n",
    "\n",
    "**Example Calculation for `Original_List[2] = 5`:**\n",
    "\n",
    "- At index `i = 2`:\n",
    "  - `List_1[1] = 3`\n",
    "  - `Original_List[2] = 5`\n",
    "  - `List_2[3] = 7`\n",
    "\n",
    "Since `3 < 5 < 7`, the element `5` meets the condition and is considered a special element.\n",
    "\n",
    "### Diagram for Visual Representation:\n",
    "\n",
    "```\n",
    "Original List:    [ 3,   1,   5,   8,   7,   9 ]\n",
    "                  |     |     |     |     |     |\n",
    "Left-to-Right Max:[ 3,   3,   5,   8,   8,   9 ]\n",
    "                  |     |     |     |     |     |\n",
    "Right-to-Left Min:[ 1,   1,   5,   7,   7,   9 ]\n",
    "\n",
    "Check Condition:  \n",
    "                List_1[i-1] < Original_List[i] < List_2[i+1]\n",
    "                3 < 5 < 7 (True for index 2)\n",
    "```"
   ]
  },
  {
   "cell_type": "code",
   "execution_count": 57,
   "metadata": {},
   "outputs": [
    {
     "name": "stdout",
     "output_type": "stream",
     "text": [
      "[3, 3, 3, 5, 8, 8, 9]\n",
      "[1, 1, 2, 5, 7, 7, 9]\n",
      "5\n"
     ]
    }
   ],
   "source": [
    "L = [3,1,2,5,8,7,9]\n",
    "\n",
    "max_arr = []\n",
    "max_val=L[0]\n",
    "min_val = L[-1]\n",
    "min_arr = []\n",
    "\n",
    "for i in L:\n",
    "  if i>max_val:\n",
    "    max_val = i\n",
    "  max_arr.append(max_val)\n",
    "print(max_arr) # List 1 from our explanation above\n",
    "\n",
    "for i in range(len(L)-1,-1,-1):\n",
    "  if L[i] < min_val:\n",
    "    min_val = L[i]\n",
    "  min_arr.insert(0,min_val) # We have to push everything from the right side i.e the end\n",
    "print(min_arr) # List 2 from our explanation\n",
    "\n",
    "for i in range(len(L)-1):\n",
    "  if max_arr[i-1]<L[i]<min_arr[i+1]: # The logic we agreed on\n",
    "    print(L[i])"
   ]
  },
  {
   "cell_type": "markdown",
   "metadata": {},
   "source": [
    "# Problem 3: Find continous subarray with a given sum(given non-negative numbers) return the starting and ending index of the subarray return 1st subarray in case of multiple\n",
    "\n",
    "### L = [1,22,13,7,9,11,10]\n",
    "\n",
    "### S = 16"
   ]
  },
  {
   "cell_type": "markdown",
   "metadata": {},
   "source": [
    "subarray ka mtlb hi hai ki continuous"
   ]
  },
  {
   "cell_type": "markdown",
   "metadata": {},
   "source": [
    "## Approach 1"
   ]
  },
  {
   "cell_type": "code",
   "execution_count": 98,
   "metadata": {},
   "outputs": [
    {
     "name": "stdout",
     "output_type": "stream",
     "text": [
      "[7, 9]\n"
     ]
    }
   ],
   "source": [
    "L = [1,22,13,7,9,11,10]\n",
    "S = 16\n",
    "\n",
    "for i in range(0,len(L)):\n",
    "  subarray = []\n",
    "  for j in range(i,len(L)):\n",
    "    subarray.append(L[j])\n",
    "    if sum(subarray) == S:\n",
    "      print(subarray)\n",
    "\n",
    "# The time complexity of this code is n**2"
   ]
  },
  {
   "cell_type": "markdown",
   "metadata": {},
   "source": [
    "## Approach 2"
   ]
  },
  {
   "cell_type": "code",
   "execution_count": 100,
   "metadata": {},
   "outputs": [
    {
     "name": "stdout",
     "output_type": "stream",
     "text": [
      "3 4\n"
     ]
    }
   ],
   "source": [
    "L = [1,22,13,7,9,11,10]\n",
    "S = 16\n",
    "\n",
    "d = {}\n",
    "\n",
    "for i in range(len(L)):\n",
    "    curr_sum = curr_sum + L[i]\n",
    "\n",
    "    if (curr_sum-S) in d:\n",
    "        print(d[curr_sum - S]+1,i)\n",
    "        break\n",
    "\n",
    "    d[curr_sum] = i"
   ]
  },
  {
   "cell_type": "markdown",
   "metadata": {},
   "source": [
    "### Problem Statement:\n",
    "\n",
    "You have a list `L = [1, 22, 13, 7, 9, 11, 10]` and a target sum `S = 16`. The goal is to find a subarray within `L` whose sum is equal to `S`. The code uses a dictionary to efficiently find the subarray that meets the criteria.\n",
    "\n",
    "### Code Explanation:\n",
    "\n",
    "```python\n",
    "L = [1, 22, 13, 7, 9, 11, 10]\n",
    "S = 16\n",
    "\n",
    "d = {}  # Dictionary to store cumulative sums and their corresponding indices\n",
    "curr_sum = 0  # Variable to keep track of the current cumulative sum\n",
    "\n",
    "for i in range(len(L)):\n",
    "    curr_sum = curr_sum + L[i]  # Update the current cumulative sum\n",
    "\n",
    "    # Check if the difference between current sum and target sum S is in the dictionary\n",
    "    if (curr_sum - S) in d:\n",
    "        # If it exists, we found a subarray that adds up to S\n",
    "        print(d[curr_sum - S] + 1, i)  # Print the start and end indices of the subarray\n",
    "        break\n",
    "\n",
    "    # Store the current cumulative sum in the dictionary with its index\n",
    "    d[curr_sum] = i\n",
    "```\n",
    "\n",
    "### Step-by-Step Breakdown:\n",
    "\n",
    "1. **Initialization:**\n",
    "   - The list `L` contains elements `[1, 22, 13, 7, 9, 11, 10]`.\n",
    "   - The target sum `S` is `16`.\n",
    "   - An empty dictionary `d` is used to store cumulative sums and their corresponding indices.\n",
    "   - `curr_sum` is initialized to `0` to keep track of the running sum of elements as we iterate through `L`.\n",
    "\n",
    "2. **Iterate Through the List:**\n",
    "\n",
    "   We iterate over each element of `L` using a loop and update `curr_sum` with the current element's value.\n",
    "\n",
    "   **Iteration Process:**\n",
    "\n",
    "   - **Iteration 1 (i = 0):**\n",
    "     - `curr_sum = 0 + 1 = 1`\n",
    "     - Check if `(curr_sum - S) = (1 - 16) = -15` is in `d` → Not found.\n",
    "     - Add `curr_sum` to `d`: `d = {1: 0}`\n",
    "\n",
    "   - **Iteration 2 (i = 1):**\n",
    "     - `curr_sum = 1 + 22 = 23`\n",
    "     - Check if `(curr_sum - S) = (23 - 16) = 7` is in `d` → Not found.\n",
    "     - Add `curr_sum` to `d`: `d = {1: 0, 23: 1}`\n",
    "\n",
    "   - **Iteration 3 (i = 2):**\n",
    "     - `curr_sum = 23 + 13 = 36`\n",
    "     - Check if `(curr_sum - S) = (36 - 16) = 20` is in `d` → Not found.\n",
    "     - Add `curr_sum` to `d`: `d = {1: 0, 23: 1, 36: 2}`\n",
    "\n",
    "   - **Iteration 4 (i = 3):**\n",
    "     - `curr_sum = 36 + 7 = 43`\n",
    "     - Check if `(curr_sum - S) = (43 - 16) = 27` is in `d` → Not found.\n",
    "     - Add `curr_sum` to `d`: `d = {1: 0, 23: 1, 36: 2, 43: 3}`\n",
    "\n",
    "   - **Iteration 5 (i = 4):**\n",
    "     - `curr_sum = 43 + 9 = 52`\n",
    "     - Check if `(curr_sum - S) = (52 - 16) = 36` is in `d` → **Found** at index `2`.\n",
    "     - Print the indices of the subarray: `(d[36] + 1, 4)` which is `(2 + 1, 4)` → `(3, 4)`.\n",
    "\n",
    "### Conclusion:\n",
    "\n",
    "- The code identifies that the subarray from index `3` to `4` (i.e., `[7, 9]`) sums up to the target `16`.\n",
    "- The dictionary `d` helps in efficiently checking if a required sum difference has been seen before, thus allowing quick identification of the subarray.\n",
    "\n",
    "### Visual Representation:\n",
    "\n",
    "```plaintext\n",
    "Original List: [ 1,  22,  13,   7,   9,  11,  10]\n",
    "               |   |    |    |    |    |    |\n",
    "Cumulative Sum: 1  23   36   43   52   63   73\n",
    "               |   |    |    |    |    |    |\n",
    "Target Check:  1  23   36   43   52   63   73\n",
    "                      (36 - 16 = 20)       (Found 36)\n",
    "\n",
    "Matching Subarray: [7, 9] at indices (3, 4)\n",
    "```"
   ]
  },
  {
   "cell_type": "markdown",
   "metadata": {},
   "source": [
    "# Problem 4: Find intersection of 2 sorted arrays\n",
    "\n",
    "#### a = [1,2,3,4,5,8]\n",
    "\n",
    "#### b = [3,6,7,8]"
   ]
  },
  {
   "cell_type": "markdown",
   "metadata": {},
   "source": [
    "## Approach 1"
   ]
  },
  {
   "cell_type": "code",
   "execution_count": 102,
   "metadata": {},
   "outputs": [
    {
     "name": "stdout",
     "output_type": "stream",
     "text": [
      "3\n",
      "8\n"
     ]
    }
   ],
   "source": [
    "a = [1,2,3,4,5,8]\n",
    "b = [3,6,7,8]\n",
    "\n",
    "for i in a:\n",
    "    if i in b:\n",
    "        print(i)"
   ]
  },
  {
   "cell_type": "markdown",
   "metadata": {},
   "source": [
    "## Approach 2"
   ]
  },
  {
   "cell_type": "markdown",
   "metadata": {},
   "source": [
    "### Problem Statement:\n",
    "\n",
    "Given two sorted lists:\n",
    "\n",
    "```\n",
    "List A: [1, 2, 3, 4, 5, 8]\n",
    "List B: [3, 6, 7, 8]\n",
    "```\n",
    "\n",
    "The goal is to find the common elements between these two lists using an efficient two-pointer approach.\n",
    "\n",
    "### Approach Explanation:\n",
    "\n",
    "We will use two pointers, `p1` and `p2`, to traverse both lists simultaneously:\n",
    "\n",
    "- **`p1`**: Points to the current index of List A.\n",
    "- **`p2`**: Points to the current index of List B.\n",
    "\n",
    "### Step-by-Step Execution:\n",
    "\n",
    "1. **Initialization:**\n",
    "   - Start with `p1` at the beginning of List A (index 0) and `p2` at the beginning of List B (index 0).\n",
    "\n",
    "   ```\n",
    "   Initial Positions:\n",
    "   p1 -> List A: [1, 2, 3, 4, 5, 8]\n",
    "   p2 -> List B: [3, 6, 7, 8]\n",
    "   ```\n",
    "\n",
    "2. **Comparison and Movement of Pointers:**\n",
    "\n",
    "   - **Step 1: Compare values at `p1` and `p2`.**\n",
    "     - `p1` points to `1` and `p2` points to `3`.\n",
    "     - Since `1 < 3`, move `p1` to the next position.\n",
    "\n",
    "   ```\n",
    "   p1 -> List A: [2, 3, 4, 5, 8]\n",
    "   p2 -> List B: [3, 6, 7, 8]\n",
    "   ```\n",
    "\n",
    "   - **Step 2: Compare values again.**\n",
    "     - `p1` points to `2` and `p2` points to `3`.\n",
    "     - Since `2 < 3`, move `p1` to the next position.\n",
    "\n",
    "   ```\n",
    "   p1 -> List A: [3, 4, 5, 8]\n",
    "   p2 -> List B: [3, 6, 7, 8]\n",
    "   ```\n",
    "\n",
    "   - **Step 3: Compare values again.**\n",
    "     - `p1` points to `3` and `p2` points to `3`.\n",
    "     - Since both values are equal, `3` is a common element.\n",
    "     - Drag `3` out as a common element and move both `p1` and `p2` forward.\n",
    "\n",
    "   ```\n",
    "   Common Element: 3\n",
    "   p1 -> List A: [4, 5, 8]\n",
    "   p2 -> List B: [6, 7, 8]\n",
    "   ```\n",
    "\n",
    "   - **Step 4: Compare values again.**\n",
    "     - `p1` points to `4` and `p2` points to `6`.\n",
    "     - Since `4 < 6`, move `p1` to the next position.\n",
    "\n",
    "   ```\n",
    "   p1 -> List A: [5, 8]\n",
    "   p2 -> List B: [6, 7, 8]\n",
    "   ```\n",
    "\n",
    "   - **Step 5: Compare values again.**\n",
    "     - `p1` points to `5` and `p2` points to `6`.\n",
    "     - Since `5 < 6`, move `p1` to the next position.\n",
    "\n",
    "   ```\n",
    "   p1 -> List A: [8]\n",
    "   p2 -> List B: [6, 7, 8]\n",
    "   ```\n",
    "\n",
    "   - **Step 6: Compare values again.**\n",
    "     - `p1` points to `8` and `p2` points to `6`.\n",
    "     - Since `6 < 8`, move `p2` to the next position.\n",
    "\n",
    "   ```\n",
    "   p1 -> List A: [8]\n",
    "   p2 -> List B: [7, 8]\n",
    "   ```\n",
    "\n",
    "   - **Step 7: Compare values again.**\n",
    "     - `p1` points to `8` and `p2` points to `7`.\n",
    "     - Since `7 < 8`, move `p2` to the next position.\n",
    "\n",
    "   ```\n",
    "   p1 -> List A: [8]\n",
    "   p2 -> List B: [8]\n",
    "   ```\n",
    "\n",
    "   - **Step 8: Compare values again.**\n",
    "     - `p1` points to `8` and `p2` points to `8`.\n",
    "     - Since both values are equal, `8` is a common element.\n",
    "     - Drag `8` out as a common element and move both `p1` and `p2` forward.\n",
    "\n",
    "   ```\n",
    "   Common Element: 8\n",
    "   p1 -> End of List A\n",
    "   p2 -> End of List B\n",
    "   ```\n",
    "\n",
    "3. **End of Loop:**\n",
    "   - Both pointers have reached the end of their respective lists. The loop ends.\n",
    "\n",
    "### Summary of Common Elements:\n",
    "- The common elements found between the two lists are `[3, 8]`.\n",
    "\n",
    "### Visual Representation:\n",
    "\n",
    "```\n",
    "List A:      [ 1,   2,   3,   4,   5,   8 ]\n",
    "               ↑    ↑    ↑    ↑    ↑    ↑\n",
    "               p1   p1   p1   p1   p1   p1\n",
    "                      ↓    ↓   ↓   ↓   ↓   ↓\n",
    "List B:      [ 3,   6,   7,   8 ]\n",
    "              ↑    ↑    ↑    ↑\n",
    "              p2   p2   p2   p2\n",
    "\n",
    "Pointer Movement:\n",
    "Step 1: 1 < 3  → Move p1\n",
    "Step 2: 2 < 3  → Move p1\n",
    "Step 3: 3 = 3  → Common (3), Move p1 and p2\n",
    "Step 4: 4 < 6  → Move p1\n",
    "Step 5: 5 < 6  → Move p1\n",
    "Step 6: 8 > 6  → Move p2\n",
    "Step 7: 8 > 7  → Move p2\n",
    "Step 8: 8 = 8  → Common (8), Move p1 and p2\n",
    "```"
   ]
  },
  {
   "cell_type": "code",
   "execution_count": 103,
   "metadata": {},
   "outputs": [
    {
     "name": "stdout",
     "output_type": "stream",
     "text": [
      "3\n",
      "8\n"
     ]
    }
   ],
   "source": [
    "a = [1,2,3,4,5,8]\n",
    "b = [3,6,7,8]\n",
    "\n",
    "i = j = 0\n",
    "\n",
    "while i<len(a) and j<len(b):\n",
    "    if a[i] == b[j]:\n",
    "        print(a[i])\n",
    "        i+=1\n",
    "        j+=1\n",
    "    elif a[i] > b[j]:\n",
    "        j+=1\n",
    "    else:\n",
    "        i+=1"
   ]
  },
  {
   "cell_type": "markdown",
   "metadata": {},
   "source": [
    "# Problem 5: Rotate array to left d items\n",
    "\n",
    "### L = [1,2,3,4,5]\n",
    "### rotate = 2"
   ]
  },
  {
   "cell_type": "markdown",
   "metadata": {},
   "source": [
    "### Approach 1:"
   ]
  },
  {
   "cell_type": "code",
   "execution_count": 125,
   "metadata": {},
   "outputs": [],
   "source": [
    "L = [1,2,3,4,5]\n",
    "rotate = 2\n",
    "M = []\n",
    "for i in range(1,rotate+1):\n",
    "    M.append(L[-i])\n",
    "temp = len(L)-rotate\n",
    "for i in range(temp):\n",
    "    M.append(L[i])\n"
   ]
  },
  {
   "cell_type": "code",
   "execution_count": 126,
   "metadata": {},
   "outputs": [
    {
     "data": {
      "text/plain": [
       "[5, 4, 1, 2, 3]"
      ]
     },
     "execution_count": 126,
     "metadata": {},
     "output_type": "execute_result"
    }
   ],
   "source": [
    "M"
   ]
  },
  {
   "cell_type": "markdown",
   "metadata": {},
   "source": [
    "### Approach 2:"
   ]
  },
  {
   "cell_type": "code",
   "execution_count": 128,
   "metadata": {},
   "outputs": [
    {
     "name": "stdout",
     "output_type": "stream",
     "text": [
      "[3, 4, 5, 1, 2]\n"
     ]
    }
   ],
   "source": [
    "L = [1,2,3,4,5]\n",
    "rotate = 2\n",
    "for i in range(rotate):\n",
    "  temp = L[0]\n",
    "  for j in range(0,len(L)-1):\n",
    "    L[j] = L[j+1]\n",
    "  L[len(L)-1] = temp\n",
    "\n",
    "print(L)"
   ]
  },
  {
   "cell_type": "markdown",
   "metadata": {},
   "source": [
    "# Problem 6:  Find duplicates in an array\n",
    "\n",
    "### L = [1,1,2,3,4,4,5,5]"
   ]
  },
  {
   "cell_type": "code",
   "execution_count": 129,
   "metadata": {},
   "outputs": [
    {
     "name": "stdout",
     "output_type": "stream",
     "text": [
      "1\n",
      "4\n",
      "5\n"
     ]
    }
   ],
   "source": [
    "L = [1,1,2,3,4,4,5,5]\n",
    "\n",
    "d = {}\n",
    "\n",
    "for i in L:\n",
    "    if i in d:\n",
    "        d[i] = d[i]+1\n",
    "    else:\n",
    "        d[i]=1\n",
    "\n",
    "for i in d:\n",
    "    if d[i]>1:\n",
    "        print(i)"
   ]
  },
  {
   "cell_type": "code",
   "execution_count": 130,
   "metadata": {},
   "outputs": [
    {
     "data": {
      "text/plain": [
       "{1: 2, 2: 1, 3: 1, 4: 2, 5: 2}"
      ]
     },
     "execution_count": 130,
     "metadata": {},
     "output_type": "execute_result"
    }
   ],
   "source": [
    "d"
   ]
  },
  {
   "cell_type": "markdown",
   "metadata": {},
   "source": [
    "# Problem 7. Find the first element to occur k times in an array\n",
    "\n",
    "### L = [1,1,2,3,4,4,5,5]\n",
    "\n",
    "### k = 2"
   ]
  },
  {
   "cell_type": "code",
   "execution_count": 132,
   "metadata": {},
   "outputs": [
    {
     "name": "stdout",
     "output_type": "stream",
     "text": [
      "1\n"
     ]
    }
   ],
   "source": [
    "L = [1,1,2,3,4,4,5,5]\n",
    "\n",
    "k = 2\n",
    "\n",
    "d = {}\n",
    "\n",
    "for i in L:\n",
    "  if i in d:\n",
    "    d[i] = d[i] + 1\n",
    "  else:\n",
    "    d[i] = 1\n",
    "\n",
    "for i in d:\n",
    "  if d[i] == k:\n",
    "    print(i)\n",
    "    break"
   ]
  },
  {
   "cell_type": "markdown",
   "metadata": {},
   "source": [
    "# Problem 8. Find Min/Max in a given array"
   ]
  },
  {
   "cell_type": "code",
   "execution_count": 133,
   "metadata": {},
   "outputs": [
    {
     "name": "stdout",
     "output_type": "stream",
     "text": [
      "54\n"
     ]
    }
   ],
   "source": [
    "L = [21,1,34,23,54,11,10]\n",
    "\n",
    "max_val = L[0]\n",
    "\n",
    "for i in L:\n",
    "  if i > max_val:\n",
    "    max_val = i\n",
    "\n",
    "print(max_val)"
   ]
  },
  {
   "cell_type": "markdown",
   "metadata": {},
   "source": [
    "# Problem 9. Check if an array is sorted"
   ]
  },
  {
   "cell_type": "code",
   "execution_count": 134,
   "metadata": {},
   "outputs": [
    {
     "name": "stdout",
     "output_type": "stream",
     "text": [
      "sorted\n"
     ]
    }
   ],
   "source": [
    "L = [1,2,3,4,5]\n",
    "\n",
    "flag = True\n",
    "\n",
    "for i in range(0,len(L)-1):\n",
    "  if L[i] > L[i+1]:\n",
    "    flag = False\n",
    "\n",
    "if flag:\n",
    "  print('sorted')\n",
    "else:\n",
    "  print('not sorted')"
   ]
  },
  {
   "cell_type": "markdown",
   "metadata": {},
   "source": [
    "# Problem 10. Find the kth largest/smallest item from a list"
   ]
  },
  {
   "cell_type": "code",
   "execution_count": 135,
   "metadata": {},
   "outputs": [
    {
     "name": "stdout",
     "output_type": "stream",
     "text": [
      "23\n"
     ]
    }
   ],
   "source": [
    "L = [12,23,1,4,56,34,22,3]\n",
    "k=3\n",
    "\n",
    "L.sort(reverse=True)\n",
    "print(L[k-1])"
   ]
  },
  {
   "cell_type": "code",
   "execution_count": null,
   "metadata": {},
   "outputs": [],
   "source": []
  }
 ],
 "metadata": {
  "kernelspec": {
   "display_name": "Python 3",
   "language": "python",
   "name": "python3"
  },
  "language_info": {
   "codemirror_mode": {
    "name": "ipython",
    "version": 3
   },
   "file_extension": ".py",
   "mimetype": "text/x-python",
   "name": "python",
   "nbconvert_exporter": "python",
   "pygments_lexer": "ipython3",
   "version": "3.10.9"
  }
 },
 "nbformat": 4,
 "nbformat_minor": 2
}
