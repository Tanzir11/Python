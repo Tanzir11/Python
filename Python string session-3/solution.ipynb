{
 "cells": [
  {
   "cell_type": "markdown",
   "metadata": {},
   "source": [
    "### ```Problem 1``` Count the frequency of a particular character in a provided string. \n",
    "***Eg 'hello how are you' is the string, the frequency of h in this string is 2.***\n"
   ]
  },
  {
   "cell_type": "code",
   "execution_count": 1,
   "metadata": {},
   "outputs": [
    {
     "data": {
      "text/plain": [
       "2"
      ]
     },
     "execution_count": 1,
     "metadata": {},
     "output_type": "execute_result"
    }
   ],
   "source": [
    "s = \"hello how are you\"\n",
    "s.count('h')"
   ]
  },
  {
   "cell_type": "markdown",
   "metadata": {},
   "source": [
    "### ```Problem 2``` Write a program which can remove a particular character f"
   ]
  },
  {
   "cell_type": "code",
   "execution_count": 6,
   "metadata": {},
   "outputs": [
    {
     "data": {
      "text/plain": [
       "'For  uck sake i need to do something else other then this'"
      ]
     },
     "execution_count": 6,
     "metadata": {},
     "output_type": "execute_result"
    }
   ],
   "source": [
    "s = 'For fuck sake i need to do something else other then this'\n",
    "a = s.split('f')\n",
    "\" \".join(a)"
   ]
  },
  {
   "cell_type": "markdown",
   "metadata": {},
   "source": [
    "### ```problem 3``` Write a program that can check whether a given string is palindrome or not.\n",
    "* abba\n",
    "* malayalam"
   ]
  },
  {
   "cell_type": "code",
   "execution_count": 12,
   "metadata": {},
   "outputs": [],
   "source": [
    "def palindrome(string):\n",
    "    if string == string[::-1]:\n",
    "        print(\"Pallendrome\")\n",
    "    else:\n",
    "        print(\"not\")"
   ]
  },
  {
   "cell_type": "code",
   "execution_count": 13,
   "metadata": {},
   "outputs": [
    {
     "name": "stdout",
     "output_type": "stream",
     "text": [
      "Pallendrome\n"
     ]
    }
   ],
   "source": [
    "palindrome(\"abba\")"
   ]
  },
  {
   "cell_type": "code",
   "execution_count": 14,
   "metadata": {},
   "outputs": [
    {
     "name": "stdout",
     "output_type": "stream",
     "text": [
      "Pallendrome\n"
     ]
    }
   ],
   "source": [
    "palindrome(\"malayalam\")"
   ]
  },
  {
   "cell_type": "code",
   "execution_count": 15,
   "metadata": {},
   "outputs": [
    {
     "name": "stdout",
     "output_type": "stream",
     "text": [
      "not\n"
     ]
    }
   ],
   "source": [
    "palindrome(\"hihe\")"
   ]
  },
  {
   "cell_type": "markdown",
   "metadata": {},
   "source": [
    "### ```Problem 4``` Write a program to count the number of words in a string without split()"
   ]
  },
  {
   "cell_type": "code",
   "execution_count": 19,
   "metadata": {},
   "outputs": [],
   "source": [
    "a = \"some string that i will have to count the number of words just adding a bunch of words\"\n",
    "some_data = sorted(a)\n",
    "j=2\n",
    "for i in range(1,len(some_data)):\n",
    "    if some_data[i] == ' ':\n",
    "        j+=1\n",
    "    else:\n",
    "        pass"
   ]
  },
  {
   "cell_type": "code",
   "execution_count": 20,
   "metadata": {},
   "outputs": [
    {
     "data": {
      "text/plain": [
       "18"
      ]
     },
     "execution_count": 20,
     "metadata": {},
     "output_type": "execute_result"
    }
   ],
   "source": [
    "j"
   ]
  },
  {
   "cell_type": "code",
   "execution_count": 26,
   "metadata": {},
   "outputs": [
    {
     "name": "stdout",
     "output_type": "stream",
     "text": [
      "18\n"
     ]
    }
   ],
   "source": [
    "word_count = 0\n",
    "in_word = False\n",
    "for char in a:\n",
    "    if char != ' ':  # If the character is not a space, we are in a word\n",
    "        if not in_word:  # If we weren't in a word before, this is the start of a new word\n",
    "            word_count += 1\n",
    "            in_word = True\n",
    "    else:\n",
    "        in_word = False  # If the character is a space, we are not in a word\n",
    "print(word_count)"
   ]
  },
  {
   "cell_type": "markdown",
   "metadata": {},
   "source": [
    "### ```Problem 5```  Write a program that can convert an integer to string."
   ]
  },
  {
   "cell_type": "code",
   "execution_count": 27,
   "metadata": {},
   "outputs": [
    {
     "data": {
      "text/plain": [
       "'123'"
      ]
     },
     "execution_count": 27,
     "metadata": {},
     "output_type": "execute_result"
    }
   ],
   "source": [
    "a = 123\n",
    "str(123)"
   ]
  },
  {
   "cell_type": "markdown",
   "metadata": {},
   "source": [
    "### ```Problem 6``` Find the length of a given string without using the len() function\n"
   ]
  },
  {
   "cell_type": "code",
   "execution_count": 34,
   "metadata": {},
   "outputs": [
    {
     "name": "stdout",
     "output_type": "stream",
     "text": [
      "42\n"
     ]
    }
   ],
   "source": [
    "a = \"Need to calculate the length of the string\"\n",
    "\n",
    "count = 0\n",
    "for char in a:\n",
    "    count+=1\n",
    "print(count)"
   ]
  },
  {
   "cell_type": "markdown",
   "metadata": {},
   "source": [
    "### **Problem 7:** Create Short Form from initial character\n",
    "Given a string create short form ofthe string from Initial character. Short form should be capitalised.\n",
    "\n",
    "Example:\n",
    "\n",
    "`Input:`\n",
    "```\n",
    "Data science mentorship program\n",
    "```\n",
    "\n",
    "`Output:`\n",
    "```\n",
    "DSMP\n",
    "```"
   ]
  },
  {
   "cell_type": "code",
   "execution_count": 2,
   "metadata": {},
   "outputs": [],
   "source": [
    "string = \"Data science mentorship program\"\n",
    "list_string = string.split()\n",
    "strint_short = ''\n",
    "for items in list_string:\n",
    "    strint_short += items[0][0].capitalize()"
   ]
  },
  {
   "cell_type": "code",
   "execution_count": 3,
   "metadata": {},
   "outputs": [
    {
     "data": {
      "text/plain": [
       "'DSMP'"
      ]
     },
     "execution_count": 3,
     "metadata": {},
     "output_type": "execute_result"
    }
   ],
   "source": [
    "strint_short"
   ]
  },
  {
   "cell_type": "markdown",
   "metadata": {},
   "source": [
    "### `Problem 8`: Append second string in the middle of first string\n",
    "\n",
    "`Input:`\n",
    "```\n",
    "campusx\n",
    "data\n",
    "```\n",
    "`Output`:\n",
    "\n",
    "```\n",
    "camdatapusx\n",
    "```"
   ]
  },
  {
   "cell_type": "code",
   "execution_count": 10,
   "metadata": {},
   "outputs": [
    {
     "data": {
      "text/plain": [
       "11"
      ]
     },
     "execution_count": 10,
     "metadata": {},
     "output_type": "execute_result"
    }
   ],
   "source": [
    "string_1 = \"campusxdata\"\n",
    "len(string_1)"
   ]
  },
  {
   "cell_type": "code",
   "execution_count": 33,
   "metadata": {},
   "outputs": [],
   "source": [
    "string_1 = \"campusxdata\"\n",
    "string_2 = \"data\"\n",
    "\n",
    "if len(string_1)%2 == 0:\n",
    "    new_string = string_1[0:len(string_1)/2+1] + string_2 + string_1[len(string_1)/2+1:]  \n",
    "else:\n",
    "    new_string = string_1[:int((len(string_1)+1)/2)] + string_2 + string_1[int((len(string_1)+1)/2):]"
   ]
  },
  {
   "cell_type": "code",
   "execution_count": 34,
   "metadata": {},
   "outputs": [
    {
     "data": {
      "text/plain": [
       "'campusdataxdata'"
      ]
     },
     "execution_count": 34,
     "metadata": {},
     "output_type": "execute_result"
    }
   ],
   "source": [
    "new_string"
   ]
  },
  {
   "cell_type": "markdown",
   "metadata": {},
   "source": [
    "### ``Problem 9``:Given string contains a combination of the lower and upper case letters. Write a program to arrange the characters of a string so that all lowercase letters should come first.\n",
    "\n",
    "Given:\n",
    "\n",
    "`str1 = PyNaTive`\n",
    "\n",
    "Expected Output:\n",
    "\n",
    "`yaivePNT`"
   ]
  },
  {
   "cell_type": "code",
   "execution_count": 46,
   "metadata": {},
   "outputs": [
    {
     "data": {
      "text/plain": [
       "'yvieaTPN'"
      ]
     },
     "execution_count": 46,
     "metadata": {},
     "output_type": "execute_result"
    }
   ],
   "source": [
    "str1 = 'PyNaTive'\n",
    "\n",
    "data = sorted(str1)\n",
    "new_data = \"\".join(data)\n",
    "new_data[::-1]"
   ]
  },
  {
   "cell_type": "markdown",
   "metadata": {},
   "source": [
    "### `Problem 10:`Take a alphanumeric string input and print the sum and average of the digits that appear in the string, ignoring all other characters.\n",
    "\n",
    "Input:\n",
    "\n",
    "`hel123O4every093`\n",
    "\n",
    "Output:\n",
    "\n",
    "```\n",
    "Sum: 22\n",
    "Avg: 2.75\n",
    "```"
   ]
  },
  {
   "cell_type": "code",
   "execution_count": 80,
   "metadata": {},
   "outputs": [],
   "source": [
    "alpha_numberic = \"hel12304every093\""
   ]
  },
  {
   "cell_type": "code",
   "execution_count": 101,
   "metadata": {},
   "outputs": [],
   "source": [
    "dict = {}\n",
    "sum=0\n",
    "count_1 = 0\n",
    "alpha_numberic = \"hel12304every093\"\n",
    "for i in range(0,len(alpha_numberic)+1):\n",
    "    index = alpha_numberic.find(f'{i}')\n",
    "    if index >= 0:\n",
    "        count = alpha_numberic.count(f'{i}')\n",
    "        dict.update({alpha_numberic[index]:count})\n",
    "for key, value in dict.items():\n",
    "    sum = sum + int(key)*value\n",
    "    count_1 += value\n",
    "    average = sum/count_1\n",
    "    "
   ]
  },
  {
   "cell_type": "code",
   "execution_count": 103,
   "metadata": {},
   "outputs": [
    {
     "data": {
      "text/plain": [
       "(22, 2.75)"
      ]
     },
     "execution_count": 103,
     "metadata": {},
     "output_type": "execute_result"
    }
   ],
   "source": [
    "sum, average"
   ]
  },
  {
   "cell_type": "markdown",
   "metadata": {},
   "source": [
    "### `Problem 11:` Removal of all characters from a string except integers\n",
    "`Given:`\n",
    "\n",
    "```\n",
    "str1 = 'I am 25 years and 10 months old'\n",
    "```\n",
    "`Expected Output:`\n",
    "```\n",
    "2510\n",
    "```"
   ]
  },
  {
   "cell_type": "code",
   "execution_count": 109,
   "metadata": {},
   "outputs": [
    {
     "name": "stdout",
     "output_type": "stream",
     "text": [
      "2510\n"
     ]
    }
   ],
   "source": [
    "str1 = 'I am 25 years and 10 months old'\n",
    "x = str1.split()\n",
    "a = ''\n",
    "for item in x:\n",
    "    if item.isdigit() == True:\n",
    "        a += item\n",
    "\n",
    "print(int(a))"
   ]
  },
  {
   "cell_type": "markdown",
   "metadata": {},
   "source": [
    "### `Problem 12`: Check whether the string is Symmetrical.\n",
    "\n",
    "**Statement:** Given a string. the task is to check if the string is symmetrical or not. A string is said to be symmetrical if both the halves of the string are the same.\n",
    "\n",
    "**Example 1:**\n",
    "\n",
    "`Input`\n",
    "\n",
    "```bash\n",
    "khokho\n",
    "```\n",
    "\n",
    "`Output`\n",
    "\n",
    "```bash\n",
    "The entered string is symmetrical\n",
    "```"
   ]
  },
  {
   "cell_type": "code",
   "execution_count": 9,
   "metadata": {},
   "outputs": [
    {
     "name": "stdout",
     "output_type": "stream",
     "text": [
      "It's not\n"
     ]
    }
   ],
   "source": [
    "data = input(\"Enter the word\")\n",
    "if data[:int(len(data)/2)] == data[int(len(data)/2):]:\n",
    "    print(\"The entered string is symmetric\")\n",
    "else:\n",
    "    print(\"It's not\")"
   ]
  },
  {
   "cell_type": "markdown",
   "metadata": {},
   "source": [
    "### `Problem 13`: Reverse words in a given String\n",
    "\n",
    "**Statement:** We are given a string and we need to reverse words of a given string.\n",
    "\n",
    "**Example 1:**\n",
    "\n",
    "`Input:`\n",
    "\n",
    "```bash\n",
    "geeks quiz practice code\n",
    "```\n",
    "\n",
    "`Output:`\n",
    "\n",
    "```bash\n",
    "code practice quiz geeks\n",
    "```\n",
    "\n",
    "**Example 2:**\n",
    "\n",
    "`Input:`\n",
    "\n",
    "```bash\n",
    "my name is laxmi\n",
    "```\n",
    "\n",
    "`Output:`\n",
    "\n",
    "```bash\n",
    "laxmi is name my\n",
    "```"
   ]
  },
  {
   "cell_type": "code",
   "execution_count": 112,
   "metadata": {},
   "outputs": [
    {
     "data": {
      "text/plain": [
       "'laxmi is name my'"
      ]
     },
     "execution_count": 112,
     "metadata": {},
     "output_type": "execute_result"
    }
   ],
   "source": [
    "data = \"my name is laxmi\"\n",
    "lis_str = data.split()\n",
    "reverse_data = lis_str[::-1]\n",
    "\" \".join(reverse_data)"
   ]
  },
  {
   "cell_type": "markdown",
   "metadata": {},
   "source": [
    "### `Problem 14`: Find uncommon words from two Strings.\n",
    "\n",
    "**Statement:** Given two sentences as strings **A** and **B**. The task is to return a list of all uncommon words. A word is uncommon if it appears exactly once in any one of the sentences, and does not appear in the other sentence. Note: A sentence is a string of space-separated words. Each word consists only of lowercase letters.\n",
    "\n",
    "**Example 1:**\n",
    "\n",
    "`Input:`\n",
    "\n",
    "```bash\n",
    "A = \"apple banana mango\"\n",
    "B = \"banana fruits mango\"\n",
    "```\n",
    "\n",
    "`Output:`\n",
    "\n",
    "```bash\n",
    "['apple', 'fruits']\n",
    "```"
   ]
  },
  {
   "cell_type": "code",
   "execution_count": 16,
   "metadata": {},
   "outputs": [],
   "source": [
    "x = []\n",
    "A = \"apple banana mango\"\n",
    "B = \"banana fruits mango\"\n",
    "c = A.split()\n",
    "d = B.split()\n",
    "for item in c:\n",
    "    for items in d:\n",
    "        if item == items:\n",
    "            x.append(item)\n",
    "        else:\n",
    "            pass"
   ]
  },
  {
   "cell_type": "code",
   "execution_count": 17,
   "metadata": {},
   "outputs": [
    {
     "data": {
      "text/plain": [
       "['banana', 'mango']"
      ]
     },
     "execution_count": 17,
     "metadata": {},
     "output_type": "execute_result"
    }
   ],
   "source": [
    "x"
   ]
  },
  {
   "cell_type": "markdown",
   "metadata": {},
   "source": [
    "### `Problem 15`: Word location in String.\n",
    "\n",
    "**Statement:** Find a location of a word in a given sentence.\n",
    "\n",
    "**Example 1:**\n",
    "\n",
    "`Input:`\n",
    "\n",
    "```bash\n",
    "Sentence: We can learn data science through campusx mentorship program.\n",
    "\n",
    "word: campusx\n",
    "```\n",
    "\n",
    "`Output:`\n",
    "\n",
    "```bash\n",
    "Location of the word is 7.\n",
    "```\n",
    "\n",
    "Note- Don't use index/find functions"
   ]
  },
  {
   "cell_type": "code",
   "execution_count": 26,
   "metadata": {},
   "outputs": [
    {
     "name": "stdout",
     "output_type": "stream",
     "text": [
      "Location of the word is 7\n"
     ]
    }
   ],
   "source": [
    "Sentence =  \"We can learn data science through campusx mentorship program.\"\n",
    "word = \"campusx\"\n",
    "loc = 0\n",
    "lis = Sentence.split()\n",
    "for item in lis:\n",
    "    loc+=1\n",
    "    if \"campusx\" == item:\n",
    "        print(\"Location of the word is\", loc)\n",
    "    else:\n",
    "        pass\n"
   ]
  },
  {
   "cell_type": "markdown",
   "metadata": {},
   "source": [
    "### `Problem 27`: Write a program that can remove all the duplicate characters from a string. User will provide the input."
   ]
  },
  {
   "cell_type": "code",
   "execution_count": 102,
   "metadata": {},
   "outputs": [],
   "source": [
    "str_info = input(\"Please Enter the word\")\n",
    "\n",
    "y = []\n",
    "n=''\n",
    "for x in str_info:\n",
    "    a = n.find(x)\n",
    "    if a == -1:\n",
    "        n = n + x\n",
    "    else:\n",
    "        pass\n",
    "                "
   ]
  }
 ],
 "metadata": {
  "kernelspec": {
   "display_name": "Python 3",
   "language": "python",
   "name": "python3"
  },
  "language_info": {
   "codemirror_mode": {
    "name": "ipython",
    "version": 3
   },
   "file_extension": ".py",
   "mimetype": "text/x-python",
   "name": "python",
   "nbconvert_exporter": "python",
   "pygments_lexer": "ipython3",
   "version": "3.10.9"
  }
 },
 "nbformat": 4,
 "nbformat_minor": 2
}
